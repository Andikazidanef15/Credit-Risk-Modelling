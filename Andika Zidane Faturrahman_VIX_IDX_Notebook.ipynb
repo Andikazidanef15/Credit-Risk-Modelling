{
  "cells": [
    {
      "cell_type": "markdown",
      "metadata": {
        "id": "oerctkQY4y7K"
      },
      "source": [
        "# FINAL PROJECT : CREDIT RISK DETECTION\n",
        "\n",
        "\n",
        "---\n",
        "\n",
        "Oleh **Andika Zidane Faturrahman** \n",
        "\n",
        "Pada notebook ini, akan dijelaskan langkah-langkah pengerjaan proyek credit risk detection\n"
      ]
    },
    {
      "cell_type": "markdown",
      "metadata": {
        "id": "N3oVHjKdEUlf"
      },
      "source": [
        "# Libraries yang digunakan"
      ]
    },
    {
      "cell_type": "code",
      "execution_count": 162,
      "metadata": {
        "id": "ZIMc1UfFEXXW"
      },
      "outputs": [],
      "source": [
        "# Import Data\n",
        "import pandas as pd\n",
        "\n",
        "# Import \n",
        "import numpy as np\n",
        "import seaborn as sns\n",
        "import matplotlib.pyplot as plt\n",
        "plt.style.use('bmh')\n",
        "\n",
        "\n",
        "from sklearn.model_selection import train_test_split, RandomizedSearchCV, RepeatedStratifiedKFold, StratifiedKFold, cross_val_score\n",
        "from sklearn.linear_model import LogisticRegression\n",
        "from sklearn.svm import LinearSVC, SVC\n",
        "from sklearn.discriminant_analysis import LinearDiscriminantAnalysis\n",
        "from sklearn.tree import DecisionTreeClassifier\n",
        "from sklearn.ensemble import RandomForestClassifier\n",
        "import xgboost as xgb\n",
        "\n",
        "from sklearn.feature_selection import RFECV, RFE, SelectKBest, f_classif\n",
        "from sklearn.pipeline import Pipeline, FeatureUnion\n",
        "from sklearn.metrics import classification_report, confusion_matrix, roc_auc_score, roc_curve\n",
        "from sklearn.preprocessing import StandardScaler, MinMaxScaler, OneHotEncoder, LabelEncoder\n",
        "\n",
        "from imblearn.over_sampling import SMOTE\n",
        "from imblearn.under_sampling import RandomUnderSampler\n",
        "from imblearn.pipeline import Pipeline"
      ]
    },
    {
      "cell_type": "markdown",
      "metadata": {
        "id": "6YiR2_Xg5AW_"
      },
      "source": [
        "# Business Understanding\n",
        "\n",
        "Sebagai tugas akhir dari masa kontrak saya sebagai intern Data Scientist di ID/X Partners, kali ini saya akan dilibatkan dalam projek dari sebuah lending company.Saya akan berkolaborasi dengan berbagai departemen lain dalam projek ini untuk menyediakan solusi teknologi bagi company tersebut. Saya diminta untuk membangun model yang dapat memprediksi credit risk menggunakan dataset yang disediakan oleh company yang terdiri dari data pinjaman yang diterima dan yang ditolak. \n",
        "\n",
        "Sebelum maju ke bagian analitik, akan dijelaskan terlebih dahulu apa itu credit risk modeling. Credit risk modeling adalah pemodelan yang dilakukan untuk menentukan risiko memberikan pinjaman kepada peminjam berdasarkan informasi/track record peminjam tersebut. Ada dua tipe risiko yang dihadapi oleh perusahaan pinjaman, yakni :    \n",
        "\n",
        "* Peminjam dapat mengembalikan pinjamannya sesuai dengan tenggat waktu yang diberikan. Apabila pinjamannya tidak disetujui, maka perusahaan tersebut akan rugi sebesar bunga dan biaya jasa yang ditetapkan kepada peminjam tersebut. \n",
        "* Peminjam tidak dapat mengembalikan pinjamannya sesuai dengan tenggat waktu yang diberikan (Secara umum disebut *default*). Apabila pinjamannya disetujui, maka perusahaan akan rugi sebesar pinjaman, bunga dan biaya jasa yang ditetapkan kepada peminjam tersebut.\n",
        "\n",
        "Harapannya, dengan bantuan model machine learning, kesalahan untuk memberikan/menahan pinjaman dapat ditekan secara maksimal. "
      ]
    },
    {
      "cell_type": "markdown",
      "metadata": {
        "id": "cGVD0hYf6so8"
      },
      "source": [
        "# Analytical Approach\n",
        "\n",
        "Pada bagian ini, akan dijelaskan apa yang akan saya lakukan untuk menyelesaikan permasalahan yang telah didefinisikan di bagian *business understanding*. Ada 3 sub bagian yang akan dijelaskan yakni :    \n",
        "* Perumusan solusi \n",
        "* Menilai kelayakan solusi-solusi\n",
        "* Menentukan milestones/target-target kecil\n"
      ]
    },
    {
      "cell_type": "markdown",
      "metadata": {
        "id": "85bjwW108DrL"
      },
      "source": [
        "## Perumusan Solusi\n",
        "\n",
        "Permasalahannya adalah prediksi apakah peminjam dapat mengembalikan pinjamannya atau tidak, maka dari itu model machine learning yang akan digunakan adalah model supervised learning untuk kasus klasifikasi. Akan diuji beberapa model klasifikasi sebagai berikut :    \n",
        "\n",
        "* Logistic Regression\n",
        "* Support Vector Machine (SVM) Classifier\n",
        "* Linear Discriminant Analysis (LDA) Classifier\n",
        "* Decision Tree Classifier\n",
        "* Random Forest Classifier\n",
        "\n",
        "Sebelum menggunakan model tersebut, perlu diperhatikan data yang akan digunakan untuk pemodelan ini, ada 4 jenis pendekatan analitik yang akan dilakukan yakni,\n",
        "\n",
        "1. Analisis Deskriptif : Melihat summary statistics dari data tersebut berupa persebaran nilai target (loan_status), persebaran missing values yang ada di data tersebut, dll. \n",
        "2. Analisis Diagnostik : Melihat hubungan sebab akibat dari informasi peminjam terhadap apakah peminjam default atau tidak. \n",
        "\n",
        "Kedua bagian di atas akan dijelaskan di sub-bagian Exploratory Data Analysis (EDA) pada bagian Data Understanding, \n",
        "\n",
        "3. Analisis Prediktif : Memprediksi peminjam default atau tidak dengan menggunakan model machine learning\n",
        "\n",
        "\n",
        "\n",
        "\n"
      ]
    },
    {
      "cell_type": "markdown",
      "metadata": {
        "id": "8BQ2YxMm-t2i"
      },
      "source": [
        "## Menilai kelayakan solusi-solusi\n",
        "\n",
        "Untuk menilai model klasifikasi yang terbaik dalam memprediksi default/tidak default, maka akan dilihat skor AUC-ROC.\n",
        "\n",
        "**Area Under Curve - Receiver Operating Characteristics** (biasa disingkat AOC-ROC) adalah suatu kurva yang menggambarkan performa model dalam memprediksi variabel target. ROC adalah kurva peluangnya dan AUC menyatakan derajat separasi, digunakan untuk melihat seberapa bagus model melakukan klasifikasi variabel target. Semakin tinggi skor AUC, maka semakin baik model memprediksi variabel target tersebut. Berikut adalah kurva AOC-ROC\n",
        "\n",
        "![image.png](data:image/png;base64,iVBORw0KGgoAAAANSUhEUgAAAWkAAAFKCAIAAABQITmBAAAPpElEQVR4nO3dMW8bRxqA4W8D/wshQBCQLg6qLo1AiVekow4Q3PhgXJOOQhqLDTuX7tRQagKpcxMY5+Yg4KQuRQQTrq4iXJhCcEDg38Erllwul8sldzi7O/PN+8CFTI7kdcEXszNDKprNZgIAJX3T9AUA8BLtAGCCdgAwQTsAmKAdAEzQDgAmaAcAE7QDgAnaAcAE7QBggnYAMEE7AJigHQBMuNiOaKHpCwFC9MPjN7u8+p7VcCkAnPXDY3YC8d+/zf76O+0AsGo9Fmk7hkNoB6BbcSky4nBcRb/vMph2AKqUikUsjkW32318fNz9u2gH4LeyscidVpQNh9AOwC/G04oCBuEQ2gE4zsq0ooBZOIR2AK6pOhYZZuEQ2gE0q4p7kHrQDqBWNU8rchnfp6TRDqBaLsQizUo4hHYAdrlWigxb4RDaAezJ8VikWQyH0A6gLI9ikWY3HEI7gK1KxcKRUmRYD4fQDmCdglikVREOoR2AqItFWkXhENqBMCmORVp14RDagUAEEou0SsMhtANaBRiLtKrDIbQDmgTei0QN4RDaAa8Ri3X1hENoB7yzey8CiUVGPeEQ2gH3EQs30Q64iF6UUtt9ShrtgCt27AWxyGgkHEI70Cx6saemwiG0AzXjZsSiBsMhbv4ua188XR1H646vnvIGP5zvNm5t5MZxXvnh8Zv4T8GYq+j39J/ars1TzYZDRKLZbNbgP58r+R3cDl5b2tPVcXswznumM5p+vGgt/vZwHp3e5v+I/v3sprf864aRqz/OG7tMMWiEmRrCcXJyUjyAecf+OqPpLDYddUREZDy4fJg/+XR1PM/Bcthsdt+Pn709PV8MTI2U/n0ycvEjPZHMLwrCweRiT43POGKsd9jUunjTH5zeisjky5P0WiIPl/OZSf8+PXXo3UxHk/ZgLHL79mrYu1gdmZ6LtC4+zi5q/U+UxvyiTo6EQ2hHVQ6ft0REHv69mHMMe6sDWn//R2cwHouMP09FWslI6b/IjHTV1mTQC+vcCYfQDrsezud3HfMAPH2ZxE/MU5LWen4oMpb5FEUWI51PB8loilPhENphw3jQjgapv3dG0xvHA1ASvWica+EQ2mGdp3siubZuqdZ2JYFzMBzCPosN8w2UeEdkPGgvT2S0nh/GX0y+rB3SWL2fKRpZt+KNErZIauZmOIR2WNS6eBfvp6Z2aNt/mW/a/us/mSQst1XiBY5k5PKba1aQDHZVm+JsOIR2WNW6eBOf27h9O596JI+MB+3lSY6VQx/zDZhkpNyerhwlfTiPovMKc7JLMqr711HM2XAI7bCs92KRisXsoXezPAeWnDNv5x366N0sj5a1l2fSNx1J3RPJcFm32236ErajHXb1hvPXfzL1kN5N3unQ/v1sNstsx7QuPi6PnC50RtPsuD2QDPe5fJ+SxvtZQlGw9lnzlaCAO+HY+n4W9miVIxkecSccu6AdOhW/Fa3OK8GO/AqH0A59mGj4yLtwCO3QZNMKaP1XglJ8DIfQDgWYaHjN03AI7fAa1fCdv+EQ2uEpbk8U8DocQju8QzV08D0cQjs8QjXUUBAOoR1eoBqa6AiH0A7HUQ1l1IRDaIezqIZKasIhtMNBVANe4D34blkPB++L950XH8ZhgHmHK3Kr0ciVwCJNCxwZtKN5VEMrxeEQ7lkaRzi00h0OYd7RIKqhmPpwCO1oSiYcVEOTEMIhtKN+TDd0CyQcQjtqxnRDt3DCIayV1olw6BZUOIR5Rz2ohnqhhUOYd9SAcKgXYDiEdlSNcKgXZjiEe5ZKpcNBNVQKNhxCOyrCdCMQwYZDuGepAuFACGiHZYRDPa3vqS+LdthEONQLeYEjg/UOa1gZVY9wpDHvsINwqEc4MmiHBYRDPcKxjnbsi3CoRzhy0Y69EA71CMcmtMMc4VCPcBSgHYYIh3qEoxjtMEE41CMcW9EOIItw7IJ2lMakQzfCsSPaUQ7h0I1w7I52lEA4dCMcpdCOXREO9QhHKbSjNMIBCO3Y0fovZIIOfBiHMV4S23G3ohULHPugHSUQDk0Ix55oxxbJpINwaEI49kc7irDMoRLhsILXxkYsc6hEOGyhHdsRDjUIh0W0Ix93K/oQDrt4heTgbkUfwmEd7ShCOHQgHFWgHVncrShDOCrC62QjJh0KEI7q0I4VTDo0IRyV4qWSj0mHAoSjUrRjiePnwO5oxxx3Kzrwnvra8ILJYtLhLxY46kQ7RJh0qEA4asZrZgWTDk8RjvrRDiYd3iMcjeBls8Skw0eEoym0Ax4jHA0KvR2c6fAX4WhW6O2ApwhH44JuB5MOTxEOFwTdDviIcDgi3HYw6fAR4XBHuO2AdwiHUwJtB+fBvEM4XBP6S4gbFl8QDteE3g4AZkJsB6ukvuDDOFwWYjvgBRY4HBdcO1gl9QLhcF+4LyRuWJxFOLwQbjvgJsLhi7DawSqp4wiHR8JqB1xGOPxCO+AEwuGdgNrBDYuzCIePAmoH3EQ4PEU70CTC4a9Q2sENi4MIh9dCaQdcQzh8RzvQDMLhuyDawQ0LYF0Q7YAjeE+9JrQDNWGBQ5midpxHBY6vnuTp6nj9ifOH5U/IHRAdXz1V/v9a4obFBYRDH+N5x+Hzlkw/j9efuD1d7ce68aBdcz/QKMKhUlE7bmYL9/34kf598tBNbzkweXgx7vbtaho6o+l8xHTUERGR8eCysC/QgnBoZXe9ozdcpOHzNH9E6+LNvC+TLzXMPPiUsGYRDsWae2kdPm/V+K+x2FE/wqGb1XY8Xf00iFdA+i96+UMezk9vi0dABcKh3jMbP+T2NLpN/70zGq6GYTxoR4OVAdMb0qEX4QiBlXak9e9nW7LQGU0/XtRxv8LubCMIRyCs3LOktl/ywzHfZ4k3WcaDNju0WhGOcNS6Vtq6eBfvw7BDqxLhCErN+yzJFm32BIh13LDUjHCEpvY92t6LOB5MPTQhHAGq/3xHcn6s8qkHakM4AhTNZrOmryEriqL4i32ujXsWYB8nJyfFA3Qe2SYcNeDDOAKnsx2oGgscoB0ojXBAaAfKIhyIKWwHix3VIRxIKGwHKkI4kEY7sBPCgQzage0IB9ZpaweLHdYRDuTS1g7YRTiwCe3ARoQDBWgH8hEOFFPVDn6jgi2EA1vpfLGxULonwoGtdLYDQNVoB+Z4Tz1KoR0QYYED5elpB6fCjBEOGNDTDpghHDBDO4JGOGCMdoSLcGAftCNQhAN7UtIOFkpLIRzYn5J2YHeEA1bQjrAQDthCOwJCOGCRhnbw9tldEA7YpepVx0LpJoQD1qlqB3IRDlSBdihHOFAR2qEc4UBFaAcAE963gxOl6/gUH9TA+3YggwUO1IN2qEI4UBvaoQfhQJ1ohxKEAzXzux0slMYIB+rndzsghAMNoR1+IxxoCu3wGOFAg2iHrwgHmuVxO0L+2A7CgcZpePmFtslCOOACDe0IDeGAC2gHABO0ww+8NRauoR0eYIEDDvK1HeGcRicccJOv7QgE4YCzaIe7CAdcRjscRTjguGdNXwByhByOrx9+fnU9ERGRw9fvf3l5kD/s02V3eJd+YOPgzMiiH4oymHc4J+RwiHwd/zZZfD35bfw1Z8iny243Ew4RmVy/6nYvP20dObl+9fOHvB+Lkrxsh+JNlrDDkaTj7OxMRGRy/eun7IAPP89jcPj6/ePC5Vn87N1wWY/lSDm7TEa+f31Y+X8iEF62Q6vQw7FMR3fYjWtw95iZSfw6v585u0zfeRwNF024ezefVKRGPg6PkpEHL3955J7FCtrhCsKRSseRHOXG49PjYs7xz6PVbz3o/BjHY/K/P9Mj5aybGQlLaIcTCIdIMlU4/O5bkdx4fP3zj/iL779dmzkcfPt9/MUff35NjSQdlaEdzSMcsflU4fDHzoFIfjzgENrRMMKxkEkH8XCdf+c7lG2yEI65xQLF5PpV93r1qbt3H/559PJgfl8ykfi+5Gj1tiVzP1MwEnYw74ATkrXNPMlBj2+/O1x9YPn9ybZKvMCRjFzf5oUdtKMBfBjHmsUNS+rMRvrgxqIVBy9/mj9w/Sp1Dix96GO+AZOMlLvhylmwT5drR8hgxL97Ft+xwLHu64d3mbWOhaPumdzdxfF4+fJA5Gh4eXY3vBORu2E3O1VZOfRxNHz/+o9X15Oc26Czav4bgWHeUSvCkWt+Dn09HcsF0+VdytEw73To2eXjY/oMmEh8Diw5crpw+Pp9dhyMRLPZrOlryIqiKP4i99r8XSslHPDIyclJ8QDP5h2EA3CEZ+3wFOGAPrSjcoQDKtGOahEOaEU7KkQ4oBjtqArhgG60oxKEA+r51A5fNmgJB0LgUzu8QDgQCNphE+FAOGiHTYQD4aAdAEzQjn3xYRwIkzftcHOThQUOBMubdjiIcCBktMMQ4UDgaIcJwgHQjtIIByC0oyzCAcRoRwmEA0j40Q4XNmgJB5DmRzsaRziADNqxHeEA1tGOLQgHkIt2FCEcwCa0owjhADbxoB0ubLIAyPCgHTXjPfXALmjHChY4gB3RjiXCAeyOdswRDqAU2iFCOIDyaAfhAEy43o6qN2gJB2DG9XZUinAAxsJtB+EA9hFoOwgHsKcQ20E4gP0F1w7CAVgRVjsIB2CL0+2wu0FLOACLnG6HXYQDsCigdgCwSHk7+DAOoCKa28ECB1Adte0gHECldLaDcABV86AdZTdoCQdQAw/aUQrhAOqhqh2EA6iNnnYQDqBOStpBOICaaWgH4QDq53o7tm6yEA6gEa63oxjhAJricTsIB9Agj9tBOIAGedwOAA3yrB28px5whE/tYIEDcIfT7Uhv0BIOwClOtyNBOADXeNAOwgE4KJrNZk1fQ1YURU1fAhC6rWXwYN4BwEG0A4AJF+9ZALiPeQcAE7QDgAnaAcAE7QBggnYAMEE7AJigHQBM0A4AJmgHABO0I1QP51GO8wcREXm6Ot743OYB0fHVU0P/G9SPdgTq6cuk4Nnp5/H6g7enq/1YNx606UcwaEfgOqPpLOWmt/Js/37++H0/fuD27Woalt8+HXVERGQ8uCzsC7SgHdhFb7hIw+dp/ojWxZt5XyZfmHmEgHbAtsPnraYvATWgHdjB09VPg3gFpP+ilz/k4fz0tngEdKEdgRsP2hu2UkTi5dEoiqL2vByd0bC34dvjcnRG0xvSEYZnTV8AfNG/z66kZnVG048X3K+EgnlH4Fb3WbJxSPZZcp5Lf3u8yTIetNmhDQftgAWti3fxPgw7tOGgHbAi2aLNngCBVrQDlvRexPFg6hEI2gFbkvNjTD2CwO9YAGCCeQcAE7QDgAnaAcAE7QBggnYAMEE7AJigHQBM0A4AJmgHABO0A4AJ2gHAxP8B6XhIT/iZkeoAAAAASUVORK5CYII=)\n",
        "\n",
        "Semakin garis hijaunya mendekati nilai 1 di sumbu TPR, maka semakin baik model tersebut dalam memprediksi variabel target.\n",
        "\n",
        "Sumber : https://towardsdatascience.com/understanding-auc-roc-curve-68b2303cc9c5\n",
        "\n",
        "Tetapi, performa model di atas bergantung dengan bagaimana pemrosesan datanya, terutama ada dua jenis model yang digunakan yakni model linear dan model pohon, model linear mensyaratkan harus distandarisasi datanya sementara model pohon tidak perlu menstandarisasi datanya, akan ada dua pipeline pemodelan yang berbeda untuk kedua model. \n"
      ]
    },
    {
      "cell_type": "markdown",
      "metadata": {
        "id": "uroLyamTBR6x"
      },
      "source": [
        "## Milestones\n",
        "\n",
        "Langkah-langkah yang harus dilakukan untuk membuat model klasifikasi bekerja dengan baik adalah sebagai berikut :    \n",
        "\n",
        "1. Untuk model linear (Logistic Regression, Support Vector Machine) :    \n",
        "  * Isi missing values (bisa dengan median, mean atau informasi yang tertera di datanya)\n",
        "  * Ubah fitur kategorikal menjadi numerik dengan One Hot Encoding,\n",
        "  * Lakukan Standarisasi pada data tersebut\n",
        "  * Lakukan Feature Selection dengan Statistik F untuk mengurangi fitur-fitur yang redundant\n",
        "\n",
        "2. Untuk model pohon (Decision Tree Classifier, Random Forest Classifier) : \n",
        "  *  Isi missing values (bisa dengan median, mean atau informasi yang tertera di datanya)\n",
        "  * Ubah fitur kategorikal dengan Label Encoding atau menghilangkan kata tertentu \n",
        "  * **NOTE : Tidak perlu digunakan One Hot Encoding karena justru semakin banyak fitur yang digunakan, semakin redundant fitur yang tersedia (Curse of Dimensionality), sementara model Tree akan memilih fitur yang dapat memberikan split data terbaik, makin banyak fitur, makin tidak baik split datanya**\n",
        "  * Lakukan Feature Selection dengan Statistik F untuk mengurangi fitur-fitur yang redundant"
      ]
    },
    {
      "cell_type": "markdown",
      "metadata": {
        "id": "W3TjdynyD3PZ"
      },
      "source": [
        "# Data Requirements\n",
        "Karena perusahaan lending tersebut telah memberikan datanya, maka data yang digunakan cukup dari perusahaan tersebut"
      ]
    },
    {
      "cell_type": "markdown",
      "metadata": {
        "id": "vrw5aTmGD_pV"
      },
      "source": [
        "# Data Collection\n",
        "\n",
        "Download data perusahaan lending tersebut,"
      ]
    },
    {
      "cell_type": "markdown",
      "metadata": {
        "id": "7jIyIvI1-bZ7"
      },
      "source": [
        "## Download Data"
      ]
    },
    {
      "cell_type": "code",
      "execution_count": 163,
      "metadata": {
        "id": "Agnw29CS940g",
        "colab": {
          "base_uri": "https://localhost:8080/"
        },
        "outputId": "d5fdec3c-3c98-4aaf-a206-cc82a0f9ea1d"
      },
      "outputs": [
        {
          "output_type": "stream",
          "name": "stdout",
          "text": [
            "--2022-06-05 09:29:49--  https://rakamin-lms.s3.ap-southeast-1.amazonaws.com/vix-assets/idx-partners/loan_data_2007_2014.csv\n",
            "Resolving rakamin-lms.s3.ap-southeast-1.amazonaws.com (rakamin-lms.s3.ap-southeast-1.amazonaws.com)... 52.219.32.183\n",
            "Connecting to rakamin-lms.s3.ap-southeast-1.amazonaws.com (rakamin-lms.s3.ap-southeast-1.amazonaws.com)|52.219.32.183|:443... connected.\n",
            "HTTP request sent, awaiting response... 200 OK\n",
            "Length: 240079969 (229M) [text/csv]\n",
            "Saving to: ‘loan_data_2007_2014.csv.2’\n",
            "\n",
            "loan_data_2007_2014 100%[===================>] 228.96M  50.9MB/s    in 4.9s    \n",
            "\n",
            "2022-06-05 09:29:54 (46.3 MB/s) - ‘loan_data_2007_2014.csv.2’ saved [240079969/240079969]\n",
            "\n"
          ]
        }
      ],
      "source": [
        "!wget \"https://rakamin-lms.s3.ap-southeast-1.amazonaws.com/vix-assets/idx-partners/loan_data_2007_2014.csv\""
      ]
    },
    {
      "cell_type": "markdown",
      "metadata": {
        "id": "ezCIBsOhEKOf"
      },
      "source": [
        "# Data Understanding"
      ]
    },
    {
      "cell_type": "markdown",
      "metadata": {
        "id": "BUVw63Rw-ddN"
      },
      "source": [
        "## Import Data dengan Pandas"
      ]
    },
    {
      "cell_type": "code",
      "execution_count": 164,
      "metadata": {
        "id": "aKhojikX-ZZl",
        "colab": {
          "base_uri": "https://localhost:8080/"
        },
        "outputId": "7b40b420-03ef-4623-e1a6-290fe2d23c0d"
      },
      "outputs": [
        {
          "output_type": "stream",
          "name": "stderr",
          "text": [
            "/usr/local/lib/python3.7/dist-packages/IPython/core/interactiveshell.py:2882: DtypeWarning: Columns (20) have mixed types.Specify dtype option on import or set low_memory=False.\n",
            "  exec(code_obj, self.user_global_ns, self.user_ns)\n"
          ]
        }
      ],
      "source": [
        "# Import Data\n",
        "loan_df = pd.read_csv(\"loan_data_2007_2014.csv\")"
      ]
    },
    {
      "cell_type": "code",
      "execution_count": 165,
      "metadata": {
        "id": "kx_BBhO1-qVG",
        "colab": {
          "base_uri": "https://localhost:8080/",
          "height": 404
        },
        "outputId": "f09391c8-1a82-4f0f-e837-78f91edc5d21"
      },
      "outputs": [
        {
          "output_type": "execute_result",
          "data": {
            "text/plain": [
              "   Unnamed: 0       id  member_id  loan_amnt  funded_amnt  funded_amnt_inv  \\\n",
              "0           0  1077501    1296599       5000         5000           4975.0   \n",
              "1           1  1077430    1314167       2500         2500           2500.0   \n",
              "2           2  1077175    1313524       2400         2400           2400.0   \n",
              "3           3  1076863    1277178      10000        10000          10000.0   \n",
              "4           4  1075358    1311748       3000         3000           3000.0   \n",
              "\n",
              "         term  int_rate  installment grade  ... total_bal_il il_util  \\\n",
              "0   36 months     10.65       162.87     B  ...          NaN     NaN   \n",
              "1   60 months     15.27        59.83     C  ...          NaN     NaN   \n",
              "2   36 months     15.96        84.33     C  ...          NaN     NaN   \n",
              "3   36 months     13.49       339.31     C  ...          NaN     NaN   \n",
              "4   60 months     12.69        67.79     B  ...          NaN     NaN   \n",
              "\n",
              "  open_rv_12m open_rv_24m  max_bal_bc all_util total_rev_hi_lim inq_fi  \\\n",
              "0         NaN         NaN         NaN      NaN              NaN    NaN   \n",
              "1         NaN         NaN         NaN      NaN              NaN    NaN   \n",
              "2         NaN         NaN         NaN      NaN              NaN    NaN   \n",
              "3         NaN         NaN         NaN      NaN              NaN    NaN   \n",
              "4         NaN         NaN         NaN      NaN              NaN    NaN   \n",
              "\n",
              "  total_cu_tl inq_last_12m  \n",
              "0         NaN          NaN  \n",
              "1         NaN          NaN  \n",
              "2         NaN          NaN  \n",
              "3         NaN          NaN  \n",
              "4         NaN          NaN  \n",
              "\n",
              "[5 rows x 75 columns]"
            ],
            "text/html": [
              "\n",
              "  <div id=\"df-54df6613-fb30-4193-8e1a-f8065219d972\">\n",
              "    <div class=\"colab-df-container\">\n",
              "      <div>\n",
              "<style scoped>\n",
              "    .dataframe tbody tr th:only-of-type {\n",
              "        vertical-align: middle;\n",
              "    }\n",
              "\n",
              "    .dataframe tbody tr th {\n",
              "        vertical-align: top;\n",
              "    }\n",
              "\n",
              "    .dataframe thead th {\n",
              "        text-align: right;\n",
              "    }\n",
              "</style>\n",
              "<table border=\"1\" class=\"dataframe\">\n",
              "  <thead>\n",
              "    <tr style=\"text-align: right;\">\n",
              "      <th></th>\n",
              "      <th>Unnamed: 0</th>\n",
              "      <th>id</th>\n",
              "      <th>member_id</th>\n",
              "      <th>loan_amnt</th>\n",
              "      <th>funded_amnt</th>\n",
              "      <th>funded_amnt_inv</th>\n",
              "      <th>term</th>\n",
              "      <th>int_rate</th>\n",
              "      <th>installment</th>\n",
              "      <th>grade</th>\n",
              "      <th>...</th>\n",
              "      <th>total_bal_il</th>\n",
              "      <th>il_util</th>\n",
              "      <th>open_rv_12m</th>\n",
              "      <th>open_rv_24m</th>\n",
              "      <th>max_bal_bc</th>\n",
              "      <th>all_util</th>\n",
              "      <th>total_rev_hi_lim</th>\n",
              "      <th>inq_fi</th>\n",
              "      <th>total_cu_tl</th>\n",
              "      <th>inq_last_12m</th>\n",
              "    </tr>\n",
              "  </thead>\n",
              "  <tbody>\n",
              "    <tr>\n",
              "      <th>0</th>\n",
              "      <td>0</td>\n",
              "      <td>1077501</td>\n",
              "      <td>1296599</td>\n",
              "      <td>5000</td>\n",
              "      <td>5000</td>\n",
              "      <td>4975.0</td>\n",
              "      <td>36 months</td>\n",
              "      <td>10.65</td>\n",
              "      <td>162.87</td>\n",
              "      <td>B</td>\n",
              "      <td>...</td>\n",
              "      <td>NaN</td>\n",
              "      <td>NaN</td>\n",
              "      <td>NaN</td>\n",
              "      <td>NaN</td>\n",
              "      <td>NaN</td>\n",
              "      <td>NaN</td>\n",
              "      <td>NaN</td>\n",
              "      <td>NaN</td>\n",
              "      <td>NaN</td>\n",
              "      <td>NaN</td>\n",
              "    </tr>\n",
              "    <tr>\n",
              "      <th>1</th>\n",
              "      <td>1</td>\n",
              "      <td>1077430</td>\n",
              "      <td>1314167</td>\n",
              "      <td>2500</td>\n",
              "      <td>2500</td>\n",
              "      <td>2500.0</td>\n",
              "      <td>60 months</td>\n",
              "      <td>15.27</td>\n",
              "      <td>59.83</td>\n",
              "      <td>C</td>\n",
              "      <td>...</td>\n",
              "      <td>NaN</td>\n",
              "      <td>NaN</td>\n",
              "      <td>NaN</td>\n",
              "      <td>NaN</td>\n",
              "      <td>NaN</td>\n",
              "      <td>NaN</td>\n",
              "      <td>NaN</td>\n",
              "      <td>NaN</td>\n",
              "      <td>NaN</td>\n",
              "      <td>NaN</td>\n",
              "    </tr>\n",
              "    <tr>\n",
              "      <th>2</th>\n",
              "      <td>2</td>\n",
              "      <td>1077175</td>\n",
              "      <td>1313524</td>\n",
              "      <td>2400</td>\n",
              "      <td>2400</td>\n",
              "      <td>2400.0</td>\n",
              "      <td>36 months</td>\n",
              "      <td>15.96</td>\n",
              "      <td>84.33</td>\n",
              "      <td>C</td>\n",
              "      <td>...</td>\n",
              "      <td>NaN</td>\n",
              "      <td>NaN</td>\n",
              "      <td>NaN</td>\n",
              "      <td>NaN</td>\n",
              "      <td>NaN</td>\n",
              "      <td>NaN</td>\n",
              "      <td>NaN</td>\n",
              "      <td>NaN</td>\n",
              "      <td>NaN</td>\n",
              "      <td>NaN</td>\n",
              "    </tr>\n",
              "    <tr>\n",
              "      <th>3</th>\n",
              "      <td>3</td>\n",
              "      <td>1076863</td>\n",
              "      <td>1277178</td>\n",
              "      <td>10000</td>\n",
              "      <td>10000</td>\n",
              "      <td>10000.0</td>\n",
              "      <td>36 months</td>\n",
              "      <td>13.49</td>\n",
              "      <td>339.31</td>\n",
              "      <td>C</td>\n",
              "      <td>...</td>\n",
              "      <td>NaN</td>\n",
              "      <td>NaN</td>\n",
              "      <td>NaN</td>\n",
              "      <td>NaN</td>\n",
              "      <td>NaN</td>\n",
              "      <td>NaN</td>\n",
              "      <td>NaN</td>\n",
              "      <td>NaN</td>\n",
              "      <td>NaN</td>\n",
              "      <td>NaN</td>\n",
              "    </tr>\n",
              "    <tr>\n",
              "      <th>4</th>\n",
              "      <td>4</td>\n",
              "      <td>1075358</td>\n",
              "      <td>1311748</td>\n",
              "      <td>3000</td>\n",
              "      <td>3000</td>\n",
              "      <td>3000.0</td>\n",
              "      <td>60 months</td>\n",
              "      <td>12.69</td>\n",
              "      <td>67.79</td>\n",
              "      <td>B</td>\n",
              "      <td>...</td>\n",
              "      <td>NaN</td>\n",
              "      <td>NaN</td>\n",
              "      <td>NaN</td>\n",
              "      <td>NaN</td>\n",
              "      <td>NaN</td>\n",
              "      <td>NaN</td>\n",
              "      <td>NaN</td>\n",
              "      <td>NaN</td>\n",
              "      <td>NaN</td>\n",
              "      <td>NaN</td>\n",
              "    </tr>\n",
              "  </tbody>\n",
              "</table>\n",
              "<p>5 rows × 75 columns</p>\n",
              "</div>\n",
              "      <button class=\"colab-df-convert\" onclick=\"convertToInteractive('df-54df6613-fb30-4193-8e1a-f8065219d972')\"\n",
              "              title=\"Convert this dataframe to an interactive table.\"\n",
              "              style=\"display:none;\">\n",
              "        \n",
              "  <svg xmlns=\"http://www.w3.org/2000/svg\" height=\"24px\"viewBox=\"0 0 24 24\"\n",
              "       width=\"24px\">\n",
              "    <path d=\"M0 0h24v24H0V0z\" fill=\"none\"/>\n",
              "    <path d=\"M18.56 5.44l.94 2.06.94-2.06 2.06-.94-2.06-.94-.94-2.06-.94 2.06-2.06.94zm-11 1L8.5 8.5l.94-2.06 2.06-.94-2.06-.94L8.5 2.5l-.94 2.06-2.06.94zm10 10l.94 2.06.94-2.06 2.06-.94-2.06-.94-.94-2.06-.94 2.06-2.06.94z\"/><path d=\"M17.41 7.96l-1.37-1.37c-.4-.4-.92-.59-1.43-.59-.52 0-1.04.2-1.43.59L10.3 9.45l-7.72 7.72c-.78.78-.78 2.05 0 2.83L4 21.41c.39.39.9.59 1.41.59.51 0 1.02-.2 1.41-.59l7.78-7.78 2.81-2.81c.8-.78.8-2.07 0-2.86zM5.41 20L4 18.59l7.72-7.72 1.47 1.35L5.41 20z\"/>\n",
              "  </svg>\n",
              "      </button>\n",
              "      \n",
              "  <style>\n",
              "    .colab-df-container {\n",
              "      display:flex;\n",
              "      flex-wrap:wrap;\n",
              "      gap: 12px;\n",
              "    }\n",
              "\n",
              "    .colab-df-convert {\n",
              "      background-color: #E8F0FE;\n",
              "      border: none;\n",
              "      border-radius: 50%;\n",
              "      cursor: pointer;\n",
              "      display: none;\n",
              "      fill: #1967D2;\n",
              "      height: 32px;\n",
              "      padding: 0 0 0 0;\n",
              "      width: 32px;\n",
              "    }\n",
              "\n",
              "    .colab-df-convert:hover {\n",
              "      background-color: #E2EBFA;\n",
              "      box-shadow: 0px 1px 2px rgba(60, 64, 67, 0.3), 0px 1px 3px 1px rgba(60, 64, 67, 0.15);\n",
              "      fill: #174EA6;\n",
              "    }\n",
              "\n",
              "    [theme=dark] .colab-df-convert {\n",
              "      background-color: #3B4455;\n",
              "      fill: #D2E3FC;\n",
              "    }\n",
              "\n",
              "    [theme=dark] .colab-df-convert:hover {\n",
              "      background-color: #434B5C;\n",
              "      box-shadow: 0px 1px 3px 1px rgba(0, 0, 0, 0.15);\n",
              "      filter: drop-shadow(0px 1px 2px rgba(0, 0, 0, 0.3));\n",
              "      fill: #FFFFFF;\n",
              "    }\n",
              "  </style>\n",
              "\n",
              "      <script>\n",
              "        const buttonEl =\n",
              "          document.querySelector('#df-54df6613-fb30-4193-8e1a-f8065219d972 button.colab-df-convert');\n",
              "        buttonEl.style.display =\n",
              "          google.colab.kernel.accessAllowed ? 'block' : 'none';\n",
              "\n",
              "        async function convertToInteractive(key) {\n",
              "          const element = document.querySelector('#df-54df6613-fb30-4193-8e1a-f8065219d972');\n",
              "          const dataTable =\n",
              "            await google.colab.kernel.invokeFunction('convertToInteractive',\n",
              "                                                     [key], {});\n",
              "          if (!dataTable) return;\n",
              "\n",
              "          const docLinkHtml = 'Like what you see? Visit the ' +\n",
              "            '<a target=\"_blank\" href=https://colab.research.google.com/notebooks/data_table.ipynb>data table notebook</a>'\n",
              "            + ' to learn more about interactive tables.';\n",
              "          element.innerHTML = '';\n",
              "          dataTable['output_type'] = 'display_data';\n",
              "          await google.colab.output.renderOutput(dataTable, element);\n",
              "          const docLink = document.createElement('div');\n",
              "          docLink.innerHTML = docLinkHtml;\n",
              "          element.appendChild(docLink);\n",
              "        }\n",
              "      </script>\n",
              "    </div>\n",
              "  </div>\n",
              "  "
            ]
          },
          "metadata": {},
          "execution_count": 165
        }
      ],
      "source": [
        "loan_df.head()"
      ]
    },
    {
      "cell_type": "markdown",
      "metadata": {
        "id": "mnkz2o8GFNos"
      },
      "source": [
        "## Informasi Data"
      ]
    },
    {
      "cell_type": "code",
      "execution_count": 166,
      "metadata": {
        "id": "F0G7X_BdFQVu",
        "colab": {
          "base_uri": "https://localhost:8080/"
        },
        "outputId": "b2ff88be-88a5-4331-985f-10244b5494bc"
      },
      "outputs": [
        {
          "output_type": "stream",
          "name": "stdout",
          "text": [
            "<class 'pandas.core.frame.DataFrame'>\n",
            "RangeIndex: 466285 entries, 0 to 466284\n",
            "Data columns (total 75 columns):\n",
            " #   Column                       Non-Null Count   Dtype  \n",
            "---  ------                       --------------   -----  \n",
            " 0   Unnamed: 0                   466285 non-null  int64  \n",
            " 1   id                           466285 non-null  int64  \n",
            " 2   member_id                    466285 non-null  int64  \n",
            " 3   loan_amnt                    466285 non-null  int64  \n",
            " 4   funded_amnt                  466285 non-null  int64  \n",
            " 5   funded_amnt_inv              466285 non-null  float64\n",
            " 6   term                         466285 non-null  object \n",
            " 7   int_rate                     466285 non-null  float64\n",
            " 8   installment                  466285 non-null  float64\n",
            " 9   grade                        466285 non-null  object \n",
            " 10  sub_grade                    466285 non-null  object \n",
            " 11  emp_title                    438697 non-null  object \n",
            " 12  emp_length                   445277 non-null  object \n",
            " 13  home_ownership               466285 non-null  object \n",
            " 14  annual_inc                   466281 non-null  float64\n",
            " 15  verification_status          466285 non-null  object \n",
            " 16  issue_d                      466285 non-null  object \n",
            " 17  loan_status                  466285 non-null  object \n",
            " 18  pymnt_plan                   466285 non-null  object \n",
            " 19  url                          466285 non-null  object \n",
            " 20  desc                         125983 non-null  object \n",
            " 21  purpose                      466285 non-null  object \n",
            " 22  title                        466265 non-null  object \n",
            " 23  zip_code                     466285 non-null  object \n",
            " 24  addr_state                   466285 non-null  object \n",
            " 25  dti                          466285 non-null  float64\n",
            " 26  delinq_2yrs                  466256 non-null  float64\n",
            " 27  earliest_cr_line             466256 non-null  object \n",
            " 28  inq_last_6mths               466256 non-null  float64\n",
            " 29  mths_since_last_delinq       215934 non-null  float64\n",
            " 30  mths_since_last_record       62638 non-null   float64\n",
            " 31  open_acc                     466256 non-null  float64\n",
            " 32  pub_rec                      466256 non-null  float64\n",
            " 33  revol_bal                    466285 non-null  int64  \n",
            " 34  revol_util                   465945 non-null  float64\n",
            " 35  total_acc                    466256 non-null  float64\n",
            " 36  initial_list_status          466285 non-null  object \n",
            " 37  out_prncp                    466285 non-null  float64\n",
            " 38  out_prncp_inv                466285 non-null  float64\n",
            " 39  total_pymnt                  466285 non-null  float64\n",
            " 40  total_pymnt_inv              466285 non-null  float64\n",
            " 41  total_rec_prncp              466285 non-null  float64\n",
            " 42  total_rec_int                466285 non-null  float64\n",
            " 43  total_rec_late_fee           466285 non-null  float64\n",
            " 44  recoveries                   466285 non-null  float64\n",
            " 45  collection_recovery_fee      466285 non-null  float64\n",
            " 46  last_pymnt_d                 465909 non-null  object \n",
            " 47  last_pymnt_amnt              466285 non-null  float64\n",
            " 48  next_pymnt_d                 239071 non-null  object \n",
            " 49  last_credit_pull_d           466243 non-null  object \n",
            " 50  collections_12_mths_ex_med   466140 non-null  float64\n",
            " 51  mths_since_last_major_derog  98974 non-null   float64\n",
            " 52  policy_code                  466285 non-null  int64  \n",
            " 53  application_type             466285 non-null  object \n",
            " 54  annual_inc_joint             0 non-null       float64\n",
            " 55  dti_joint                    0 non-null       float64\n",
            " 56  verification_status_joint    0 non-null       float64\n",
            " 57  acc_now_delinq               466256 non-null  float64\n",
            " 58  tot_coll_amt                 396009 non-null  float64\n",
            " 59  tot_cur_bal                  396009 non-null  float64\n",
            " 60  open_acc_6m                  0 non-null       float64\n",
            " 61  open_il_6m                   0 non-null       float64\n",
            " 62  open_il_12m                  0 non-null       float64\n",
            " 63  open_il_24m                  0 non-null       float64\n",
            " 64  mths_since_rcnt_il           0 non-null       float64\n",
            " 65  total_bal_il                 0 non-null       float64\n",
            " 66  il_util                      0 non-null       float64\n",
            " 67  open_rv_12m                  0 non-null       float64\n",
            " 68  open_rv_24m                  0 non-null       float64\n",
            " 69  max_bal_bc                   0 non-null       float64\n",
            " 70  all_util                     0 non-null       float64\n",
            " 71  total_rev_hi_lim             396009 non-null  float64\n",
            " 72  inq_fi                       0 non-null       float64\n",
            " 73  total_cu_tl                  0 non-null       float64\n",
            " 74  inq_last_12m                 0 non-null       float64\n",
            "dtypes: float64(46), int64(7), object(22)\n",
            "memory usage: 266.8+ MB\n"
          ]
        }
      ],
      "source": [
        "loan_df.info()"
      ]
    },
    {
      "cell_type": "markdown",
      "metadata": {
        "id": "fdsVpGZoFVMs"
      },
      "source": [
        "Data ini terdiri dari 466.285 baris yang berisi 74 fitur termasuk variabel target yakni **loan_status**. Penjelasan setiap fitur dapat dilihat di bawah"
      ]
    },
    {
      "cell_type": "code",
      "execution_count": 167,
      "metadata": {
        "id": "OqY43uYTF12P",
        "colab": {
          "base_uri": "https://localhost:8080/",
          "height": 36
        },
        "outputId": "38d18e15-a596-4309-d1d5-316880ee0072"
      },
      "outputs": [
        {
          "output_type": "execute_result",
          "data": {
            "text/plain": [
              "'df_info = pd.read_excel(\"LCDataDictionary.xlsx\", sheet_name = \\'LoanStats\\')\\ndf_info = df_info[:78]'"
            ],
            "application/vnd.google.colaboratory.intrinsic+json": {
              "type": "string"
            }
          },
          "metadata": {},
          "execution_count": 167
        }
      ],
      "source": [
        "'''df_info = pd.read_excel(\"LCDataDictionary.xlsx\", sheet_name = 'LoanStats')\n",
        "df_info = df_info[:78]'''"
      ]
    },
    {
      "cell_type": "code",
      "execution_count": 168,
      "metadata": {
        "id": "6lQaERE9GIEE",
        "colab": {
          "base_uri": "https://localhost:8080/",
          "height": 36
        },
        "outputId": "738fce7a-3215-436f-d7f2-6b5cd5ce6251"
      },
      "outputs": [
        {
          "output_type": "execute_result",
          "data": {
            "text/plain": [
              "'df_info[:30]'"
            ],
            "application/vnd.google.colaboratory.intrinsic+json": {
              "type": "string"
            }
          },
          "metadata": {},
          "execution_count": 168
        }
      ],
      "source": [
        "'''df_info[:30]'''"
      ]
    },
    {
      "cell_type": "markdown",
      "metadata": {
        "id": "TsZchmwsfZFt"
      },
      "source": [
        "## Exploratory Data Analysis (EDA)"
      ]
    },
    {
      "cell_type": "markdown",
      "metadata": {
        "id": "bFUnpxvzJLfN"
      },
      "source": [
        "### Persebaran Missing Values"
      ]
    },
    {
      "cell_type": "code",
      "execution_count": 169,
      "metadata": {
        "id": "cZGwWIorJNC-",
        "colab": {
          "base_uri": "https://localhost:8080/",
          "height": 676
        },
        "outputId": "c5a83c6a-d7f1-453f-b181-d162af432555"
      },
      "outputs": [
        {
          "output_type": "execute_result",
          "data": {
            "text/plain": [
              "                       Features  Missing Values Percentage\n",
              "0                  inq_last_12m                 100.000000\n",
              "1                  total_bal_il                 100.000000\n",
              "2                     dti_joint                 100.000000\n",
              "3     verification_status_joint                 100.000000\n",
              "4              annual_inc_joint                 100.000000\n",
              "5                   open_acc_6m                 100.000000\n",
              "6                    open_il_6m                 100.000000\n",
              "7                   open_il_12m                 100.000000\n",
              "8                   open_il_24m                 100.000000\n",
              "9            mths_since_rcnt_il                 100.000000\n",
              "10                      il_util                 100.000000\n",
              "11                  open_rv_24m                 100.000000\n",
              "12                  total_cu_tl                 100.000000\n",
              "13                       inq_fi                 100.000000\n",
              "14                   max_bal_bc                 100.000000\n",
              "15                     all_util                 100.000000\n",
              "16                  open_rv_12m                 100.000000\n",
              "17       mths_since_last_record                  86.566585\n",
              "18  mths_since_last_major_derog                  78.773926\n",
              "19                         desc                  72.981546"
            ],
            "text/html": [
              "\n",
              "  <div id=\"df-d551a06f-a16f-42ea-a584-cbd5e9a1c8b7\">\n",
              "    <div class=\"colab-df-container\">\n",
              "      <div>\n",
              "<style scoped>\n",
              "    .dataframe tbody tr th:only-of-type {\n",
              "        vertical-align: middle;\n",
              "    }\n",
              "\n",
              "    .dataframe tbody tr th {\n",
              "        vertical-align: top;\n",
              "    }\n",
              "\n",
              "    .dataframe thead th {\n",
              "        text-align: right;\n",
              "    }\n",
              "</style>\n",
              "<table border=\"1\" class=\"dataframe\">\n",
              "  <thead>\n",
              "    <tr style=\"text-align: right;\">\n",
              "      <th></th>\n",
              "      <th>Features</th>\n",
              "      <th>Missing Values Percentage</th>\n",
              "    </tr>\n",
              "  </thead>\n",
              "  <tbody>\n",
              "    <tr>\n",
              "      <th>0</th>\n",
              "      <td>inq_last_12m</td>\n",
              "      <td>100.000000</td>\n",
              "    </tr>\n",
              "    <tr>\n",
              "      <th>1</th>\n",
              "      <td>total_bal_il</td>\n",
              "      <td>100.000000</td>\n",
              "    </tr>\n",
              "    <tr>\n",
              "      <th>2</th>\n",
              "      <td>dti_joint</td>\n",
              "      <td>100.000000</td>\n",
              "    </tr>\n",
              "    <tr>\n",
              "      <th>3</th>\n",
              "      <td>verification_status_joint</td>\n",
              "      <td>100.000000</td>\n",
              "    </tr>\n",
              "    <tr>\n",
              "      <th>4</th>\n",
              "      <td>annual_inc_joint</td>\n",
              "      <td>100.000000</td>\n",
              "    </tr>\n",
              "    <tr>\n",
              "      <th>5</th>\n",
              "      <td>open_acc_6m</td>\n",
              "      <td>100.000000</td>\n",
              "    </tr>\n",
              "    <tr>\n",
              "      <th>6</th>\n",
              "      <td>open_il_6m</td>\n",
              "      <td>100.000000</td>\n",
              "    </tr>\n",
              "    <tr>\n",
              "      <th>7</th>\n",
              "      <td>open_il_12m</td>\n",
              "      <td>100.000000</td>\n",
              "    </tr>\n",
              "    <tr>\n",
              "      <th>8</th>\n",
              "      <td>open_il_24m</td>\n",
              "      <td>100.000000</td>\n",
              "    </tr>\n",
              "    <tr>\n",
              "      <th>9</th>\n",
              "      <td>mths_since_rcnt_il</td>\n",
              "      <td>100.000000</td>\n",
              "    </tr>\n",
              "    <tr>\n",
              "      <th>10</th>\n",
              "      <td>il_util</td>\n",
              "      <td>100.000000</td>\n",
              "    </tr>\n",
              "    <tr>\n",
              "      <th>11</th>\n",
              "      <td>open_rv_24m</td>\n",
              "      <td>100.000000</td>\n",
              "    </tr>\n",
              "    <tr>\n",
              "      <th>12</th>\n",
              "      <td>total_cu_tl</td>\n",
              "      <td>100.000000</td>\n",
              "    </tr>\n",
              "    <tr>\n",
              "      <th>13</th>\n",
              "      <td>inq_fi</td>\n",
              "      <td>100.000000</td>\n",
              "    </tr>\n",
              "    <tr>\n",
              "      <th>14</th>\n",
              "      <td>max_bal_bc</td>\n",
              "      <td>100.000000</td>\n",
              "    </tr>\n",
              "    <tr>\n",
              "      <th>15</th>\n",
              "      <td>all_util</td>\n",
              "      <td>100.000000</td>\n",
              "    </tr>\n",
              "    <tr>\n",
              "      <th>16</th>\n",
              "      <td>open_rv_12m</td>\n",
              "      <td>100.000000</td>\n",
              "    </tr>\n",
              "    <tr>\n",
              "      <th>17</th>\n",
              "      <td>mths_since_last_record</td>\n",
              "      <td>86.566585</td>\n",
              "    </tr>\n",
              "    <tr>\n",
              "      <th>18</th>\n",
              "      <td>mths_since_last_major_derog</td>\n",
              "      <td>78.773926</td>\n",
              "    </tr>\n",
              "    <tr>\n",
              "      <th>19</th>\n",
              "      <td>desc</td>\n",
              "      <td>72.981546</td>\n",
              "    </tr>\n",
              "  </tbody>\n",
              "</table>\n",
              "</div>\n",
              "      <button class=\"colab-df-convert\" onclick=\"convertToInteractive('df-d551a06f-a16f-42ea-a584-cbd5e9a1c8b7')\"\n",
              "              title=\"Convert this dataframe to an interactive table.\"\n",
              "              style=\"display:none;\">\n",
              "        \n",
              "  <svg xmlns=\"http://www.w3.org/2000/svg\" height=\"24px\"viewBox=\"0 0 24 24\"\n",
              "       width=\"24px\">\n",
              "    <path d=\"M0 0h24v24H0V0z\" fill=\"none\"/>\n",
              "    <path d=\"M18.56 5.44l.94 2.06.94-2.06 2.06-.94-2.06-.94-.94-2.06-.94 2.06-2.06.94zm-11 1L8.5 8.5l.94-2.06 2.06-.94-2.06-.94L8.5 2.5l-.94 2.06-2.06.94zm10 10l.94 2.06.94-2.06 2.06-.94-2.06-.94-.94-2.06-.94 2.06-2.06.94z\"/><path d=\"M17.41 7.96l-1.37-1.37c-.4-.4-.92-.59-1.43-.59-.52 0-1.04.2-1.43.59L10.3 9.45l-7.72 7.72c-.78.78-.78 2.05 0 2.83L4 21.41c.39.39.9.59 1.41.59.51 0 1.02-.2 1.41-.59l7.78-7.78 2.81-2.81c.8-.78.8-2.07 0-2.86zM5.41 20L4 18.59l7.72-7.72 1.47 1.35L5.41 20z\"/>\n",
              "  </svg>\n",
              "      </button>\n",
              "      \n",
              "  <style>\n",
              "    .colab-df-container {\n",
              "      display:flex;\n",
              "      flex-wrap:wrap;\n",
              "      gap: 12px;\n",
              "    }\n",
              "\n",
              "    .colab-df-convert {\n",
              "      background-color: #E8F0FE;\n",
              "      border: none;\n",
              "      border-radius: 50%;\n",
              "      cursor: pointer;\n",
              "      display: none;\n",
              "      fill: #1967D2;\n",
              "      height: 32px;\n",
              "      padding: 0 0 0 0;\n",
              "      width: 32px;\n",
              "    }\n",
              "\n",
              "    .colab-df-convert:hover {\n",
              "      background-color: #E2EBFA;\n",
              "      box-shadow: 0px 1px 2px rgba(60, 64, 67, 0.3), 0px 1px 3px 1px rgba(60, 64, 67, 0.15);\n",
              "      fill: #174EA6;\n",
              "    }\n",
              "\n",
              "    [theme=dark] .colab-df-convert {\n",
              "      background-color: #3B4455;\n",
              "      fill: #D2E3FC;\n",
              "    }\n",
              "\n",
              "    [theme=dark] .colab-df-convert:hover {\n",
              "      background-color: #434B5C;\n",
              "      box-shadow: 0px 1px 3px 1px rgba(0, 0, 0, 0.15);\n",
              "      filter: drop-shadow(0px 1px 2px rgba(0, 0, 0, 0.3));\n",
              "      fill: #FFFFFF;\n",
              "    }\n",
              "  </style>\n",
              "\n",
              "      <script>\n",
              "        const buttonEl =\n",
              "          document.querySelector('#df-d551a06f-a16f-42ea-a584-cbd5e9a1c8b7 button.colab-df-convert');\n",
              "        buttonEl.style.display =\n",
              "          google.colab.kernel.accessAllowed ? 'block' : 'none';\n",
              "\n",
              "        async function convertToInteractive(key) {\n",
              "          const element = document.querySelector('#df-d551a06f-a16f-42ea-a584-cbd5e9a1c8b7');\n",
              "          const dataTable =\n",
              "            await google.colab.kernel.invokeFunction('convertToInteractive',\n",
              "                                                     [key], {});\n",
              "          if (!dataTable) return;\n",
              "\n",
              "          const docLinkHtml = 'Like what you see? Visit the ' +\n",
              "            '<a target=\"_blank\" href=https://colab.research.google.com/notebooks/data_table.ipynb>data table notebook</a>'\n",
              "            + ' to learn more about interactive tables.';\n",
              "          element.innerHTML = '';\n",
              "          dataTable['output_type'] = 'display_data';\n",
              "          await google.colab.output.renderOutput(dataTable, element);\n",
              "          const docLink = document.createElement('div');\n",
              "          docLink.innerHTML = docLinkHtml;\n",
              "          element.appendChild(docLink);\n",
              "        }\n",
              "      </script>\n",
              "    </div>\n",
              "  </div>\n",
              "  "
            ]
          },
          "metadata": {},
          "execution_count": 169
        }
      ],
      "source": [
        "na_value_counts = np.array([loan_df[col].isna().sum() for col in loan_df.columns])\n",
        "perc_na_value_counts = (na_value_counts*100)/(len(loan_df))\n",
        "\n",
        "na_dict = {'Features' : loan_df.columns, 'Missing Values Percentage' : perc_na_value_counts}\n",
        "na_df = pd.DataFrame(na_dict).sort_values('Missing Values Percentage', ascending = False).reset_index().drop('index', axis = 1)\n",
        "\n",
        "# Tampilkan Top 20\n",
        "na_df.head(20)"
      ]
    },
    {
      "cell_type": "markdown",
      "metadata": {
        "id": "F-LvWYU1KxvI"
      },
      "source": [
        "Ada 17 Fitur yang hanya mengandung missing values, sisanya fitur memiliki missing values di bawah 87%"
      ]
    },
    {
      "cell_type": "markdown",
      "metadata": {
        "id": "JbxaRgPoK-du"
      },
      "source": [
        "### Distribusi Loan Absolute Variables\n",
        "\n",
        "Pada data ini terdapat 3 informasi yang terkait dengan variabel mutlak dari pinjaman yakni : besar permohonan pinjaman (loan_amnt), besar pinjaman yang dikasih oleh pihak lender (funded_amnt) dan total komitmen oleh investor (funded_amnt_inv)"
      ]
    },
    {
      "cell_type": "code",
      "execution_count": 170,
      "metadata": {
        "id": "zLNF_GPbMbI9",
        "colab": {
          "base_uri": "https://localhost:8080/",
          "height": 352
        },
        "outputId": "ff0dc5b4-9aed-4eac-b7d5-405d377cc022"
      },
      "outputs": [
        {
          "output_type": "stream",
          "name": "stderr",
          "text": [
            "/usr/local/lib/python3.7/dist-packages/seaborn/distributions.py:2619: FutureWarning: `distplot` is a deprecated function and will be removed in a future version. Please adapt your code to use either `displot` (a figure-level function with similar flexibility) or `histplot` (an axes-level function for histograms).\n",
            "  warnings.warn(msg, FutureWarning)\n"
          ]
        },
        {
          "output_type": "display_data",
          "data": {
            "text/plain": [
              "<Figure size 432x288 with 1 Axes>"
            ],
            "image/png": "[encoded data removed]"
          },
          "metadata": {
            "needs_background": "light"
          }
        }
      ],
      "source": [
        "# Buat data histogram\n",
        "loan_amount, funded_amount, investor_committment = loan_df['loan_amnt'], loan_df['funded_amnt'], loan_df['funded_amnt_inv']\n",
        "\n",
        "# Create distplot\n",
        "sns.distplot(loan_amount)\n",
        "plt.title(\"Distribusi Besar Pinjaman yang Diajukan oleh Peminjam\")\n",
        "plt.xlabel(\"Besar Pinjaman ($)\")\n",
        "plt.show()"
      ]
    },
    {
      "cell_type": "code",
      "execution_count": 171,
      "metadata": {
        "id": "b7XHNsNySNRM",
        "colab": {
          "base_uri": "https://localhost:8080/",
          "height": 352
        },
        "outputId": "c472f072-4c2e-4a4e-f648-06f1a0887192"
      },
      "outputs": [
        {
          "output_type": "stream",
          "name": "stderr",
          "text": [
            "/usr/local/lib/python3.7/dist-packages/seaborn/distributions.py:2619: FutureWarning: `distplot` is a deprecated function and will be removed in a future version. Please adapt your code to use either `displot` (a figure-level function with similar flexibility) or `histplot` (an axes-level function for histograms).\n",
            "  warnings.warn(msg, FutureWarning)\n"
          ]
        },
        {
          "output_type": "display_data",
          "data": {
            "text/plain": [
              "<Figure size 432x288 with 1 Axes>"
            ],
            "image/png": "[encoded data removed]"
          },
          "metadata": {
            "needs_background": "light"
          }
        }
      ],
      "source": [
        "sns.distplot(funded_amount, color = 'red')\n",
        "plt.title(\"Distribusi Besar Pinjaman yang Disetujui oleh Lender\")\n",
        "plt.xlabel(\"Besar Pinjaman ($)\")\n",
        "plt.show()"
      ]
    },
    {
      "cell_type": "code",
      "execution_count": 172,
      "metadata": {
        "id": "drLKRDyqR6kk",
        "colab": {
          "base_uri": "https://localhost:8080/",
          "height": 352
        },
        "outputId": "eca2b4f4-f28b-4475-9d90-4dc0c67f9b98"
      },
      "outputs": [
        {
          "output_type": "stream",
          "name": "stderr",
          "text": [
            "/usr/local/lib/python3.7/dist-packages/seaborn/distributions.py:2619: FutureWarning: `distplot` is a deprecated function and will be removed in a future version. Please adapt your code to use either `displot` (a figure-level function with similar flexibility) or `histplot` (an axes-level function for histograms).\n",
            "  warnings.warn(msg, FutureWarning)\n"
          ]
        },
        {
          "output_type": "display_data",
          "data": {
            "text/plain": [
              "<Figure size 432x288 with 1 Axes>"
            ],
            "image/png": "[encoded data removed]"
          },
          "metadata": {
            "needs_background": "light"
          }
        }
      ],
      "source": [
        "sns.distplot(investor_committment, color = 'green')\n",
        "plt.title(\"Total Komitmen oleh Investor\")\n",
        "plt.xlabel(\"Besar Pinjaman ($)\")\n",
        "plt.show()"
      ]
    },
    {
      "cell_type": "markdown",
      "metadata": {
        "id": "-vjLr4ngSkH6"
      },
      "source": [
        "Ketiga grafik variabel tersebut identik, jadi semua pinjaman yang diajukan sesuai dengan yang diberikan oleh Lender"
      ]
    },
    {
      "cell_type": "markdown",
      "metadata": {
        "id": "xiZWbmxGS2vZ"
      },
      "source": [
        "### Volume Peminjam\n",
        "Pada bagian ini akan dilihat jumlah peminjam dari hari ke hari"
      ]
    },
    {
      "cell_type": "code",
      "execution_count": 173,
      "metadata": {
        "id": "dg88x7iyT_3S",
        "colab": {
          "base_uri": "https://localhost:8080/"
        },
        "outputId": "36e2bf97-1a4b-400e-f8c7-5159e8cec0de"
      },
      "outputs": [
        {
          "output_type": "execute_result",
          "data": {
            "text/plain": [
              "0        2011-12-01\n",
              "1        2011-12-01\n",
              "2        2011-12-01\n",
              "3        2011-12-01\n",
              "4        2011-12-01\n",
              "            ...    \n",
              "466280   2014-01-01\n",
              "466281   2014-01-01\n",
              "466282   2014-01-01\n",
              "466283   2014-01-01\n",
              "466284   2014-01-01\n",
              "Name: issue_d, Length: 466285, dtype: datetime64[ns]"
            ]
          },
          "metadata": {},
          "execution_count": 173
        }
      ],
      "source": [
        "# Ubah ke datetime\n",
        "loan_df['issue_d'] = [date[:4] + '20' + date[4:] for date in loan_df['issue_d']]\n",
        "loan_df['issue_d'] = pd.to_datetime(loan_df['issue_d'], format = \"%b-%Y\")\n",
        "loan_df['issue_d']"
      ]
    },
    {
      "cell_type": "code",
      "execution_count": 174,
      "metadata": {
        "id": "qHmiL1ZMUhqw",
        "colab": {
          "base_uri": "https://localhost:8080/",
          "height": 296
        },
        "outputId": "dd4bd5a5-651d-4c4f-e71d-a31307b96b63"
      },
      "outputs": [
        {
          "output_type": "display_data",
          "data": {
            "text/plain": [
              "<Figure size 432x288 with 1 Axes>"
            ],
            "image/png": "[encoded data removed]"
          },
          "metadata": {
            "needs_background": "light"
          }
        }
      ],
      "source": [
        "# Groupby Issue_d\n",
        "volume_peminjam_per_bulan = loan_df.groupby('issue_d')['id'].count().to_frame().reset_index()\n",
        "\n",
        "# Buat Plot\n",
        "plt.plot(volume_peminjam_per_bulan['issue_d'], volume_peminjam_per_bulan['id'], color = 'cornflowerblue')\n",
        "plt.title(\"Volume Peminjam 2007-2014\")\n",
        "plt.xlabel(\"Tanggal Pengajuan\")\n",
        "plt.ylabel(\"Jumlah Peminjam\")\n",
        "plt.show()"
      ]
    },
    {
      "cell_type": "markdown",
      "metadata": {
        "id": "wpuTovY5ZfjZ"
      },
      "source": [
        "Dari tahun ke tahun jumlah peminjam menaik, akan tetapi pada tahun 2014, jumlah peminjam sempat menaik drastis diikuti dengan penurunan drastis, penyebabnya bisa jadi dari syarat peminjaman yang dipersulit agar meminimalisir risiko dari pemberian pinjaman kepada peminjam"
      ]
    },
    {
      "cell_type": "markdown",
      "metadata": {
        "id": "Jq81CBvjstwy"
      },
      "source": [
        "### Suku Bunga Lender\n",
        "Disini akan dilihat suku bunga yang ditetapkan oleh Lender dari bulan ke bulan"
      ]
    },
    {
      "cell_type": "code",
      "execution_count": 175,
      "metadata": {
        "id": "e0hT0mN2sybm",
        "colab": {
          "base_uri": "https://localhost:8080/",
          "height": 296
        },
        "outputId": "d933bd08-dad5-4efd-c49d-343f4177f599"
      },
      "outputs": [
        {
          "output_type": "display_data",
          "data": {
            "text/plain": [
              "<Figure size 432x288 with 1 Axes>"
            ],
            "image/png": "[encoded data removed]"
          },
          "metadata": {
            "needs_background": "light"
          }
        }
      ],
      "source": [
        "interest_rate_by_month = loan_df.groupby('issue_d')['int_rate'].mean()\n",
        "interest_rate_by_month.plot()\n",
        "plt.title(\"Suku Bunga 2007 - 2014\")\n",
        "plt.xlabel(\"Tanggal\")\n",
        "plt.ylabel(\"Suku Bunga (%)\")\n",
        "plt.show()"
      ]
    },
    {
      "cell_type": "markdown",
      "metadata": {
        "id": "nh8uNAZhtwo8"
      },
      "source": [
        "Seiring waktu suku bunganya fluktuatif hingga pada tahun 2014 menunjukkan tren menurun. Mungkin ini digunakan untuk menarik kembali peminjam agar mau mengajukan pinjaman ke pihak Lender"
      ]
    },
    {
      "cell_type": "markdown",
      "metadata": {
        "id": "qKwPLy0EaES6"
      },
      "source": [
        "### Volume Default dan Current"
      ]
    },
    {
      "cell_type": "code",
      "execution_count": 176,
      "metadata": {
        "id": "JBeDQd1CfgvM",
        "colab": {
          "base_uri": "https://localhost:8080/"
        },
        "outputId": "2bcdd19c-181d-4db6-fd03-ecc1b7c4c091"
      },
      "outputs": [
        {
          "output_type": "execute_result",
          "data": {
            "text/plain": [
              "array(['Fully Paid', 'Charged Off', 'Current', 'Default',\n",
              "       'Late (31-120 days)', 'In Grace Period', 'Late (16-30 days)',\n",
              "       'Does not meet the credit policy. Status:Fully Paid',\n",
              "       'Does not meet the credit policy. Status:Charged Off'],\n",
              "      dtype=object)"
            ]
          },
          "metadata": {},
          "execution_count": 176
        }
      ],
      "source": [
        "loan_df['loan_status'].unique()"
      ]
    },
    {
      "cell_type": "code",
      "execution_count": 177,
      "metadata": {
        "id": "uB4XSZO0duug",
        "colab": {
          "base_uri": "https://localhost:8080/",
          "height": 294
        },
        "outputId": "a74172a0-d776-4173-e71a-665103864994"
      },
      "outputs": [
        {
          "output_type": "display_data",
          "data": {
            "text/plain": [
              "<Figure size 432x288 with 1 Axes>"
            ],
            "image/png": "[encoded data removed]"
          },
          "metadata": {
            "needs_background": "light"
          }
        }
      ],
      "source": [
        "# Subset peminjam yang default\n",
        "default_df = loan_df[loan_df['loan_status'] == 'Default']\n",
        "current_df = loan_df[loan_df['loan_status'] == 'Current']\n",
        "\n",
        "# Group by tanggal dan lakukan transformasi logaritma\n",
        "volume_default = np.log(default_df.groupby('issue_d')['id'].count())\n",
        "volume_current= np.log(current_df.groupby('issue_d')['id'].count())\n",
        "\n",
        "# Plot\n",
        "volume_default.plot(color = 'red', label = 'Default')\n",
        "volume_current.plot(color = 'green', label = 'Current')\n",
        "\n",
        "plt.title(\"Log Scaled Jumlah Peminjam Berdasarkan Loan Status (2007 - 2014)\")\n",
        "plt.xlabel(\"Tanggal\")\n",
        "plt.ylabel(\"Jumlah Peminjam\")\n",
        "plt.legend()\n",
        "plt.show()"
      ]
    },
    {
      "cell_type": "markdown",
      "metadata": {
        "id": "KRSqpbiwhRRk"
      },
      "source": [
        "Dapat dilihat bahwa Lender ini memiliki lebih banyak peminjam current (peminjam yang mengembalikan pinjamannya tepat waktu) dibandingkan peminjam default"
      ]
    },
    {
      "cell_type": "markdown",
      "metadata": {
        "id": "fV9rC3HNhopK"
      },
      "source": [
        "### Tujuan Peminjaman"
      ]
    },
    {
      "cell_type": "code",
      "execution_count": 178,
      "metadata": {
        "id": "STQswNGuh2qa",
        "colab": {
          "base_uri": "https://localhost:8080/",
          "height": 296
        },
        "outputId": "124640bc-f9ad-4a50-962b-48a4be6b7ddb"
      },
      "outputs": [
        {
          "output_type": "display_data",
          "data": {
            "text/plain": [
              "<Figure size 432x288 with 1 Axes>"
            ],
            "image/png": "[encoded data removed]"
          },
          "metadata": {
            "needs_background": "light"
          }
        }
      ],
      "source": [
        "volume_purpose = loan_df.groupby('purpose')['id'].count().sort_values(ascending = True)\n",
        "volume_purpose.plot(kind = 'barh')\n",
        "plt.ylabel(\"Tujuan Peminjaman\")\n",
        "plt.xlabel(\"Jumlah Peminjam\")\n",
        "plt.title(\"Alasan Peminjam mengajukan Pinjaman\")\n",
        "plt.grid(False)\n",
        "plt.show()"
      ]
    },
    {
      "cell_type": "markdown",
      "metadata": {
        "id": "p6sgowe_i6LL"
      },
      "source": [
        "Kebanyakan peminjam ingin meminjam untuk membayar hutang lainnya yang dimiliki oleh peminjam tersebut. Alasan terbanyak selanjutnya adalah untuk kartu kredit, renovasi rumah"
      ]
    },
    {
      "cell_type": "markdown",
      "metadata": {
        "id": "gw-ODzKHjnxi"
      },
      "source": [
        "### Persebaran Pinjaman yang Bermasalah\n",
        "Pinjaman yang bermasalah ini dipicu oleh peminjam yang gagal mengembalikan pinjamannya pada waktu yang telah ditetapkan, ada 5 kategori mengenai peminjaman yang bermasalah yakni:\n",
        "\n",
        "1. Charged Off : Pinjaman diperkirakan tidak lunas oleh pihak peminjam\n",
        "2. Default : Peminjam gagal mengembalikan pinjaman dalam periode waktu lebih dari 120 hari\n",
        "3. Late : Peminjam gagal mengembalikan pinjaman dalam periode 16 - 120 hari\n",
        "4. Grace Period : Peminjam masih diberikan waktu untuk melunasi pinjamannya\n",
        "\n",
        "Berikut adalah persebaran pinjaman yang bermasalah\n"
      ]
    },
    {
      "cell_type": "code",
      "execution_count": 179,
      "metadata": {
        "id": "Y4aOh6IFmscK",
        "colab": {
          "base_uri": "https://localhost:8080/"
        },
        "outputId": "075bb9f3-af57-46cd-cdfc-e8aee3cb0e56"
      },
      "outputs": [
        {
          "output_type": "execute_result",
          "data": {
            "text/plain": [
              "array(['Fully Paid', 'Charged Off', 'Current', 'Default',\n",
              "       'Late (31-120 days)', 'In Grace Period', 'Late (16-30 days)',\n",
              "       'Does not meet the credit policy. Status:Fully Paid',\n",
              "       'Does not meet the credit policy. Status:Charged Off'],\n",
              "      dtype=object)"
            ]
          },
          "metadata": {},
          "execution_count": 179
        }
      ],
      "source": [
        "loan_df['loan_status'].unique()"
      ]
    },
    {
      "cell_type": "code",
      "execution_count": 180,
      "metadata": {
        "id": "Th2Fl2sok2ne",
        "colab": {
          "base_uri": "https://localhost:8080/",
          "height": 369
        },
        "outputId": "680eab0b-495f-41d1-ff68-88d974dbd2cf"
      },
      "outputs": [
        {
          "output_type": "stream",
          "name": "stderr",
          "text": [
            "/usr/local/lib/python3.7/dist-packages/ipykernel_launcher.py:2: FutureWarning: The default value of regex will change from True to False in a future version.\n",
            "  \n",
            "/usr/local/lib/python3.7/dist-packages/ipykernel_launcher.py:3: FutureWarning: The default value of regex will change from True to False in a future version.\n",
            "  This is separate from the ipykernel package so we can avoid doing imports until\n"
          ]
        },
        {
          "output_type": "display_data",
          "data": {
            "text/plain": [
              "<Figure size 432x288 with 1 Axes>"
            ],
            "image/png": "[encoded data removed]"
          },
          "metadata": {
            "needs_background": "light"
          }
        }
      ],
      "source": [
        "# Ubah kategori yang \"Does not meet the credit policy\"\n",
        "loan_df['loan_status'] = loan_df['loan_status'].str.replace('Does not meet the credit policy. Status:Fully Paid','Fully Paid')\n",
        "loan_df['loan_status'] = loan_df['loan_status'].str.replace('Does not meet the credit policy. Status:Charged Off','Charged Off')\n",
        "\n",
        "# Subset ke pinjaman yang bermasalah\n",
        "delinquent_loans = ['Charged Off','Default','Late (31-120 days)','In Grace Period','Late (16-30 days)']\n",
        "delinquent_df = loan_df[loan_df['loan_status'].isin(delinquent_loans)]\n",
        "\n",
        "# Liat persebarannya\n",
        "volume_delinquents = delinquent_df.groupby('loan_status')['id'].count().sort_values()\n",
        "volume_delinquents.plot(kind = 'barh', color = 'red')\n",
        "plt.xlabel(\"Jumlah Peminjam\")\n",
        "plt.ylabel(\"Status Peminjam\")\n",
        "plt.title(\"Persebaran Peminjam yang Bermasalah\")\n",
        "plt.grid(False)\n",
        "plt.show()"
      ]
    },
    {
      "cell_type": "markdown",
      "metadata": {
        "id": "SsLjxso9nCvx"
      },
      "source": [
        "Paling banyak peminjam bertipe Charged Off (berarti peminjam ini sudah dipastikan oleh Lender akan bermasalah dalam pengembalian pinjamannya)"
      ]
    },
    {
      "cell_type": "markdown",
      "metadata": {
        "id": "jd05KEHNnYlZ"
      },
      "source": [
        "### Persebaran Loan Grades\n",
        "\n",
        "Loan Grades adalah peringkat yang diberikan oleh Lender kepada peminjam berdasarkan track record mereka dalam melunasi pinjaman"
      ]
    },
    {
      "cell_type": "code",
      "execution_count": 181,
      "metadata": {
        "id": "QbjVd4E-nTJo",
        "colab": {
          "base_uri": "https://localhost:8080/",
          "height": 296
        },
        "outputId": "459c3e71-a675-4db1-85e2-a8ee8ad42c5b"
      },
      "outputs": [
        {
          "output_type": "display_data",
          "data": {
            "text/plain": [
              "<Figure size 432x288 with 1 Axes>"
            ],
            "image/png": "[encoded data removed]"
          },
          "metadata": {
            "needs_background": "light"
          }
        }
      ],
      "source": [
        "volume_grades = loan_df.groupby('grade')['id'].count()\n",
        "volume_grades.plot(kind = 'bar')\n",
        "plt.xticks(rotation = 0)\n",
        "plt.xlabel(\"Peringkat Peminjam\")\n",
        "plt.ylabel(\"Jumlah Peminjam\")\n",
        "plt.title(\"Persebaran Loan Grades Peminjam\")\n",
        "plt.grid(False)\n",
        "plt.show()"
      ]
    },
    {
      "cell_type": "markdown",
      "metadata": {
        "id": "xAoevKRGojI5"
      },
      "source": [
        "Paling banyak peminjam terkategorikan B diikuti dengan C, tapi dari peminjam yang bermasalah tersebut bagaimana peringkatnya, mari kita lihat"
      ]
    },
    {
      "cell_type": "code",
      "execution_count": 182,
      "metadata": {
        "id": "FqJw5dLVowFp",
        "colab": {
          "base_uri": "https://localhost:8080/",
          "height": 894
        },
        "outputId": "0ee1ca15-0fcf-4044-eadf-0b81460cb1be"
      },
      "outputs": [
        {
          "output_type": "display_data",
          "data": {
            "text/plain": [
              "<Figure size 1080x1080 with 1 Axes>"
            ],
            "image/png": "[encoded data removed]"
          },
          "metadata": {
            "needs_background": "light"
          }
        }
      ],
      "source": [
        "volume_grades_delinquent = delinquent_df.groupby(['grade','loan_status'])['id'].count().to_frame().reset_index()\n",
        "\n",
        "plt.figure(figsize = (15,15))\n",
        "sns.barplot(data = volume_grades_delinquent, x = 'id', y = 'loan_status', hue = 'grade')\n",
        "plt.xlabel(\"Jumlah Peminjam\")\n",
        "plt.ylabel(\"Peringkat Peminjam\")\n",
        "plt.title(\"Persebaran Peminjam yang Bermasalah berdasarkan Grade\")\n",
        "plt.show()"
      ]
    },
    {
      "cell_type": "markdown",
      "metadata": {
        "id": "nGrpmPApptlY"
      },
      "source": [
        "Ada beberapa peminjam yang berperingkat A tetapi terkategorikan sebagai peminjam yang bermasalah, \n",
        "\n",
        "Peminjam berperingkat C dominan menjadi peminjam yang bermasalah, diikuti oleh peminjam D. Anehnya peminjam berperingkat G justru memiliki paling sedikit peminjam yang bermasalah\n",
        "\n",
        "Dengan asumsi bahwa peminjam A sangat baik dan peminjam G sangat bermasalah, maka Grade tidak mencerminkan kemampuan peminjam dalam mengembalikan pinjaman"
      ]
    },
    {
      "cell_type": "markdown",
      "metadata": {
        "id": "94NgtRHOgPU3"
      },
      "source": [
        "### Annual Income Peminjam\n",
        "\n",
        "Di bagian ini akan dilihat annual income peminjam dan dilihat perbandingannya dengan jumlah yang akan dipinjamkan, risiko peminjaman dan grade"
      ]
    },
    {
      "cell_type": "markdown",
      "metadata": {
        "id": "fzMd9cZ1mMJZ"
      },
      "source": [
        "#### Hubungannya dengan Loan Amount"
      ]
    },
    {
      "cell_type": "code",
      "execution_count": 183,
      "metadata": {
        "id": "edK3QB98hnKl",
        "colab": {
          "base_uri": "https://localhost:8080/",
          "height": 352
        },
        "outputId": "bfa7c6bf-b083-439c-c489-78511883e6b1"
      },
      "outputs": [
        {
          "output_type": "stream",
          "name": "stderr",
          "text": [
            "/usr/local/lib/python3.7/dist-packages/seaborn/_decorators.py:43: FutureWarning: Pass the following variable as a keyword arg: x. From version 0.12, the only valid positional argument will be `data`, and passing other arguments without an explicit keyword will result in an error or misinterpretation.\n",
            "  FutureWarning\n"
          ]
        },
        {
          "output_type": "display_data",
          "data": {
            "text/plain": [
              "<Figure size 432x288 with 1 Axes>"
            ],
            "image/png": "[encoded data removed]"
          },
          "metadata": {
            "needs_background": "light"
          }
        }
      ],
      "source": [
        "# Liat distribusi annual income dan loan amount\n",
        "sns.violinplot(np.log(loan_df['annual_inc']), color = 'green')\n",
        "plt.xlabel(\"Log Scaled Amount of Money ($)\")\n",
        "plt.title(\"Violin Plot Log(Annual Income)\")\n",
        "plt.show()"
      ]
    },
    {
      "cell_type": "code",
      "execution_count": 184,
      "metadata": {
        "id": "PK1Heo1AlsA8",
        "colab": {
          "base_uri": "https://localhost:8080/",
          "height": 352
        },
        "outputId": "a0e6255c-a6bc-49e2-af31-b53d0872e33b"
      },
      "outputs": [
        {
          "output_type": "stream",
          "name": "stderr",
          "text": [
            "/usr/local/lib/python3.7/dist-packages/seaborn/_decorators.py:43: FutureWarning: Pass the following variable as a keyword arg: x. From version 0.12, the only valid positional argument will be `data`, and passing other arguments without an explicit keyword will result in an error or misinterpretation.\n",
            "  FutureWarning\n"
          ]
        },
        {
          "output_type": "display_data",
          "data": {
            "text/plain": [
              "<Figure size 432x288 with 1 Axes>"
            ],
            "image/png": "[encoded data removed]"
          },
          "metadata": {
            "needs_background": "light"
          }
        }
      ],
      "source": [
        "sns.violinplot(np.log(loan_df['loan_amnt']), label = 'Loan Amount ($)', color = 'red')\n",
        "plt.xlabel(\"Log Scaled Amount of Money ($)\")\n",
        "plt.title(\"Violin Plot Log(Loan Amount)\")\n",
        "plt.show()"
      ]
    },
    {
      "cell_type": "markdown",
      "metadata": {
        "id": "sBzf42DclFIQ"
      },
      "source": [
        "Setelah ditransformasi oleh fungsi logaritmik, dapat dilihat bahwa terdapat hubungan berbanding lurus antara jumlah yang akan dipinjamkan"
      ]
    },
    {
      "cell_type": "code",
      "execution_count": 185,
      "metadata": {
        "id": "u63e1-nYjoNE",
        "colab": {
          "base_uri": "https://localhost:8080/",
          "height": 296
        },
        "outputId": "382e2253-258a-4de1-d64b-1d8a070d9307"
      },
      "outputs": [
        {
          "output_type": "display_data",
          "data": {
            "text/plain": [
              "<Figure size 432x288 with 1 Axes>"
            ],
            "image/png": "[encoded data removed]"
          },
          "metadata": {
            "needs_background": "light"
          }
        }
      ],
      "source": [
        "# Diagram pencar antara log annual income dan log loan amount\n",
        "plt.scatter(np.log(loan_df['annual_inc']), np.log(loan_df['loan_amnt']))\n",
        "plt.xlabel(\"Annual Income ($)\")\n",
        "plt.ylabel(\"Loan Amount ($)\")\n",
        "plt.title(\"Scatter Plot Log(Annual Income) dengan Log(Loan Amount)\")\n",
        "plt.show()"
      ]
    },
    {
      "cell_type": "code",
      "execution_count": 186,
      "metadata": {
        "id": "njDiKdt2kMQR",
        "colab": {
          "base_uri": "https://localhost:8080/"
        },
        "outputId": "f415a090-f5e9-480d-b8b6-e738af5448e3"
      },
      "outputs": [
        {
          "output_type": "stream",
          "name": "stdout",
          "text": [
            "Korelasi :  0.47623649990010153\n"
          ]
        }
      ],
      "source": [
        "# Korelasi antara dua fitur tsb\n",
        "print(\"Korelasi : \", np.log(loan_df['annual_inc']).corr(np.log(loan_df['loan_amnt'])))"
      ]
    },
    {
      "cell_type": "markdown",
      "metadata": {
        "id": "s4HNZk9MkKsv"
      },
      "source": [
        "Terdapat korelasi positif antara Annual Income peminjam dengan Jumlah uang yang akan dipinjamkan"
      ]
    },
    {
      "cell_type": "markdown",
      "metadata": {
        "id": "Kb7VK51JmQMm"
      },
      "source": [
        "#### Hubungannya dengan Risiko Pinjaman\n",
        "\n",
        "Disini akan dilihat persebaran pendapatan dari peminjam yang bermasalah"
      ]
    },
    {
      "cell_type": "code",
      "execution_count": 187,
      "metadata": {
        "id": "TBw1rtywmXxu",
        "colab": {
          "base_uri": "https://localhost:8080/",
          "height": 296
        },
        "outputId": "b1e5388f-854a-45a5-faac-797df5194149"
      },
      "outputs": [
        {
          "output_type": "display_data",
          "data": {
            "text/plain": [
              "<Figure size 432x288 with 1 Axes>"
            ],
            "image/png": "[encoded data removed]"
          },
          "metadata": {
            "needs_background": "light"
          }
        }
      ],
      "source": [
        "sns.boxplot(x = np.log(loan_df['annual_inc']), y = loan_df['loan_status'])\n",
        "plt.title(\"Box Plot Annual Income berdasarkan Status Pinjaman\")\n",
        "plt.xlabel(\"Log(Annual Income)\")\n",
        "plt.ylabel(\"Status Pinjaman\")\n",
        "plt.show()"
      ]
    },
    {
      "cell_type": "markdown",
      "metadata": {
        "id": "-y4Wg3l9n4oq"
      },
      "source": [
        "Dari box plot tampaknya terdapat banyak pencilan di setiap kategori, selain itu untuk yang statusnya fully paid dan current, median incomenya bernilai sama. Perhatikan untuk yang statusnya charged off, memiliki median income yang sama rendahnya dengan yang default"
      ]
    },
    {
      "cell_type": "markdown",
      "metadata": {
        "id": "yQfzBoBzoXSd"
      },
      "source": [
        "#### Hubungannya dengan Grade"
      ]
    },
    {
      "cell_type": "code",
      "execution_count": 188,
      "metadata": {
        "id": "AgEgpekjoNtE",
        "colab": {
          "base_uri": "https://localhost:8080/",
          "height": 296
        },
        "outputId": "6a231f4d-ac3f-4849-ccf9-8296c1500b3b"
      },
      "outputs": [
        {
          "output_type": "display_data",
          "data": {
            "text/plain": [
              "<Figure size 432x288 with 1 Axes>"
            ],
            "image/png": "[encoded data removed]"
          },
          "metadata": {
            "needs_background": "light"
          }
        }
      ],
      "source": [
        "sns.violinplot(x = np.log(loan_df['annual_inc']), y = loan_df['grade'].sort_values())\n",
        "plt.title(\"Violin Plot Annual Income berdasarkan Grade Peminjam\")\n",
        "plt.xlabel(\"Log(Annual Income)\")\n",
        "plt.ylabel(\"Grade\")\n",
        "plt.show()"
      ]
    },
    {
      "cell_type": "markdown",
      "metadata": {
        "id": "KQnr1-W6p1xx"
      },
      "source": [
        "Dapat dilihat bahwa peminjam grade A memiliki median Income yang hampir sama dengan peminjam grade G, padahal peminjam grade G risiko charged offnya paling tinggi"
      ]
    },
    {
      "cell_type": "markdown",
      "metadata": {
        "id": "WL-GGqQ-E5Pm"
      },
      "source": [
        "### Employment Title Peminjam\n",
        "Akan dilihat distribusi pekerjaan dan employment length dari peminjam, asumsikan peminjam yang pekerjaannya tidak diketahui adalah peminjam yang menganggur"
      ]
    },
    {
      "cell_type": "code",
      "execution_count": 189,
      "metadata": {
        "id": "kblwIAwfE9se"
      },
      "outputs": [],
      "source": [
        "# Buat data baru\n",
        "loan_df['emp_title'] = loan_df['emp_title'].str.lower().str.capitalize()\n",
        "loan_df['emp_title'] = loan_df['emp_title'].str.replace('Rn','Registered Nurse')\n",
        "no_na_df = loan_df.loc[:, ['emp_title']].fillna('Unknown')\n",
        "\n",
        "\n",
        "count_job = no_na_df['emp_title'].value_counts().to_frame().reset_index()\n",
        "count_job.columns = ['emp_title','counts']"
      ]
    },
    {
      "cell_type": "code",
      "execution_count": 190,
      "metadata": {
        "id": "BCs-ytzD-eDd",
        "colab": {
          "base_uri": "https://localhost:8080/",
          "height": 36
        },
        "outputId": "df6130a5-dbdd-45de-b1a7-069773999b14"
      },
      "outputs": [
        {
          "output_type": "execute_result",
          "data": {
            "text/plain": [
              "\"\\n# save ke csv\\nloan_df.to_csv('loan_df_cleaned.csv')\""
            ],
            "application/vnd.google.colaboratory.intrinsic+json": {
              "type": "string"
            }
          },
          "metadata": {},
          "execution_count": 190
        }
      ],
      "source": [
        "'''\n",
        "# save ke csv\n",
        "loan_df.to_csv('loan_df_cleaned.csv')'''"
      ]
    },
    {
      "cell_type": "code",
      "execution_count": 191,
      "metadata": {
        "id": "i48_O0kPGyKW",
        "colab": {
          "base_uri": "https://localhost:8080/",
          "height": 279
        },
        "outputId": "4d5bf1b6-c148-4798-9a0c-2b92142423fe"
      },
      "outputs": [
        {
          "output_type": "display_data",
          "data": {
            "text/plain": [
              "<Figure size 432x288 with 1 Axes>"
            ],
            "image/png": "[encoded data removed]"
          },
          "metadata": {
            "needs_background": "light"
          }
        }
      ],
      "source": [
        "# Buat visualisasi\n",
        "plt.barh(y = count_job['emp_title'][:20], width = count_job['counts'][:20])\n",
        "plt.xlabel(\"Jumlah Peminjam\")\n",
        "plt.ylabel(\"Jenis Pekerjaan\")\n",
        "plt.show()"
      ]
    },
    {
      "cell_type": "markdown",
      "metadata": {
        "id": "0ECblzf6aWvM"
      },
      "source": [
        "Dapat diamati bahwa paling banyak tidak diketahui, diikuti oleh guru dan manajer"
      ]
    },
    {
      "cell_type": "markdown",
      "metadata": {
        "id": "Zyr7RlSQJHs-"
      },
      "source": [
        "# Data Preparation"
      ]
    },
    {
      "cell_type": "markdown",
      "metadata": {
        "id": "CvkHd5SULGWN"
      },
      "source": [
        "## Split Data\n",
        "Pada bagian ini akan displit data menjadi data training dan data testing lalu menerapkan data preprocessing pada kedua data tersebut. \n",
        "\n",
        "Alasannya adalah apabila kita preprocessing data keseluruhan, maka saat pembagian data menjadi training set dan testing set informasi yang seharusnya ada di testing set bocor di training set akibatnya terjadi kebocoran data yang dapat mengakibatkan overfitting model"
      ]
    },
    {
      "cell_type": "code",
      "execution_count": 192,
      "metadata": {
        "id": "2uZ2xTfuMAhr",
        "colab": {
          "base_uri": "https://localhost:8080/"
        },
        "outputId": "0dbdb7d4-0361-44c8-e82c-0b16e672ebd3"
      },
      "outputs": [
        {
          "output_type": "execute_result",
          "data": {
            "text/plain": [
              "array(['Fully Paid', 'Charged Off', 'Current', 'Default',\n",
              "       'Late (31-120 days)', 'In Grace Period', 'Late (16-30 days)'],\n",
              "      dtype=object)"
            ]
          },
          "metadata": {},
          "execution_count": 192
        }
      ],
      "source": [
        "loan_df['loan_status'].unique()"
      ]
    },
    {
      "cell_type": "markdown",
      "metadata": {
        "id": "fIZsxge2LyCW"
      },
      "source": [
        "### Label Encode variabel target\n",
        "Pada bagian ini akan dilakukan label encoding untuk loan status, apabila loan status termasuk ke peminjaman yang bermasalah maka akan dilabelkan 1, apabila tidak maka akan dilabelkan 0, lebih lanjut\n",
        "\n",
        "\n",
        "*   Fully paid dilabelkan 0 karena pembayaran telah lunas\n",
        "*   Current dilabelkan 0 karena pembayaran dilakukan tepat waktu\n",
        "*   Charged Off dilabelkan 1 karena pembayaran tidak akan dilakukan oleh peminjam \n",
        "*   Default dilabelkan 1 karena pembayaran default\n",
        "*   Late dilabelkan 1 karena pembayaran telat dan ada kemungkinan akan default\n",
        "*   In Grace Period dilabelkan 1 karena pembayaran telat dan ada kemungkinan akan default\n",
        "\n"
      ]
    },
    {
      "cell_type": "code",
      "execution_count": 193,
      "metadata": {
        "id": "vcsZAdfaLNe4",
        "colab": {
          "base_uri": "https://localhost:8080/",
          "height": 352
        },
        "outputId": "25e5ffab-455a-46ca-978f-193d5ce82802"
      },
      "outputs": [
        {
          "output_type": "stream",
          "name": "stderr",
          "text": [
            "/usr/local/lib/python3.7/dist-packages/seaborn/_decorators.py:43: FutureWarning: Pass the following variable as a keyword arg: x. From version 0.12, the only valid positional argument will be `data`, and passing other arguments without an explicit keyword will result in an error or misinterpretation.\n",
            "  FutureWarning\n"
          ]
        },
        {
          "output_type": "display_data",
          "data": {
            "text/plain": [
              "<Figure size 432x288 with 1 Axes>"
            ],
            "image/png": "[encoded data removed]"
          },
          "metadata": {
            "needs_background": "light"
          }
        }
      ],
      "source": [
        "# split dulu datanya menjadi variabel prediktor dan variabel target\n",
        "X = loan_df.drop('loan_status', axis = 1)\n",
        "y = loan_df['loan_status']\n",
        "\n",
        "# Bikin dict Target\n",
        "dict_target = {'Fully Paid' : 0,\n",
        "               'Current' : 0,\n",
        "               'Charged Off' : 1,\n",
        "               'Default' : 1,\n",
        "               'Late' : 1,\n",
        "               'In Grace Period' : 1}\n",
        "               \n",
        "# Label encoding\n",
        "y = y.map(dict_target)\n",
        "\n",
        "# Lihat persebarannya\n",
        "sns.countplot(y)\n",
        "plt.title(\"Persebaran Variabel Target\")\n",
        "plt.grid(False)\n",
        "plt.show()"
      ]
    },
    {
      "cell_type": "markdown",
      "metadata": {
        "id": "jziRQyxFM5HN"
      },
      "source": [
        "Ada ketidakseimbangan target dalam permasalahan klasifikasi ini jadi perlu ditangani saat pemodelan nanti dengan menggunakan algoritma SMOTE"
      ]
    },
    {
      "cell_type": "code",
      "execution_count": 194,
      "metadata": {
        "id": "boS-e0cZOV_O",
        "colab": {
          "base_uri": "https://localhost:8080/"
        },
        "outputId": "d53454b1-0a45-4788-d18d-2c76c54c1a83"
      },
      "outputs": [
        {
          "output_type": "execute_result",
          "data": {
            "text/plain": [
              "8118"
            ]
          },
          "metadata": {},
          "execution_count": 194
        }
      ],
      "source": [
        "y.isnull().sum()"
      ]
    },
    {
      "cell_type": "markdown",
      "metadata": {
        "id": "sPP57s3eObKN"
      },
      "source": [
        "Ternyata ada null values di y nya, akan diisi dengan peminjaman yang bermasalah"
      ]
    },
    {
      "cell_type": "code",
      "execution_count": 195,
      "metadata": {
        "id": "JOGaT5PsOpEE"
      },
      "outputs": [],
      "source": [
        "y = y.fillna(1)"
      ]
    },
    {
      "cell_type": "markdown",
      "metadata": {
        "id": "c9hvuCf_NKVM"
      },
      "source": [
        "### Split Training dan Testing"
      ]
    },
    {
      "cell_type": "code",
      "execution_count": 196,
      "metadata": {
        "id": "C3tK7Zf6NNh_"
      },
      "outputs": [],
      "source": [
        "# Karena terdapat ketidakseimbangan variabel target maka perlu distratify jadi variabel target memiliki proporsi kedua label target tersebut\n",
        "X_train, X_test, y_train, y_test = train_test_split(X, y, test_size = 0.3, random_state = 111, stratify = y)"
      ]
    },
    {
      "cell_type": "code",
      "execution_count": 197,
      "metadata": {
        "id": "WFeUcCFHQtcS"
      },
      "outputs": [],
      "source": [
        "X_train = X_train.reset_index().drop(['Unnamed: 0', 'index'], axis = 1)\n",
        "y_train = y_train.reset_index().drop(['index'], axis = 1)\n",
        "y_train = np.array(y_train).flatten()\n",
        "\n",
        "X_test = X_test.reset_index().drop(['Unnamed: 0','index'], axis = 1)\n",
        "y_test = y_test.reset_index().drop(['index'], axis = 1)\n",
        "y_test = np.array(y_test).flatten()"
      ]
    },
    {
      "cell_type": "markdown",
      "metadata": {
        "id": "rGFf7zQHGSGy"
      },
      "source": [
        "## Missing Values\n",
        "\n",
        "Perhatikan bahwa ada fitur berisi missing values, pada bagian ini akan dilakukan :    \n",
        "* Drop fitur yang mengandung 70% missing values\n",
        "* Imputasi fitur yang masih mengandung missing values"
      ]
    },
    {
      "cell_type": "markdown",
      "metadata": {
        "id": "ZV--6-PxI5yH"
      },
      "source": [
        "### Drop Fitur Missing Values\n",
        "\n",
        "Perhatikan bahwa ada fitur yang hanya berisi missing values, maka akan didrop fitur tersebut."
      ]
    },
    {
      "cell_type": "code",
      "execution_count": 198,
      "metadata": {
        "id": "iftQKoSSGgMB",
        "colab": {
          "base_uri": "https://localhost:8080/"
        },
        "outputId": "c5322da4-0078-426c-bf3b-9641c4da1333"
      },
      "outputs": [
        {
          "output_type": "stream",
          "name": "stdout",
          "text": [
            "Feature training shape:  (326399, 53)\n",
            "Feature testing shape:  (139886, 53)\n"
          ]
        }
      ],
      "source": [
        "# Drop missing values di fitur yang memiliki semua nilai NA\n",
        "most_na_train_features = [col for col in X_train.columns if (X_train[col].isna().sum()*100)/len(X_train) >= 70]\n",
        "most_na_test_features = [col for col in X_test.columns if (X_test[col].isna().sum()*100)/len(X_test) >= 70]\n",
        "\n",
        "X_train = X_train.drop(most_na_train_features, axis = 1)\n",
        "X_test = X_test.drop(most_na_test_features, axis = 1)\n",
        "\n",
        "print(\"Feature training shape: \",X_train.shape)\n",
        "print(\"Feature testing shape: \",X_test.shape)"
      ]
    },
    {
      "cell_type": "markdown",
      "metadata": {
        "id": "8qnokJ8yCGjK"
      },
      "source": [
        "Kini ada 55 fitur yang tersedia, mari kita lihat persebaran null valuesnya kembali"
      ]
    },
    {
      "cell_type": "code",
      "execution_count": 199,
      "metadata": {
        "id": "Zaf20LabgFVV",
        "colab": {
          "base_uri": "https://localhost:8080/"
        },
        "outputId": "1c9c0eb6-1bb0-4427-fb90-1af9b98f1f41"
      },
      "outputs": [
        {
          "output_type": "execute_result",
          "data": {
            "text/plain": [
              "id                                 0\n",
              "addr_state                         0\n",
              "dti                                0\n",
              "policy_code                        0\n",
              "revol_bal                          0\n",
              "initial_list_status                0\n",
              "out_prncp                          0\n",
              "out_prncp_inv                      0\n",
              "total_pymnt                        0\n",
              "total_pymnt_inv                    0\n",
              "total_rec_prncp                    0\n",
              "total_rec_int                      0\n",
              "total_rec_late_fee                 0\n",
              "recoveries                         0\n",
              "collection_recovery_fee            0\n",
              "last_pymnt_amnt                    0\n",
              "zip_code                           0\n",
              "purpose                            0\n",
              "application_type                   0\n",
              "funded_amnt                        0\n",
              "url                                0\n",
              "installment                        0\n",
              "int_rate                           0\n",
              "term                               0\n",
              "home_ownership                     0\n",
              "funded_amnt_inv                    0\n",
              "sub_grade                          0\n",
              "grade                              0\n",
              "member_id                          0\n",
              "verification_status                0\n",
              "issue_d                            0\n",
              "pymnt_plan                         0\n",
              "loan_amnt                          0\n",
              "annual_inc                         2\n",
              "title                             12\n",
              "acc_now_delinq                    18\n",
              "earliest_cr_line                  18\n",
              "total_acc                         18\n",
              "pub_rec                           18\n",
              "open_acc                          18\n",
              "inq_last_6mths                    18\n",
              "delinq_2yrs                       18\n",
              "last_credit_pull_d                30\n",
              "collections_12_mths_ex_med        99\n",
              "revol_util                       236\n",
              "last_pymnt_d                     276\n",
              "emp_length                     14682\n",
              "emp_title                      19278\n",
              "tot_coll_amt                   49298\n",
              "total_rev_hi_lim               49298\n",
              "tot_cur_bal                    49298\n",
              "next_pymnt_d                  159184\n",
              "mths_since_last_delinq        175062\n",
              "dtype: int64"
            ]
          },
          "metadata": {},
          "execution_count": 199
        }
      ],
      "source": [
        "# Training null values\n",
        "X_train.isnull().sum().sort_values()"
      ]
    },
    {
      "cell_type": "markdown",
      "metadata": {
        "id": "MsSXds5aujcl"
      },
      "source": [
        "Masih ada beberapa fitur yang mengandung missing values, akan dilakukan imputasi pada fitur-fitur tersebut\n",
        "\n",
        "\n",
        "NOTE : Unique values yang dilihat berasal dari data training, tapi imputasinya juga tetap berlaku untuk data testing"
      ]
    },
    {
      "cell_type": "markdown",
      "metadata": {
        "id": "PvVMSlu3C529"
      },
      "source": [
        "### Imputasi Missing Values"
      ]
    },
    {
      "cell_type": "markdown",
      "metadata": {
        "id": "oefBOES8C7Xh"
      },
      "source": [
        "#### mths_since_last_delinq\n",
        "Fitur ini menyatakan Jumlah bulan sejak peminjaman bermasalah terakhir peminjam. Mari kita lihat unique valuesnya"
      ]
    },
    {
      "cell_type": "code",
      "execution_count": 200,
      "metadata": {
        "id": "GbbjyMjrDQxw",
        "colab": {
          "base_uri": "https://localhost:8080/"
        },
        "outputId": "d63ad0be-23ca-4936-9e3e-efe88cbea8f5"
      },
      "outputs": [
        {
          "output_type": "execute_result",
          "data": {
            "text/plain": [
              "array([ nan,  19.,  49.,  14.,  31.,  60.,  76.,  26.,  68.,  15.,  39.,\n",
              "         7.,  23.,  18.,  28.,  71.,   9.,  24.,  10.,  48.,  57.,  36.,\n",
              "        27.,  81.,  12.,  69.,  47.,  37.,  11.,  58.,  40.,   1.,  44.,\n",
              "        52.,  38.,  21.,  20.,  16.,   5.,  33.,  45.,  74.,  30.,   0.,\n",
              "        13.,  72.,  29.,   6.,  55.,  53.,  32.,   4.,  50.,  64.,  22.,\n",
              "        17.,  35.,  56.,  51.,  77.,  80.,  34.,  43.,  99.,  65.,  25.,\n",
              "        61.,  66.,  75.,   8.,   3.,  42.,  41.,  73.,  46.,  79.,  78.,\n",
              "        70.,  63.,  59.,  54.,  62.,   2.,  67., 105., 103.,  82.,  83.,\n",
              "       130., 119.,  91.,  85.,  86., 114.,  93., 151.,  88.,  87., 104.,\n",
              "       120., 188.,  97., 111.,  84., 108., 135., 148.,  90.,  95.,  92.,\n",
              "       127., 107.,  94., 131.,  96., 124., 100.,  89., 106., 126., 139.,\n",
              "       101., 113., 121., 116., 115., 110., 102., 156., 170., 159., 140.,\n",
              "       133., 143., 122., 134.,  98., 109., 118., 149., 141.])"
            ]
          },
          "metadata": {},
          "execution_count": 200
        }
      ],
      "source": [
        "X_train['mths_since_last_delinq'].unique()"
      ]
    },
    {
      "cell_type": "markdown",
      "metadata": {
        "id": "iTP21qD4DXK4"
      },
      "source": [
        "Ada beberapa alasan kenapa fitur tersebut bernilai NaN,\n",
        "* Informasi yang kurang lengkap dari peminjam\n",
        "* Peminjam yang memang sangat patuh pada deadline sehingga ia tidak pernah telat mengembalikan pinjamannya\n",
        "Mari kita lihat lebih lanjut peminjam apa yang fiturnya bernilai NaN"
      ]
    },
    {
      "cell_type": "code",
      "execution_count": 201,
      "metadata": {
        "id": "Yed5gytuD_pX",
        "colab": {
          "base_uri": "https://localhost:8080/"
        },
        "outputId": "354080be-c104-4a38-9c40-dfd8be164faa"
      },
      "outputs": [
        {
          "output_type": "execute_result",
          "data": {
            "text/plain": [
              "grade\n",
              "A    35797\n",
              "B    52066\n",
              "C    44256\n",
              "D    25795\n",
              "E    11799\n",
              "F     4333\n",
              "G     1016\n",
              "Name: id, dtype: int64"
            ]
          },
          "metadata": {},
          "execution_count": 201
        }
      ],
      "source": [
        "missing_mths_last_delinq = X_train[X_train['mths_since_last_delinq'].isna() == True]\n",
        "missing_mths_last_delinq.groupby('grade')['id'].count()"
      ]
    },
    {
      "cell_type": "markdown",
      "metadata": {
        "id": "zelh8UBTESs-"
      },
      "source": [
        "Menariknya, peminjam yang fiturnya bernilai NaN sebagian besar berasal dari grade B, C dan A, jadi peminjamnya cenderung menepati deadline jika dilihat dari peringkat ini. Strategi untuk mengisi null values disini bisa dengan mengikuti peringkatnya, mari kita lihat rerata bulannya untuk setiap grade"
      ]
    },
    {
      "cell_type": "code",
      "execution_count": 202,
      "metadata": {
        "id": "g0NeQKiIE09l",
        "colab": {
          "base_uri": "https://localhost:8080/"
        },
        "outputId": "301130ab-05ce-4a0d-d772-7b8e372c592a"
      },
      "outputs": [
        {
          "output_type": "execute_result",
          "data": {
            "text/plain": [
              "{'A': 34.0, 'B': 32.0, 'C': 30.0, 'D': 30.0, 'E': 29.0, 'F': 28.0, 'G': 25.0}"
            ]
          },
          "metadata": {},
          "execution_count": 202
        }
      ],
      "source": [
        "dict(X_train.groupby('grade')['mths_since_last_delinq'].median())"
      ]
    },
    {
      "cell_type": "markdown",
      "metadata": {
        "id": "GsnQX68KFH3G"
      },
      "source": [
        "Hasil di atas cukup masuk akal karena grade A adalah peminjam yang berkualitas jadinya waktu sejak peminjaman bermasalahnya paling lama dibandingkan dengan grade lainnya"
      ]
    },
    {
      "cell_type": "code",
      "execution_count": 203,
      "metadata": {
        "id": "GcYRcmMdFduR"
      },
      "outputs": [],
      "source": [
        "# Imputasi dengan grade\n",
        "def mths_since_last_delinq_imputer(data):\n",
        "  # Group by grade dan hitung median mths_since_last_delinq\n",
        "  grade_mths_since_last_delinq = data.groupby('grade')['mths_since_last_delinq'].median()\n",
        "  dict_grade_mths_since_last_delinq = dict(grade_mths_since_last_delinq)\n",
        "\n",
        "  # Isi missing values berdasarkan gradenya\n",
        "  for i in range(len(data)):\n",
        "    if pd.isna(data['mths_since_last_delinq'][i]) == True:\n",
        "      data['mths_since_last_delinq'][i] = dict_grade_mths_since_last_delinq[data['grade'][i]]\n",
        "  \n",
        "  # return data\n",
        "  return data"
      ]
    },
    {
      "cell_type": "code",
      "execution_count": 204,
      "metadata": {
        "id": "Sq1lfOVxGYrT",
        "colab": {
          "base_uri": "https://localhost:8080/"
        },
        "outputId": "f7f5584c-07a7-4f9f-dd36-d632e978473d"
      },
      "outputs": [
        {
          "output_type": "stream",
          "name": "stderr",
          "text": [
            "/usr/local/lib/python3.7/dist-packages/ipykernel_launcher.py:10: SettingWithCopyWarning: \n",
            "A value is trying to be set on a copy of a slice from a DataFrame\n",
            "\n",
            "See the caveats in the documentation: https://pandas.pydata.org/pandas-docs/stable/user_guide/indexing.html#returning-a-view-versus-a-copy\n",
            "  # Remove the CWD from sys.path while we load stuff.\n"
          ]
        }
      ],
      "source": [
        "X_train = mths_since_last_delinq_imputer(X_train)\n",
        "X_test = mths_since_last_delinq_imputer(X_test)"
      ]
    },
    {
      "cell_type": "code",
      "execution_count": 205,
      "metadata": {
        "id": "2LR7pdOSGzyb",
        "colab": {
          "base_uri": "https://localhost:8080/"
        },
        "outputId": "d75dcc5c-2d32-4d7e-82da-2df4c3ba6c11"
      },
      "outputs": [
        {
          "output_type": "execute_result",
          "data": {
            "text/plain": [
              "0"
            ]
          },
          "metadata": {},
          "execution_count": 205
        }
      ],
      "source": [
        "# Sanity Check\n",
        "X_train['mths_since_last_delinq'].isnull().sum()"
      ]
    },
    {
      "cell_type": "markdown",
      "metadata": {
        "id": "ozjNqceEG33R"
      },
      "source": [
        "Semua missing values telah diimputasi di fitur tersebut"
      ]
    },
    {
      "cell_type": "markdown",
      "metadata": {
        "id": "_MhwOl0sG6Ak"
      },
      "source": [
        "#### next_pymnt_d\n",
        "Fitur ini menyatakan tanggal pembayaran terjadwal berikutnya, mari kita lihat persebarannya"
      ]
    },
    {
      "cell_type": "code",
      "execution_count": 206,
      "metadata": {
        "id": "zvxj_AreHK3G",
        "colab": {
          "base_uri": "https://localhost:8080/"
        },
        "outputId": "13daf0f6-c72b-4b34-e8ed-8b2fcc9f2b29"
      },
      "outputs": [
        {
          "output_type": "execute_result",
          "data": {
            "text/plain": [
              "array(['Feb-16', nan, 'Jan-16', 'Jun-09', 'Apr-10', 'Nov-09', 'Apr-11',\n",
              "       'Jun-11', 'Oct-12', 'Aug-10', 'Sep-12', 'Jan-12', 'Dec-09',\n",
              "       'May-11', 'Nov-10', 'Jul-11', 'Apr-13', 'Mar-12', 'Apr-12',\n",
              "       'Feb-12', 'Aug-12', 'Oct-11', 'Sep-13', 'Sep-11', 'Aug-13',\n",
              "       'Oct-09', 'Jun-12', 'Jun-10', 'Aug-11', 'Jan-08', 'Jan-15',\n",
              "       'Nov-12', 'Mar-11', 'Dec-10', 'Mar-10', 'Dec-08', 'Oct-13',\n",
              "       'Dec-11', 'Feb-11', 'Apr-09', 'Nov-11', 'Jan-10', 'May-13',\n",
              "       'Sep-09', 'Jul-10', 'Jan-11', 'May-12', 'Jun-13', 'Jul-12',\n",
              "       'Aug-15', 'May-15', 'Sep-15', 'Sep-10', 'Mar-14', 'Sep-14',\n",
              "       'Nov-13', 'Oct-10', 'Dec-13', 'Feb-10', 'Jun-15', 'Oct-15',\n",
              "       'Mar-13', 'Jul-09', 'Feb-13', 'Jan-09', 'Jan-13', 'Mar-16',\n",
              "       'Jul-13', 'Apr-14', 'May-09', 'Apr-15', 'Feb-14', 'Nov-14',\n",
              "       'Feb-15', 'Dec-12', 'Oct-08', 'Aug-08', 'Dec-14', 'Mar-15',\n",
              "       'Aug-14', 'Aug-09', 'Jan-14', 'Mar-09', 'Apr-08', 'May-10',\n",
              "       'Oct-14', 'May-14', 'Sep-08', 'Nov-08', 'Nov-15', 'Jul-14',\n",
              "       'Jul-15', 'Feb-08', 'Mar-08', 'Dec-15', 'Jun-14', 'Feb-09',\n",
              "       'Dec-07', 'Jun-08', 'Jul-08', 'May-08'], dtype=object)"
            ]
          },
          "metadata": {},
          "execution_count": 206
        }
      ],
      "source": [
        "X_train['next_pymnt_d'].unique()"
      ]
    },
    {
      "cell_type": "markdown",
      "metadata": {
        "id": "CS0IwehfHPOd"
      },
      "source": [
        "Ada penyebab nilai tersebut NaN\n",
        "* Peminjam yang bersangkutan telah dianggap Charged Off oleh pihak Lender\n",
        "* Kurang informasi dari peminjam\n",
        "\n",
        "Alasan yang mungkin adalah yang pertama, oleh karena itu isi saja dengan akhir tahun 2016. Selain itu, untuk mengubahnya menjadi numerik, maka kita akan mengubah fitur tersebut menjadi datetime lalu dapatkan selisih harinya dengan akhir 2016, jika selisihnya 0 itu berarti kemungkinan besar peminjam tersebut charged off"
      ]
    },
    {
      "cell_type": "code",
      "execution_count": 207,
      "metadata": {
        "id": "vN8jiVQ4P0Ee"
      },
      "outputs": [],
      "source": [
        "def next_payment_day_imputer(data):\n",
        "  data['next_pymnt_d'] = data['next_pymnt_d'].fillna(\"Dec-16\")\n",
        "  data['next_pymnt_d'] = [date[:4] + '20' + date[4:] for date in data['next_pymnt_d']]\n",
        "  data['next_pymnt_d'] = pd.to_datetime(data['next_pymnt_d'], format = \"%b-%Y\")\n",
        "  data['diff_next_pymnt_d'] = pd.to_datetime('2016-12-01') - data['next_pymnt_d']\n",
        "  data['diff_next_pymnt_d'] = data['diff_next_pymnt_d'].dt.days\n",
        "  return data"
      ]
    },
    {
      "cell_type": "code",
      "execution_count": 208,
      "metadata": {
        "id": "z-c6F0V4QLhZ"
      },
      "outputs": [],
      "source": [
        "X_train = next_payment_day_imputer(X_train)\n",
        "X_test = next_payment_day_imputer(X_test)"
      ]
    },
    {
      "cell_type": "code",
      "execution_count": 209,
      "metadata": {
        "id": "9ohxvj6fO_Oz"
      },
      "outputs": [],
      "source": [
        "X_train.drop('next_pymnt_d', axis = 1, inplace = True)\n",
        "X_test.drop('next_pymnt_d', axis = 1, inplace = True)"
      ]
    },
    {
      "cell_type": "markdown",
      "metadata": {
        "id": "sjVHAAtKKBU9"
      },
      "source": [
        "#### total_rev_hi_lim\n",
        "\n",
        "Fitur ini menyatakan Total Batas Kredit/Kredit Tinggi Revolving, berikut adalah persebaran unique valuesnya"
      ]
    },
    {
      "cell_type": "code",
      "execution_count": 210,
      "metadata": {
        "id": "6KO31etjKEpb",
        "colab": {
          "base_uri": "https://localhost:8080/"
        },
        "outputId": "14eea191-10bb-4b15-a0c3-eb3908715af1"
      },
      "outputs": [
        {
          "output_type": "execute_result",
          "data": {
            "text/plain": [
              "array([ 37200.,  14100.,  26800., ...,  50690., 106950.,  22059.])"
            ]
          },
          "metadata": {},
          "execution_count": 210
        }
      ],
      "source": [
        "X_train['total_rev_hi_lim'].unique()"
      ]
    },
    {
      "cell_type": "markdown",
      "metadata": {
        "id": "0-GIBWJdKsQd"
      },
      "source": [
        "Jika dilihat dari gradenya"
      ]
    },
    {
      "cell_type": "code",
      "execution_count": 211,
      "metadata": {
        "id": "6ffTCxnWKuEk",
        "colab": {
          "base_uri": "https://localhost:8080/"
        },
        "outputId": "7358e650-8bc1-4fd3-e040-4e5d2d52669d"
      },
      "outputs": [
        {
          "output_type": "execute_result",
          "data": {
            "text/plain": [
              "grade\n",
              "A    34800.0\n",
              "B    23400.0\n",
              "C    20700.0\n",
              "D    19400.0\n",
              "E    20200.0\n",
              "F    19700.0\n",
              "G    21200.0\n",
              "Name: total_rev_hi_lim, dtype: float64"
            ]
          },
          "metadata": {},
          "execution_count": 211
        }
      ],
      "source": [
        "X_train.groupby('grade')['total_rev_hi_lim'].median()"
      ]
    },
    {
      "cell_type": "markdown",
      "metadata": {
        "id": "zecu_9xZRtR8"
      },
      "source": [
        "Makin tinggi gradenya batas kreditnya juga makin tinggi, imputasi dengan melihat nilai grade bisa jadi solusi yang baik"
      ]
    },
    {
      "cell_type": "code",
      "execution_count": 212,
      "metadata": {
        "id": "9ERQ_FhfR1aj"
      },
      "outputs": [],
      "source": [
        "# Imputasi dengan grade\n",
        "def total_rev_hi_lim_impute(data):\n",
        "  # Group by grade dan hitung median mths_since_last_delinq\n",
        "  grade_total_rev_hi_lim = data.groupby('grade')['total_rev_hi_lim'].median()\n",
        "  dict_grade_total_rev_hi_lim = dict(grade_total_rev_hi_lim)\n",
        "\n",
        "  # Isi missing values berdasarkan gradenya\n",
        "  for i in range(len(data)):\n",
        "    if pd.isna(data['total_rev_hi_lim'][i]) == True:\n",
        "      data['total_rev_hi_lim'][i] = dict_grade_total_rev_hi_lim[data['grade'][i]]\n",
        "  \n",
        "  # return data\n",
        "  return data"
      ]
    },
    {
      "cell_type": "code",
      "execution_count": 213,
      "metadata": {
        "id": "65hsUEPKSIbq",
        "colab": {
          "base_uri": "https://localhost:8080/"
        },
        "outputId": "82aa86bb-200e-433c-9649-a171bc97ece4"
      },
      "outputs": [
        {
          "output_type": "stream",
          "name": "stderr",
          "text": [
            "/usr/local/lib/python3.7/dist-packages/ipykernel_launcher.py:10: SettingWithCopyWarning: \n",
            "A value is trying to be set on a copy of a slice from a DataFrame\n",
            "\n",
            "See the caveats in the documentation: https://pandas.pydata.org/pandas-docs/stable/user_guide/indexing.html#returning-a-view-versus-a-copy\n",
            "  # Remove the CWD from sys.path while we load stuff.\n"
          ]
        }
      ],
      "source": [
        "X_train = total_rev_hi_lim_impute(X_train)\n",
        "X_test = total_rev_hi_lim_impute(X_test)"
      ]
    },
    {
      "cell_type": "markdown",
      "metadata": {
        "id": "CVoURm_0KISX"
      },
      "source": [
        "#### tot_coll_amt\n",
        "Fitur ini menyatakan Total jumlah pengumpulan yang pernah ada, gunakan strategi yang sama seperti fitur numerik sebelumnya"
      ]
    },
    {
      "cell_type": "code",
      "execution_count": 214,
      "metadata": {
        "id": "1nzKQ9myKRdu"
      },
      "outputs": [],
      "source": [
        "# Imputasi dengan grade\n",
        "def tot_coll_amt_impute(data):\n",
        "  # Group by grade dan hitung median mths_since_last_delinq\n",
        "  grade_tot_coll_amt = data.groupby('grade')['tot_coll_amt'].median()\n",
        "  dict_grade_tot_coll_amt = dict(grade_tot_coll_amt)\n",
        "\n",
        "  # Isi missing values berdasarkan gradenya\n",
        "  for i in range(len(data)):\n",
        "    if pd.isna(data['tot_coll_amt'][i]) == True:\n",
        "      data['tot_coll_amt'][i] = dict_grade_tot_coll_amt[data['grade'][i]]\n",
        "  \n",
        "  # return data\n",
        "  return data"
      ]
    },
    {
      "cell_type": "code",
      "execution_count": 215,
      "metadata": {
        "id": "kWTcCl5gTNb0",
        "colab": {
          "base_uri": "https://localhost:8080/"
        },
        "outputId": "81561957-7253-4bb4-a766-3c3b799e7e1d"
      },
      "outputs": [
        {
          "output_type": "stream",
          "name": "stderr",
          "text": [
            "/usr/local/lib/python3.7/dist-packages/ipykernel_launcher.py:10: SettingWithCopyWarning: \n",
            "A value is trying to be set on a copy of a slice from a DataFrame\n",
            "\n",
            "See the caveats in the documentation: https://pandas.pydata.org/pandas-docs/stable/user_guide/indexing.html#returning-a-view-versus-a-copy\n",
            "  # Remove the CWD from sys.path while we load stuff.\n"
          ]
        }
      ],
      "source": [
        "X_train = tot_coll_amt_impute(X_train)\n",
        "X_test = tot_coll_amt_impute(X_test)"
      ]
    },
    {
      "cell_type": "code",
      "execution_count": 216,
      "metadata": {
        "id": "w4lkvOj_TedB",
        "colab": {
          "base_uri": "https://localhost:8080/"
        },
        "outputId": "2f72f2f9-e282-4eee-c20c-49101d25f304"
      },
      "outputs": [
        {
          "output_type": "execute_result",
          "data": {
            "text/plain": [
              "id                                0\n",
              "dti                               0\n",
              "total_rev_hi_lim                  0\n",
              "revol_bal                         0\n",
              "initial_list_status               0\n",
              "out_prncp                         0\n",
              "out_prncp_inv                     0\n",
              "total_pymnt                       0\n",
              "total_pymnt_inv                   0\n",
              "total_rec_prncp                   0\n",
              "total_rec_int                     0\n",
              "total_rec_late_fee                0\n",
              "recoveries                        0\n",
              "collection_recovery_fee           0\n",
              "last_pymnt_amnt                   0\n",
              "policy_code                       0\n",
              "application_type                  0\n",
              "tot_coll_amt                      0\n",
              "addr_state                        0\n",
              "zip_code                          0\n",
              "mths_since_last_delinq            0\n",
              "purpose                           0\n",
              "member_id                         0\n",
              "loan_amnt                         0\n",
              "funded_amnt                       0\n",
              "funded_amnt_inv                   0\n",
              "term                              0\n",
              "int_rate                          0\n",
              "installment                       0\n",
              "grade                             0\n",
              "sub_grade                         0\n",
              "home_ownership                    0\n",
              "diff_next_pymnt_d                 0\n",
              "url                               0\n",
              "issue_d                           0\n",
              "pymnt_plan                        0\n",
              "verification_status               0\n",
              "annual_inc                        2\n",
              "title                            12\n",
              "total_acc                        18\n",
              "pub_rec                          18\n",
              "open_acc                         18\n",
              "inq_last_6mths                   18\n",
              "earliest_cr_line                 18\n",
              "delinq_2yrs                      18\n",
              "acc_now_delinq                   18\n",
              "last_credit_pull_d               30\n",
              "collections_12_mths_ex_med       99\n",
              "revol_util                      236\n",
              "last_pymnt_d                    276\n",
              "emp_length                    14682\n",
              "emp_title                     19278\n",
              "tot_cur_bal                   49298\n",
              "dtype: int64"
            ]
          },
          "metadata": {},
          "execution_count": 216
        }
      ],
      "source": [
        "X_train.isnull().sum().sort_values()"
      ]
    },
    {
      "cell_type": "markdown",
      "metadata": {
        "id": "iIjAV4RCKJcU"
      },
      "source": [
        "#### tot_cur_bal\n",
        "Fitur ini menyatakan Total Saldo Saat Ini dari Semua Akun, gunakan strategi yang sama lagi"
      ]
    },
    {
      "cell_type": "code",
      "execution_count": 217,
      "metadata": {
        "id": "7DcU1IB_KR08"
      },
      "outputs": [],
      "source": [
        "# Imputasi dengan grade\n",
        "def tot_cur_bal_impute(data):\n",
        "  # Group by grade dan hitung median mths_since_last_delinq\n",
        "  grade_tot_cur_bal = data.groupby('grade')['tot_cur_bal'].median()\n",
        "  dict_grade_tot_cur_bal = dict(grade_tot_cur_bal)\n",
        "\n",
        "  # Isi missing values berdasarkan gradenya\n",
        "  for i in range(len(data)):\n",
        "    if pd.isna(data['tot_cur_bal'][i]) == True:\n",
        "      data['tot_cur_bal'][i] = dict_grade_tot_cur_bal[data['grade'][i]]\n",
        "  \n",
        "  # return data\n",
        "  return data"
      ]
    },
    {
      "cell_type": "code",
      "execution_count": 218,
      "metadata": {
        "id": "X87S3K65UPUP",
        "colab": {
          "base_uri": "https://localhost:8080/"
        },
        "outputId": "f396f4c2-d784-4af7-aa3d-2a1dcc2ac5ad"
      },
      "outputs": [
        {
          "output_type": "stream",
          "name": "stderr",
          "text": [
            "/usr/local/lib/python3.7/dist-packages/ipykernel_launcher.py:10: SettingWithCopyWarning: \n",
            "A value is trying to be set on a copy of a slice from a DataFrame\n",
            "\n",
            "See the caveats in the documentation: https://pandas.pydata.org/pandas-docs/stable/user_guide/indexing.html#returning-a-view-versus-a-copy\n",
            "  # Remove the CWD from sys.path while we load stuff.\n"
          ]
        }
      ],
      "source": [
        "X_train = tot_cur_bal_impute(X_train)\n",
        "X_test = tot_cur_bal_impute(X_test)"
      ]
    },
    {
      "cell_type": "markdown",
      "metadata": {
        "id": "jJlrg1iaUhJs"
      },
      "source": [
        "#### emp_title\n",
        "Fitur ini menyatakan pekerjaan dari peminjam, mari kita lihat persebarannya"
      ]
    },
    {
      "cell_type": "code",
      "execution_count": 219,
      "metadata": {
        "id": "mteICou0Up8L",
        "colab": {
          "base_uri": "https://localhost:8080/"
        },
        "outputId": "5b078e1c-4a00-4153-ff4f-f3708963e9e5"
      },
      "outputs": [
        {
          "output_type": "execute_result",
          "data": {
            "text/plain": [
              "Teacher                     4656\n",
              "Manager                     4219\n",
              "Registered nurse            2278\n",
              "Supervisor                  2010\n",
              "Sales                       1712\n",
              "Owner                       1705\n",
              "Registered Nurse            1705\n",
              "Driver                      1629\n",
              "Project manager             1315\n",
              "Office manager              1307\n",
              "General manager             1204\n",
              "Truck driver                1077\n",
              "Director                     915\n",
              "Engineer                     907\n",
              "Police officer               791\n",
              "President                    790\n",
              "Store manager                750\n",
              "Operations manager           746\n",
              "Vice president               741\n",
              "Sales manager                718\n",
              "Administrative assistant     678\n",
              "Us army                      667\n",
              "Attorney                     641\n",
              "Accountant                   640\n",
              "Technician                   616\n",
              "Nurse                        598\n",
              "Mechanic                     596\n",
              "Account manager              582\n",
              "Assistant manager            546\n",
              "Executive assistant          479\n",
              "Name: emp_title, dtype: int64"
            ]
          },
          "metadata": {},
          "execution_count": 219
        }
      ],
      "source": [
        "X_train['emp_title'].value_counts()[:30]"
      ]
    },
    {
      "cell_type": "markdown",
      "metadata": {
        "id": "VqGyV_W6Uwhi"
      },
      "source": [
        "Ada banyak unique values, tapi ada yang memiliki NaN, ini indikasi berarti peminjam tidak memiliki pekerjaan (alias pengangguran) atau kurangnya informasi dari data, untuk saat ini anggap yang NaN values itu tidak diketahui/Unknown"
      ]
    },
    {
      "cell_type": "code",
      "execution_count": 220,
      "metadata": {
        "id": "K3Gv2Zq8U87k"
      },
      "outputs": [],
      "source": [
        "X_train['emp_title'] = X_train['emp_title'].fillna(\"Unknown\")\n",
        "X_test['emp_title'] = X_test['emp_title'].fillna(\"Unknown\")"
      ]
    },
    {
      "cell_type": "markdown",
      "metadata": {
        "id": "u47J1eDuVMRw"
      },
      "source": [
        "#### emp_length\n",
        "Fitur ini menyatakan lama peminjam bekerja, mari kita lihat persebarannya"
      ]
    },
    {
      "cell_type": "code",
      "execution_count": 221,
      "metadata": {
        "id": "lTrr5sSvVYsR",
        "colab": {
          "base_uri": "https://localhost:8080/"
        },
        "outputId": "53a831e9-f122-4acb-ce57-261afa45967c"
      },
      "outputs": [
        {
          "output_type": "execute_result",
          "data": {
            "text/plain": [
              "10+ years    105006\n",
              "2 years       28864\n",
              "3 years       25674\n",
              "< 1 year      25471\n",
              "5 years       21624\n",
              "1 year        20715\n",
              "4 years       19612\n",
              "7 years       18228\n",
              "6 years       18226\n",
              "8 years       15745\n",
              "9 years       12552\n",
              "Name: emp_length, dtype: int64"
            ]
          },
          "metadata": {},
          "execution_count": 221
        }
      ],
      "source": [
        "X_train['emp_length'].value_counts()"
      ]
    },
    {
      "cell_type": "code",
      "execution_count": 222,
      "metadata": {
        "id": "zMufBh5RV6li",
        "colab": {
          "base_uri": "https://localhost:8080/",
          "height": 36
        },
        "outputId": "d80ff5df-48bd-4e4c-af49-8bc4df2b1f32"
      },
      "outputs": [
        {
          "output_type": "execute_result",
          "data": {
            "text/plain": [
              "'8 '"
            ],
            "application/vnd.google.colaboratory.intrinsic+json": {
              "type": "string"
            }
          },
          "metadata": {},
          "execution_count": 222
        }
      ],
      "source": [
        "string = '8 years'\n",
        "import re\n",
        "\n",
        "string_new = re.sub('years*','', string)\n",
        "string_new"
      ]
    },
    {
      "cell_type": "markdown",
      "metadata": {
        "id": "ZCV3Ho3LVg5h"
      },
      "source": [
        "Tipe datanya berupa diskrit dan perlu dibersihkan terlebih dahulu "
      ]
    },
    {
      "cell_type": "code",
      "execution_count": 223,
      "metadata": {
        "id": "678bE25wVq8C"
      },
      "outputs": [],
      "source": [
        "def emp_length_string_cleaner(string):\n",
        "  string = string.replace(\"< 1 year\",'0')\n",
        "  string = re.sub(r'years*','',string)\n",
        "  string = re.sub(r'\\+','',string)\n",
        "  string = string.strip()\n",
        "  string = float(string)\n",
        "  return string"
      ]
    },
    {
      "cell_type": "markdown",
      "metadata": {
        "id": "bCthJabzEenu"
      },
      "source": [
        "Ide imputasi juga sama seperti fitur sebelumnya hanya saja ini digroupby dengan employment title peminjamnya "
      ]
    },
    {
      "cell_type": "code",
      "execution_count": 224,
      "metadata": {
        "id": "xamAGLXdATiw"
      },
      "outputs": [],
      "source": [
        "def emp_length_imputer(data):\n",
        "  data_not_na = data[data['emp_length'].isna() == False].reset_index().drop('index', axis = 1)\n",
        "  data_not_na['emp_length'] = data_not_na['emp_length'].apply(emp_length_string_cleaner)\n",
        "  dict_median_emp_length = dict(data_not_na.groupby('emp_title')['emp_length'].median())\n",
        "\n",
        "  for i in range(len(data)):\n",
        "    if pd.isna(data['emp_length'][i]) == True :\n",
        "      if data['emp_title'][i] not in dict_median_emp_length:\n",
        "        data['emp_length'][i] = '0'\n",
        "      else:\n",
        "        data['emp_length'][i] = str(dict_median_emp_length[data['emp_title'][i]])\n",
        "  \n",
        "  data['emp_length'] = data['emp_length'].apply(emp_length_string_cleaner)\n",
        "  return data"
      ]
    },
    {
      "cell_type": "code",
      "execution_count": 225,
      "metadata": {
        "id": "jj289CdzWKlg",
        "colab": {
          "base_uri": "https://localhost:8080/"
        },
        "outputId": "864e975d-1d4c-470b-b73a-c9b7e56644ac"
      },
      "outputs": [
        {
          "output_type": "stream",
          "name": "stderr",
          "text": [
            "/usr/local/lib/python3.7/dist-packages/ipykernel_launcher.py:11: SettingWithCopyWarning: \n",
            "A value is trying to be set on a copy of a slice from a DataFrame\n",
            "\n",
            "See the caveats in the documentation: https://pandas.pydata.org/pandas-docs/stable/user_guide/indexing.html#returning-a-view-versus-a-copy\n",
            "  # This is added back by InteractiveShellApp.init_path()\n",
            "/usr/local/lib/python3.7/dist-packages/ipykernel_launcher.py:9: SettingWithCopyWarning: \n",
            "A value is trying to be set on a copy of a slice from a DataFrame\n",
            "\n",
            "See the caveats in the documentation: https://pandas.pydata.org/pandas-docs/stable/user_guide/indexing.html#returning-a-view-versus-a-copy\n",
            "  if __name__ == '__main__':\n"
          ]
        }
      ],
      "source": [
        "X_train = emp_length_imputer(X_train)\n",
        "X_test = emp_length_imputer(X_test)"
      ]
    },
    {
      "cell_type": "code",
      "execution_count": 226,
      "metadata": {
        "id": "xxrK5RwQHos9",
        "colab": {
          "base_uri": "https://localhost:8080/"
        },
        "outputId": "5aa2e547-15ae-47e6-9751-288b6e180e10"
      },
      "outputs": [
        {
          "output_type": "execute_result",
          "data": {
            "text/plain": [
              "array([ 8. ,  6. , 10. ,  3. ,  2. ,  9. ,  7. ,  4. ,  0. ,  5. ,  1. ,\n",
              "        3.5,  0.5,  2.5,  6.5,  9.5,  8.5])"
            ]
          },
          "metadata": {},
          "execution_count": 226
        }
      ],
      "source": [
        "X_train['emp_length'].unique()"
      ]
    },
    {
      "cell_type": "markdown",
      "metadata": {
        "id": "Rq5Z8H_tDTSD"
      },
      "source": [
        "#### Fitur sisanya\n",
        "Mari kita lihat lagi fitur missing values sisanya"
      ]
    },
    {
      "cell_type": "code",
      "execution_count": 227,
      "metadata": {
        "id": "WsnBsT0vDWZz",
        "colab": {
          "base_uri": "https://localhost:8080/"
        },
        "outputId": "838ea4b5-0019-4b4b-a47e-f81b7eaae132"
      },
      "outputs": [
        {
          "output_type": "execute_result",
          "data": {
            "text/plain": [
              "id                              0\n",
              "total_rev_hi_lim                0\n",
              "revol_bal                       0\n",
              "initial_list_status             0\n",
              "out_prncp                       0\n",
              "out_prncp_inv                   0\n",
              "total_pymnt                     0\n",
              "total_pymnt_inv                 0\n",
              "total_rec_prncp                 0\n",
              "total_rec_int                   0\n",
              "total_rec_late_fee              0\n",
              "recoveries                      0\n",
              "collection_recovery_fee         0\n",
              "last_pymnt_amnt                 0\n",
              "policy_code                     0\n",
              "application_type                0\n",
              "tot_coll_amt                    0\n",
              "tot_cur_bal                     0\n",
              "dti                             0\n",
              "addr_state                      0\n",
              "mths_since_last_delinq          0\n",
              "emp_length                      0\n",
              "member_id                       0\n",
              "loan_amnt                       0\n",
              "funded_amnt                     0\n",
              "funded_amnt_inv                 0\n",
              "term                            0\n",
              "int_rate                        0\n",
              "installment                     0\n",
              "grade                           0\n",
              "sub_grade                       0\n",
              "emp_title                       0\n",
              "zip_code                        0\n",
              "home_ownership                  0\n",
              "diff_next_pymnt_d               0\n",
              "verification_status             0\n",
              "purpose                         0\n",
              "pymnt_plan                      0\n",
              "url                             0\n",
              "issue_d                         0\n",
              "annual_inc                      2\n",
              "title                          12\n",
              "total_acc                      18\n",
              "pub_rec                        18\n",
              "open_acc                       18\n",
              "inq_last_6mths                 18\n",
              "earliest_cr_line               18\n",
              "acc_now_delinq                 18\n",
              "delinq_2yrs                    18\n",
              "last_credit_pull_d             30\n",
              "collections_12_mths_ex_med     99\n",
              "revol_util                    236\n",
              "last_pymnt_d                  276\n",
              "dtype: int64"
            ]
          },
          "metadata": {},
          "execution_count": 227
        }
      ],
      "source": [
        "X_train.isnull().sum().sort_values()"
      ]
    },
    {
      "cell_type": "markdown",
      "metadata": {
        "id": "6jra6q_WDsxA"
      },
      "source": [
        "Berikut fitur-fitur yang masih mengandung missing values :    \n",
        "* last_pymnt_d : Last month payment was received\n",
        "* revol_util : Revolving line utilization rate, or the amount of credit the borrower is using relative to all available revolving credit.\n",
        "* collections_12_mths_ex_med : Number of collections in 12 months excluding medical collections\n",
        "* last_credit_pull_d : The most recent month LC (Lender) pulled credit for this loan\n",
        "* open_acc : The number of open credit lines in the borrower's credit file.\n",
        "* delinq_2yrs : The number of 30+ days past-due incidences of delinquency in the borrower's credit file for the past 2 years\n",
        "* earliest_cr_line : The month the borrower's earliest reported credit line was opened\n",
        "* acc_now_delinq : The number of accounts on which the borrower is now delinquent.\n",
        "* inq_last_6mths : Number of credit inquiries in past 12 months\n",
        "* total_acc : The total number of credit lines currently in the borrower's credit file\n",
        "* pub_rec : Number of derogatory public records\n",
        "* title :  The loan title provided by the borrower  \n",
        "* annual_inc : The self-reported annual income provided by the borrower during registration.\n",
        "\n",
        "Mari kita lihat modusnya"
      ]
    },
    {
      "cell_type": "code",
      "execution_count": 228,
      "metadata": {
        "id": "mjE5E32WLbFb",
        "colab": {
          "base_uri": "https://localhost:8080/"
        },
        "outputId": "0c644f95-07f5-4efc-cdae-54df7fcbf718"
      },
      "outputs": [
        {
          "output_type": "stream",
          "name": "stdout",
          "text": [
            "Modus fitur last_pymnt_d :\n",
            "Jan-16\n",
            "\n",
            "Modus fitur revol_util :\n",
            "0.0\n",
            "\n",
            "Modus fitur collections_12_mths_ex_med :\n",
            "0.0\n",
            "\n",
            "Modus fitur last_credit_pull_d :\n",
            "Jan-16\n",
            "\n",
            "Modus fitur open_acc :\n",
            "9.0\n",
            "\n",
            "Modus fitur delinq_2yrs :\n",
            "0.0\n",
            "\n",
            "Modus fitur earliest_cr_line :\n",
            "Oct-00\n",
            "\n",
            "Modus fitur acc_now_delinq :\n",
            "0.0\n",
            "\n",
            "Modus fitur inq_last_6mths :\n",
            "0.0\n",
            "\n",
            "Modus fitur total_acc :\n",
            "21.0\n",
            "\n",
            "Modus fitur pub_rec :\n",
            "0.0\n",
            "\n",
            "Modus fitur title :\n",
            "Debt consolidation\n",
            "\n",
            "Modus fitur annual_inc :\n",
            "60000.0\n",
            "\n"
          ]
        }
      ],
      "source": [
        "another_na_features = ['last_pymnt_d','revol_util','collections_12_mths_ex_med',\n",
        "                       'last_credit_pull_d','open_acc','delinq_2yrs','earliest_cr_line',\n",
        "                       'acc_now_delinq','inq_last_6mths','total_acc','pub_rec',\n",
        "                       'title','annual_inc']\n",
        "\n",
        "for col in another_na_features:\n",
        "  print(\"Modus fitur {} :\".format(col))\n",
        "  print(loan_df[col].value_counts().index[0])\n",
        "  print(\"\")"
      ]
    },
    {
      "cell_type": "markdown",
      "metadata": {
        "id": "k5DfND3-Nlzv"
      },
      "source": [
        "Karena ada banyak fitur yang perlu diimputasi, maka isi saja dengan modusnya"
      ]
    },
    {
      "cell_type": "code",
      "execution_count": 229,
      "metadata": {
        "id": "e6NVcp6RNoy9"
      },
      "outputs": [],
      "source": [
        "# Buat fungsi imputasi modus\n",
        "def feature_mode_imputer(data, feature):\n",
        "  data[feature] = data[feature].fillna(data[feature].value_counts().index[0])\n",
        "  return data\n",
        "\n",
        "# Terapkan pada setiap kolom yang mengandung null values\n",
        "for col in another_na_features:\n",
        "  X_train = feature_mode_imputer(X_train, col)\n",
        "  X_test = feature_mode_imputer(X_test, col)"
      ]
    },
    {
      "cell_type": "markdown",
      "metadata": {
        "id": "j9NqaWdjPJCA"
      },
      "source": [
        "Masih ada fitur tanggal yang bisa juga diubah ke numerik, "
      ]
    },
    {
      "cell_type": "code",
      "execution_count": 230,
      "metadata": {
        "id": "mBPNTSoOPODP"
      },
      "outputs": [],
      "source": [
        "def date_to_int(data, date_feature):\n",
        "  data[date_feature] = [date[:4] + '20' + date[4:] if date[-2] == '0' or (date[-2] == '1' and date[-1] <= '6') else date[:4] + '19' + date[4:] for date in data[date_feature]]\n",
        "  data[date_feature] = pd.to_datetime(data[date_feature], format = \"%b-%Y\")\n",
        "  data[date_feature] = pd.to_datetime('2016-12-01') - data[date_feature]\n",
        "  data[date_feature] = data[date_feature].dt.days  \n",
        "  return data"
      ]
    },
    {
      "cell_type": "code",
      "execution_count": 231,
      "metadata": {
        "id": "8KdS7hCLQb4G",
        "colab": {
          "base_uri": "https://localhost:8080/",
          "height": 424
        },
        "outputId": "2d14c8c1-3c98-41eb-e951-0767c1071eb8"
      },
      "outputs": [
        {
          "output_type": "execute_result",
          "data": {
            "text/plain": [
              "        last_pymnt_d  last_credit_pull_d  earliest_cr_line\n",
              "0                335                 335              6424\n",
              "1                366                 335              2375\n",
              "2                335                 335              7215\n",
              "3                335                 335              5267\n",
              "4                549                 366              6485\n",
              "...              ...                 ...               ...\n",
              "326394           366                 335              6850\n",
              "326395          1096                1065              9619\n",
              "326396           853                 335              6148\n",
              "326397           761                 457              6697\n",
              "326398           519                 549              6301\n",
              "\n",
              "[326399 rows x 3 columns]"
            ],
            "text/html": [
              "\n",
              "  <div id=\"df-444a875f-2c44-4853-a4f7-5be5346df6b0\">\n",
              "    <div class=\"colab-df-container\">\n",
              "      <div>\n",
              "<style scoped>\n",
              "    .dataframe tbody tr th:only-of-type {\n",
              "        vertical-align: middle;\n",
              "    }\n",
              "\n",
              "    .dataframe tbody tr th {\n",
              "        vertical-align: top;\n",
              "    }\n",
              "\n",
              "    .dataframe thead th {\n",
              "        text-align: right;\n",
              "    }\n",
              "</style>\n",
              "<table border=\"1\" class=\"dataframe\">\n",
              "  <thead>\n",
              "    <tr style=\"text-align: right;\">\n",
              "      <th></th>\n",
              "      <th>last_pymnt_d</th>\n",
              "      <th>last_credit_pull_d</th>\n",
              "      <th>earliest_cr_line</th>\n",
              "    </tr>\n",
              "  </thead>\n",
              "  <tbody>\n",
              "    <tr>\n",
              "      <th>0</th>\n",
              "      <td>335</td>\n",
              "      <td>335</td>\n",
              "      <td>6424</td>\n",
              "    </tr>\n",
              "    <tr>\n",
              "      <th>1</th>\n",
              "      <td>366</td>\n",
              "      <td>335</td>\n",
              "      <td>2375</td>\n",
              "    </tr>\n",
              "    <tr>\n",
              "      <th>2</th>\n",
              "      <td>335</td>\n",
              "      <td>335</td>\n",
              "      <td>7215</td>\n",
              "    </tr>\n",
              "    <tr>\n",
              "      <th>3</th>\n",
              "      <td>335</td>\n",
              "      <td>335</td>\n",
              "      <td>5267</td>\n",
              "    </tr>\n",
              "    <tr>\n",
              "      <th>4</th>\n",
              "      <td>549</td>\n",
              "      <td>366</td>\n",
              "      <td>6485</td>\n",
              "    </tr>\n",
              "    <tr>\n",
              "      <th>...</th>\n",
              "      <td>...</td>\n",
              "      <td>...</td>\n",
              "      <td>...</td>\n",
              "    </tr>\n",
              "    <tr>\n",
              "      <th>326394</th>\n",
              "      <td>366</td>\n",
              "      <td>335</td>\n",
              "      <td>6850</td>\n",
              "    </tr>\n",
              "    <tr>\n",
              "      <th>326395</th>\n",
              "      <td>1096</td>\n",
              "      <td>1065</td>\n",
              "      <td>9619</td>\n",
              "    </tr>\n",
              "    <tr>\n",
              "      <th>326396</th>\n",
              "      <td>853</td>\n",
              "      <td>335</td>\n",
              "      <td>6148</td>\n",
              "    </tr>\n",
              "    <tr>\n",
              "      <th>326397</th>\n",
              "      <td>761</td>\n",
              "      <td>457</td>\n",
              "      <td>6697</td>\n",
              "    </tr>\n",
              "    <tr>\n",
              "      <th>326398</th>\n",
              "      <td>519</td>\n",
              "      <td>549</td>\n",
              "      <td>6301</td>\n",
              "    </tr>\n",
              "  </tbody>\n",
              "</table>\n",
              "<p>326399 rows × 3 columns</p>\n",
              "</div>\n",
              "      <button class=\"colab-df-convert\" onclick=\"convertToInteractive('df-444a875f-2c44-4853-a4f7-5be5346df6b0')\"\n",
              "              title=\"Convert this dataframe to an interactive table.\"\n",
              "              style=\"display:none;\">\n",
              "        \n",
              "  <svg xmlns=\"http://www.w3.org/2000/svg\" height=\"24px\"viewBox=\"0 0 24 24\"\n",
              "       width=\"24px\">\n",
              "    <path d=\"M0 0h24v24H0V0z\" fill=\"none\"/>\n",
              "    <path d=\"M18.56 5.44l.94 2.06.94-2.06 2.06-.94-2.06-.94-.94-2.06-.94 2.06-2.06.94zm-11 1L8.5 8.5l.94-2.06 2.06-.94-2.06-.94L8.5 2.5l-.94 2.06-2.06.94zm10 10l.94 2.06.94-2.06 2.06-.94-2.06-.94-.94-2.06-.94 2.06-2.06.94z\"/><path d=\"M17.41 7.96l-1.37-1.37c-.4-.4-.92-.59-1.43-.59-.52 0-1.04.2-1.43.59L10.3 9.45l-7.72 7.72c-.78.78-.78 2.05 0 2.83L4 21.41c.39.39.9.59 1.41.59.51 0 1.02-.2 1.41-.59l7.78-7.78 2.81-2.81c.8-.78.8-2.07 0-2.86zM5.41 20L4 18.59l7.72-7.72 1.47 1.35L5.41 20z\"/>\n",
              "  </svg>\n",
              "      </button>\n",
              "      \n",
              "  <style>\n",
              "    .colab-df-container {\n",
              "      display:flex;\n",
              "      flex-wrap:wrap;\n",
              "      gap: 12px;\n",
              "    }\n",
              "\n",
              "    .colab-df-convert {\n",
              "      background-color: #E8F0FE;\n",
              "      border: none;\n",
              "      border-radius: 50%;\n",
              "      cursor: pointer;\n",
              "      display: none;\n",
              "      fill: #1967D2;\n",
              "      height: 32px;\n",
              "      padding: 0 0 0 0;\n",
              "      width: 32px;\n",
              "    }\n",
              "\n",
              "    .colab-df-convert:hover {\n",
              "      background-color: #E2EBFA;\n",
              "      box-shadow: 0px 1px 2px rgba(60, 64, 67, 0.3), 0px 1px 3px 1px rgba(60, 64, 67, 0.15);\n",
              "      fill: #174EA6;\n",
              "    }\n",
              "\n",
              "    [theme=dark] .colab-df-convert {\n",
              "      background-color: #3B4455;\n",
              "      fill: #D2E3FC;\n",
              "    }\n",
              "\n",
              "    [theme=dark] .colab-df-convert:hover {\n",
              "      background-color: #434B5C;\n",
              "      box-shadow: 0px 1px 3px 1px rgba(0, 0, 0, 0.15);\n",
              "      filter: drop-shadow(0px 1px 2px rgba(0, 0, 0, 0.3));\n",
              "      fill: #FFFFFF;\n",
              "    }\n",
              "  </style>\n",
              "\n",
              "      <script>\n",
              "        const buttonEl =\n",
              "          document.querySelector('#df-444a875f-2c44-4853-a4f7-5be5346df6b0 button.colab-df-convert');\n",
              "        buttonEl.style.display =\n",
              "          google.colab.kernel.accessAllowed ? 'block' : 'none';\n",
              "\n",
              "        async function convertToInteractive(key) {\n",
              "          const element = document.querySelector('#df-444a875f-2c44-4853-a4f7-5be5346df6b0');\n",
              "          const dataTable =\n",
              "            await google.colab.kernel.invokeFunction('convertToInteractive',\n",
              "                                                     [key], {});\n",
              "          if (!dataTable) return;\n",
              "\n",
              "          const docLinkHtml = 'Like what you see? Visit the ' +\n",
              "            '<a target=\"_blank\" href=https://colab.research.google.com/notebooks/data_table.ipynb>data table notebook</a>'\n",
              "            + ' to learn more about interactive tables.';\n",
              "          element.innerHTML = '';\n",
              "          dataTable['output_type'] = 'display_data';\n",
              "          await google.colab.output.renderOutput(dataTable, element);\n",
              "          const docLink = document.createElement('div');\n",
              "          docLink.innerHTML = docLinkHtml;\n",
              "          element.appendChild(docLink);\n",
              "        }\n",
              "      </script>\n",
              "    </div>\n",
              "  </div>\n",
              "  "
            ]
          },
          "metadata": {},
          "execution_count": 231
        }
      ],
      "source": [
        "date_columns = ['last_pymnt_d','last_credit_pull_d','earliest_cr_line']\n",
        "\n",
        "for col in date_columns:\n",
        "  X_train = date_to_int(X_train, col)\n",
        "  X_test = date_to_int(X_test, col)\n",
        "\n",
        "# Sanity Check\n",
        "X_train[date_columns]"
      ]
    },
    {
      "cell_type": "code",
      "execution_count": 232,
      "metadata": {
        "id": "LEXKcUc1KbRE",
        "colab": {
          "base_uri": "https://localhost:8080/",
          "height": 143
        },
        "outputId": "99f9482e-bd69-4af3-e7d6-d200c5b7b532"
      },
      "outputs": [
        {
          "output_type": "execute_result",
          "data": {
            "text/plain": [
              "Empty DataFrame\n",
              "Columns: [id, member_id, loan_amnt, funded_amnt, funded_amnt_inv, term, int_rate, installment, grade, sub_grade, emp_title, emp_length, home_ownership, annual_inc, verification_status, issue_d, pymnt_plan, url, purpose, title, zip_code, addr_state, dti, delinq_2yrs, earliest_cr_line, inq_last_6mths, mths_since_last_delinq, open_acc, pub_rec, revol_bal, revol_util, total_acc, initial_list_status, out_prncp, out_prncp_inv, total_pymnt, total_pymnt_inv, total_rec_prncp, total_rec_int, total_rec_late_fee, recoveries, collection_recovery_fee, last_pymnt_d, last_pymnt_amnt, last_credit_pull_d, collections_12_mths_ex_med, policy_code, application_type, acc_now_delinq, tot_coll_amt, tot_cur_bal, total_rev_hi_lim, diff_next_pymnt_d]\n",
              "Index: []\n",
              "\n",
              "[0 rows x 53 columns]"
            ],
            "text/html": [
              "\n",
              "  <div id=\"df-074c7586-eb0c-4b56-bc92-61b867f96958\">\n",
              "    <div class=\"colab-df-container\">\n",
              "      <div>\n",
              "<style scoped>\n",
              "    .dataframe tbody tr th:only-of-type {\n",
              "        vertical-align: middle;\n",
              "    }\n",
              "\n",
              "    .dataframe tbody tr th {\n",
              "        vertical-align: top;\n",
              "    }\n",
              "\n",
              "    .dataframe thead th {\n",
              "        text-align: right;\n",
              "    }\n",
              "</style>\n",
              "<table border=\"1\" class=\"dataframe\">\n",
              "  <thead>\n",
              "    <tr style=\"text-align: right;\">\n",
              "      <th></th>\n",
              "      <th>id</th>\n",
              "      <th>member_id</th>\n",
              "      <th>loan_amnt</th>\n",
              "      <th>funded_amnt</th>\n",
              "      <th>funded_amnt_inv</th>\n",
              "      <th>term</th>\n",
              "      <th>int_rate</th>\n",
              "      <th>installment</th>\n",
              "      <th>grade</th>\n",
              "      <th>sub_grade</th>\n",
              "      <th>...</th>\n",
              "      <th>last_pymnt_amnt</th>\n",
              "      <th>last_credit_pull_d</th>\n",
              "      <th>collections_12_mths_ex_med</th>\n",
              "      <th>policy_code</th>\n",
              "      <th>application_type</th>\n",
              "      <th>acc_now_delinq</th>\n",
              "      <th>tot_coll_amt</th>\n",
              "      <th>tot_cur_bal</th>\n",
              "      <th>total_rev_hi_lim</th>\n",
              "      <th>diff_next_pymnt_d</th>\n",
              "    </tr>\n",
              "  </thead>\n",
              "  <tbody>\n",
              "  </tbody>\n",
              "</table>\n",
              "<p>0 rows × 53 columns</p>\n",
              "</div>\n",
              "      <button class=\"colab-df-convert\" onclick=\"convertToInteractive('df-074c7586-eb0c-4b56-bc92-61b867f96958')\"\n",
              "              title=\"Convert this dataframe to an interactive table.\"\n",
              "              style=\"display:none;\">\n",
              "        \n",
              "  <svg xmlns=\"http://www.w3.org/2000/svg\" height=\"24px\"viewBox=\"0 0 24 24\"\n",
              "       width=\"24px\">\n",
              "    <path d=\"M0 0h24v24H0V0z\" fill=\"none\"/>\n",
              "    <path d=\"M18.56 5.44l.94 2.06.94-2.06 2.06-.94-2.06-.94-.94-2.06-.94 2.06-2.06.94zm-11 1L8.5 8.5l.94-2.06 2.06-.94-2.06-.94L8.5 2.5l-.94 2.06-2.06.94zm10 10l.94 2.06.94-2.06 2.06-.94-2.06-.94-.94-2.06-.94 2.06-2.06.94z\"/><path d=\"M17.41 7.96l-1.37-1.37c-.4-.4-.92-.59-1.43-.59-.52 0-1.04.2-1.43.59L10.3 9.45l-7.72 7.72c-.78.78-.78 2.05 0 2.83L4 21.41c.39.39.9.59 1.41.59.51 0 1.02-.2 1.41-.59l7.78-7.78 2.81-2.81c.8-.78.8-2.07 0-2.86zM5.41 20L4 18.59l7.72-7.72 1.47 1.35L5.41 20z\"/>\n",
              "  </svg>\n",
              "      </button>\n",
              "      \n",
              "  <style>\n",
              "    .colab-df-container {\n",
              "      display:flex;\n",
              "      flex-wrap:wrap;\n",
              "      gap: 12px;\n",
              "    }\n",
              "\n",
              "    .colab-df-convert {\n",
              "      background-color: #E8F0FE;\n",
              "      border: none;\n",
              "      border-radius: 50%;\n",
              "      cursor: pointer;\n",
              "      display: none;\n",
              "      fill: #1967D2;\n",
              "      height: 32px;\n",
              "      padding: 0 0 0 0;\n",
              "      width: 32px;\n",
              "    }\n",
              "\n",
              "    .colab-df-convert:hover {\n",
              "      background-color: #E2EBFA;\n",
              "      box-shadow: 0px 1px 2px rgba(60, 64, 67, 0.3), 0px 1px 3px 1px rgba(60, 64, 67, 0.15);\n",
              "      fill: #174EA6;\n",
              "    }\n",
              "\n",
              "    [theme=dark] .colab-df-convert {\n",
              "      background-color: #3B4455;\n",
              "      fill: #D2E3FC;\n",
              "    }\n",
              "\n",
              "    [theme=dark] .colab-df-convert:hover {\n",
              "      background-color: #434B5C;\n",
              "      box-shadow: 0px 1px 3px 1px rgba(0, 0, 0, 0.15);\n",
              "      filter: drop-shadow(0px 1px 2px rgba(0, 0, 0, 0.3));\n",
              "      fill: #FFFFFF;\n",
              "    }\n",
              "  </style>\n",
              "\n",
              "      <script>\n",
              "        const buttonEl =\n",
              "          document.querySelector('#df-074c7586-eb0c-4b56-bc92-61b867f96958 button.colab-df-convert');\n",
              "        buttonEl.style.display =\n",
              "          google.colab.kernel.accessAllowed ? 'block' : 'none';\n",
              "\n",
              "        async function convertToInteractive(key) {\n",
              "          const element = document.querySelector('#df-074c7586-eb0c-4b56-bc92-61b867f96958');\n",
              "          const dataTable =\n",
              "            await google.colab.kernel.invokeFunction('convertToInteractive',\n",
              "                                                     [key], {});\n",
              "          if (!dataTable) return;\n",
              "\n",
              "          const docLinkHtml = 'Like what you see? Visit the ' +\n",
              "            '<a target=\"_blank\" href=https://colab.research.google.com/notebooks/data_table.ipynb>data table notebook</a>'\n",
              "            + ' to learn more about interactive tables.';\n",
              "          element.innerHTML = '';\n",
              "          dataTable['output_type'] = 'display_data';\n",
              "          await google.colab.output.renderOutput(dataTable, element);\n",
              "          const docLink = document.createElement('div');\n",
              "          docLink.innerHTML = docLinkHtml;\n",
              "          element.appendChild(docLink);\n",
              "        }\n",
              "      </script>\n",
              "    </div>\n",
              "  </div>\n",
              "  "
            ]
          },
          "metadata": {},
          "execution_count": 232
        }
      ],
      "source": [
        "mask = X_train['earliest_cr_line'] < 0\n",
        "X_train[mask]"
      ]
    },
    {
      "cell_type": "markdown",
      "metadata": {
        "id": "DWsuwy_hUagO"
      },
      "source": [
        "### Cek Null Values lagi"
      ]
    },
    {
      "cell_type": "code",
      "execution_count": 233,
      "metadata": {
        "id": "E_a5tOcOS-Ed",
        "colab": {
          "base_uri": "https://localhost:8080/"
        },
        "outputId": "fe3771cc-3195-4a76-cbe1-0902d51c7ae1"
      },
      "outputs": [
        {
          "output_type": "stream",
          "name": "stdout",
          "text": [
            "Missing values in training data : \n",
            " id                            0\n",
            "member_id                     0\n",
            "loan_amnt                     0\n",
            "funded_amnt                   0\n",
            "funded_amnt_inv               0\n",
            "term                          0\n",
            "int_rate                      0\n",
            "installment                   0\n",
            "grade                         0\n",
            "sub_grade                     0\n",
            "emp_title                     0\n",
            "emp_length                    0\n",
            "home_ownership                0\n",
            "annual_inc                    0\n",
            "verification_status           0\n",
            "issue_d                       0\n",
            "pymnt_plan                    0\n",
            "url                           0\n",
            "purpose                       0\n",
            "title                         0\n",
            "zip_code                      0\n",
            "addr_state                    0\n",
            "dti                           0\n",
            "delinq_2yrs                   0\n",
            "earliest_cr_line              0\n",
            "inq_last_6mths                0\n",
            "mths_since_last_delinq        0\n",
            "open_acc                      0\n",
            "pub_rec                       0\n",
            "revol_bal                     0\n",
            "revol_util                    0\n",
            "total_acc                     0\n",
            "initial_list_status           0\n",
            "out_prncp                     0\n",
            "out_prncp_inv                 0\n",
            "total_pymnt                   0\n",
            "total_pymnt_inv               0\n",
            "total_rec_prncp               0\n",
            "total_rec_int                 0\n",
            "total_rec_late_fee            0\n",
            "recoveries                    0\n",
            "collection_recovery_fee       0\n",
            "last_pymnt_d                  0\n",
            "last_pymnt_amnt               0\n",
            "last_credit_pull_d            0\n",
            "collections_12_mths_ex_med    0\n",
            "policy_code                   0\n",
            "application_type              0\n",
            "acc_now_delinq                0\n",
            "tot_coll_amt                  0\n",
            "tot_cur_bal                   0\n",
            "total_rev_hi_lim              0\n",
            "diff_next_pymnt_d             0\n",
            "dtype: int64\n",
            "Missing values in testing data : \n",
            " id                            0\n",
            "member_id                     0\n",
            "loan_amnt                     0\n",
            "funded_amnt                   0\n",
            "funded_amnt_inv               0\n",
            "term                          0\n",
            "int_rate                      0\n",
            "installment                   0\n",
            "grade                         0\n",
            "sub_grade                     0\n",
            "emp_title                     0\n",
            "emp_length                    0\n",
            "home_ownership                0\n",
            "annual_inc                    0\n",
            "verification_status           0\n",
            "issue_d                       0\n",
            "pymnt_plan                    0\n",
            "url                           0\n",
            "purpose                       0\n",
            "title                         0\n",
            "zip_code                      0\n",
            "addr_state                    0\n",
            "dti                           0\n",
            "delinq_2yrs                   0\n",
            "earliest_cr_line              0\n",
            "inq_last_6mths                0\n",
            "mths_since_last_delinq        0\n",
            "open_acc                      0\n",
            "pub_rec                       0\n",
            "revol_bal                     0\n",
            "revol_util                    0\n",
            "total_acc                     0\n",
            "initial_list_status           0\n",
            "out_prncp                     0\n",
            "out_prncp_inv                 0\n",
            "total_pymnt                   0\n",
            "total_pymnt_inv               0\n",
            "total_rec_prncp               0\n",
            "total_rec_int                 0\n",
            "total_rec_late_fee            0\n",
            "recoveries                    0\n",
            "collection_recovery_fee       0\n",
            "last_pymnt_d                  0\n",
            "last_pymnt_amnt               0\n",
            "last_credit_pull_d            0\n",
            "collections_12_mths_ex_med    0\n",
            "policy_code                   0\n",
            "application_type              0\n",
            "acc_now_delinq                0\n",
            "tot_coll_amt                  0\n",
            "tot_cur_bal                   0\n",
            "total_rev_hi_lim              0\n",
            "diff_next_pymnt_d             0\n",
            "dtype: int64\n"
          ]
        }
      ],
      "source": [
        "print(\"Missing values in training data : \\n\", X_train.isnull().sum())\n",
        "print(\"Missing values in testing data : \\n\", X_test.isnull().sum())"
      ]
    },
    {
      "cell_type": "markdown",
      "metadata": {
        "id": "EWc0J7OgUuTa"
      },
      "source": [
        "Semua null values sudah ditangani"
      ]
    },
    {
      "cell_type": "markdown",
      "metadata": {
        "id": "YhelprcAUyE-"
      },
      "source": [
        "## Feature Engineering"
      ]
    },
    {
      "cell_type": "markdown",
      "metadata": {
        "id": "bgmXbfXWVSwh"
      },
      "source": [
        "### Feature Selection\n"
      ]
    },
    {
      "cell_type": "markdown",
      "metadata": {
        "id": "iOX5xSxAWgjp"
      },
      "source": [
        "#### Redundant Features\n",
        "Ada beberapa fitur yang redundant\n",
        "* id (sudah diwakili oleh entri data),\n",
        "* member_id (sudah diwakili oleh entri data,\n",
        "* sub_grade (karena redundant dengan grade)\n",
        "* issue_d (rekor tanggal sudah diwakili dengan yang lain)\n",
        "* pymnt_plan \n",
        "* url\n",
        "* title (redundant dengan purpose)\n",
        "* zip_code\n",
        "* addr_state"
      ]
    },
    {
      "cell_type": "code",
      "execution_count": 234,
      "metadata": {
        "id": "J83gnCPfXtoP",
        "colab": {
          "base_uri": "https://localhost:8080/",
          "height": 374
        },
        "outputId": "c0178cdb-6825-4a1c-b57c-9922b827fa90"
      },
      "outputs": [
        {
          "output_type": "execute_result",
          "data": {
            "text/plain": [
              "         id  member_id  loan_amnt  funded_amnt  funded_amnt_inv        term  \\\n",
              "0  11404701   13336855      16000        16000          15925.0   36 months   \n",
              "1  19105382   21308133       6000         6000           6000.0   36 months   \n",
              "2   3096419    3768803       3000         3000           3000.0   36 months   \n",
              "3  13878081   15930405      12000        12000          12000.0   36 months   \n",
              "4  36078320   38789845       8000         8000           8000.0   36 months   \n",
              "\n",
              "   int_rate  installment grade sub_grade               emp_title  emp_length  \\\n",
              "0      7.90       500.65     A        A4                 Officer         8.0   \n",
              "1     13.35       203.18     C        C2                  Driver         6.0   \n",
              "2     12.12        99.82     B        B3  Silgan containers inc.        10.0   \n",
              "3     12.49       401.39     B        B4          Office manager        10.0   \n",
              "4     14.99       277.29     C        C5           Store manager        10.0   \n",
              "\n",
              "  home_ownership  annual_inc verification_status    issue_d pymnt_plan  \\\n",
              "0       MORTGAGE     53000.0     Source Verified 2014-01-01          n   \n",
              "1           RENT     56000.0            Verified 2014-06-01          n   \n",
              "2       MORTGAGE     50000.0        Not Verified 2013-01-01          n   \n",
              "3       MORTGAGE     65000.0        Not Verified 2014-04-01          n   \n",
              "4       MORTGAGE     44000.0     Source Verified 2014-11-01          n   \n",
              "\n",
              "                                                 url             purpose  \\\n",
              "0  https://www.lendingclub.com/browse/loanDetail....         credit_card   \n",
              "1  https://www.lendingclub.com/browse/loanDetail....  debt_consolidation   \n",
              "2  https://www.lendingclub.com/browse/loanDetail....         credit_card   \n",
              "3  https://www.lendingclub.com/browse/loanDetail....  debt_consolidation   \n",
              "4  https://www.lendingclub.com/browse/loanDetail....  debt_consolidation   \n",
              "\n",
              "                       title  \n",
              "0    Credit card refinancing  \n",
              "1         Debt consolidation  \n",
              "2  CREDIT CARD CONSOLIDATION  \n",
              "3         Debt consolidation  \n",
              "4         Debt consolidation  "
            ],
            "text/html": [
              "\n",
              "  <div id=\"df-05677c79-1fdd-4660-9f03-642411615cde\">\n",
              "    <div class=\"colab-df-container\">\n",
              "      <div>\n",
              "<style scoped>\n",
              "    .dataframe tbody tr th:only-of-type {\n",
              "        vertical-align: middle;\n",
              "    }\n",
              "\n",
              "    .dataframe tbody tr th {\n",
              "        vertical-align: top;\n",
              "    }\n",
              "\n",
              "    .dataframe thead th {\n",
              "        text-align: right;\n",
              "    }\n",
              "</style>\n",
              "<table border=\"1\" class=\"dataframe\">\n",
              "  <thead>\n",
              "    <tr style=\"text-align: right;\">\n",
              "      <th></th>\n",
              "      <th>id</th>\n",
              "      <th>member_id</th>\n",
              "      <th>loan_amnt</th>\n",
              "      <th>funded_amnt</th>\n",
              "      <th>funded_amnt_inv</th>\n",
              "      <th>term</th>\n",
              "      <th>int_rate</th>\n",
              "      <th>installment</th>\n",
              "      <th>grade</th>\n",
              "      <th>sub_grade</th>\n",
              "      <th>emp_title</th>\n",
              "      <th>emp_length</th>\n",
              "      <th>home_ownership</th>\n",
              "      <th>annual_inc</th>\n",
              "      <th>verification_status</th>\n",
              "      <th>issue_d</th>\n",
              "      <th>pymnt_plan</th>\n",
              "      <th>url</th>\n",
              "      <th>purpose</th>\n",
              "      <th>title</th>\n",
              "    </tr>\n",
              "  </thead>\n",
              "  <tbody>\n",
              "    <tr>\n",
              "      <th>0</th>\n",
              "      <td>11404701</td>\n",
              "      <td>13336855</td>\n",
              "      <td>16000</td>\n",
              "      <td>16000</td>\n",
              "      <td>15925.0</td>\n",
              "      <td>36 months</td>\n",
              "      <td>7.90</td>\n",
              "      <td>500.65</td>\n",
              "      <td>A</td>\n",
              "      <td>A4</td>\n",
              "      <td>Officer</td>\n",
              "      <td>8.0</td>\n",
              "      <td>MORTGAGE</td>\n",
              "      <td>53000.0</td>\n",
              "      <td>Source Verified</td>\n",
              "      <td>2014-01-01</td>\n",
              "      <td>n</td>\n",
              "      <td>https://www.lendingclub.com/browse/loanDetail....</td>\n",
              "      <td>credit_card</td>\n",
              "      <td>Credit card refinancing</td>\n",
              "    </tr>\n",
              "    <tr>\n",
              "      <th>1</th>\n",
              "      <td>19105382</td>\n",
              "      <td>21308133</td>\n",
              "      <td>6000</td>\n",
              "      <td>6000</td>\n",
              "      <td>6000.0</td>\n",
              "      <td>36 months</td>\n",
              "      <td>13.35</td>\n",
              "      <td>203.18</td>\n",
              "      <td>C</td>\n",
              "      <td>C2</td>\n",
              "      <td>Driver</td>\n",
              "      <td>6.0</td>\n",
              "      <td>RENT</td>\n",
              "      <td>56000.0</td>\n",
              "      <td>Verified</td>\n",
              "      <td>2014-06-01</td>\n",
              "      <td>n</td>\n",
              "      <td>https://www.lendingclub.com/browse/loanDetail....</td>\n",
              "      <td>debt_consolidation</td>\n",
              "      <td>Debt consolidation</td>\n",
              "    </tr>\n",
              "    <tr>\n",
              "      <th>2</th>\n",
              "      <td>3096419</td>\n",
              "      <td>3768803</td>\n",
              "      <td>3000</td>\n",
              "      <td>3000</td>\n",
              "      <td>3000.0</td>\n",
              "      <td>36 months</td>\n",
              "      <td>12.12</td>\n",
              "      <td>99.82</td>\n",
              "      <td>B</td>\n",
              "      <td>B3</td>\n",
              "      <td>Silgan containers inc.</td>\n",
              "      <td>10.0</td>\n",
              "      <td>MORTGAGE</td>\n",
              "      <td>50000.0</td>\n",
              "      <td>Not Verified</td>\n",
              "      <td>2013-01-01</td>\n",
              "      <td>n</td>\n",
              "      <td>https://www.lendingclub.com/browse/loanDetail....</td>\n",
              "      <td>credit_card</td>\n",
              "      <td>CREDIT CARD CONSOLIDATION</td>\n",
              "    </tr>\n",
              "    <tr>\n",
              "      <th>3</th>\n",
              "      <td>13878081</td>\n",
              "      <td>15930405</td>\n",
              "      <td>12000</td>\n",
              "      <td>12000</td>\n",
              "      <td>12000.0</td>\n",
              "      <td>36 months</td>\n",
              "      <td>12.49</td>\n",
              "      <td>401.39</td>\n",
              "      <td>B</td>\n",
              "      <td>B4</td>\n",
              "      <td>Office manager</td>\n",
              "      <td>10.0</td>\n",
              "      <td>MORTGAGE</td>\n",
              "      <td>65000.0</td>\n",
              "      <td>Not Verified</td>\n",
              "      <td>2014-04-01</td>\n",
              "      <td>n</td>\n",
              "      <td>https://www.lendingclub.com/browse/loanDetail....</td>\n",
              "      <td>debt_consolidation</td>\n",
              "      <td>Debt consolidation</td>\n",
              "    </tr>\n",
              "    <tr>\n",
              "      <th>4</th>\n",
              "      <td>36078320</td>\n",
              "      <td>38789845</td>\n",
              "      <td>8000</td>\n",
              "      <td>8000</td>\n",
              "      <td>8000.0</td>\n",
              "      <td>36 months</td>\n",
              "      <td>14.99</td>\n",
              "      <td>277.29</td>\n",
              "      <td>C</td>\n",
              "      <td>C5</td>\n",
              "      <td>Store manager</td>\n",
              "      <td>10.0</td>\n",
              "      <td>MORTGAGE</td>\n",
              "      <td>44000.0</td>\n",
              "      <td>Source Verified</td>\n",
              "      <td>2014-11-01</td>\n",
              "      <td>n</td>\n",
              "      <td>https://www.lendingclub.com/browse/loanDetail....</td>\n",
              "      <td>debt_consolidation</td>\n",
              "      <td>Debt consolidation</td>\n",
              "    </tr>\n",
              "  </tbody>\n",
              "</table>\n",
              "</div>\n",
              "      <button class=\"colab-df-convert\" onclick=\"convertToInteractive('df-05677c79-1fdd-4660-9f03-642411615cde')\"\n",
              "              title=\"Convert this dataframe to an interactive table.\"\n",
              "              style=\"display:none;\">\n",
              "        \n",
              "  <svg xmlns=\"http://www.w3.org/2000/svg\" height=\"24px\"viewBox=\"0 0 24 24\"\n",
              "       width=\"24px\">\n",
              "    <path d=\"M0 0h24v24H0V0z\" fill=\"none\"/>\n",
              "    <path d=\"M18.56 5.44l.94 2.06.94-2.06 2.06-.94-2.06-.94-.94-2.06-.94 2.06-2.06.94zm-11 1L8.5 8.5l.94-2.06 2.06-.94-2.06-.94L8.5 2.5l-.94 2.06-2.06.94zm10 10l.94 2.06.94-2.06 2.06-.94-2.06-.94-.94-2.06-.94 2.06-2.06.94z\"/><path d=\"M17.41 7.96l-1.37-1.37c-.4-.4-.92-.59-1.43-.59-.52 0-1.04.2-1.43.59L10.3 9.45l-7.72 7.72c-.78.78-.78 2.05 0 2.83L4 21.41c.39.39.9.59 1.41.59.51 0 1.02-.2 1.41-.59l7.78-7.78 2.81-2.81c.8-.78.8-2.07 0-2.86zM5.41 20L4 18.59l7.72-7.72 1.47 1.35L5.41 20z\"/>\n",
              "  </svg>\n",
              "      </button>\n",
              "      \n",
              "  <style>\n",
              "    .colab-df-container {\n",
              "      display:flex;\n",
              "      flex-wrap:wrap;\n",
              "      gap: 12px;\n",
              "    }\n",
              "\n",
              "    .colab-df-convert {\n",
              "      background-color: #E8F0FE;\n",
              "      border: none;\n",
              "      border-radius: 50%;\n",
              "      cursor: pointer;\n",
              "      display: none;\n",
              "      fill: #1967D2;\n",
              "      height: 32px;\n",
              "      padding: 0 0 0 0;\n",
              "      width: 32px;\n",
              "    }\n",
              "\n",
              "    .colab-df-convert:hover {\n",
              "      background-color: #E2EBFA;\n",
              "      box-shadow: 0px 1px 2px rgba(60, 64, 67, 0.3), 0px 1px 3px 1px rgba(60, 64, 67, 0.15);\n",
              "      fill: #174EA6;\n",
              "    }\n",
              "\n",
              "    [theme=dark] .colab-df-convert {\n",
              "      background-color: #3B4455;\n",
              "      fill: #D2E3FC;\n",
              "    }\n",
              "\n",
              "    [theme=dark] .colab-df-convert:hover {\n",
              "      background-color: #434B5C;\n",
              "      box-shadow: 0px 1px 3px 1px rgba(0, 0, 0, 0.15);\n",
              "      filter: drop-shadow(0px 1px 2px rgba(0, 0, 0, 0.3));\n",
              "      fill: #FFFFFF;\n",
              "    }\n",
              "  </style>\n",
              "\n",
              "      <script>\n",
              "        const buttonEl =\n",
              "          document.querySelector('#df-05677c79-1fdd-4660-9f03-642411615cde button.colab-df-convert');\n",
              "        buttonEl.style.display =\n",
              "          google.colab.kernel.accessAllowed ? 'block' : 'none';\n",
              "\n",
              "        async function convertToInteractive(key) {\n",
              "          const element = document.querySelector('#df-05677c79-1fdd-4660-9f03-642411615cde');\n",
              "          const dataTable =\n",
              "            await google.colab.kernel.invokeFunction('convertToInteractive',\n",
              "                                                     [key], {});\n",
              "          if (!dataTable) return;\n",
              "\n",
              "          const docLinkHtml = 'Like what you see? Visit the ' +\n",
              "            '<a target=\"_blank\" href=https://colab.research.google.com/notebooks/data_table.ipynb>data table notebook</a>'\n",
              "            + ' to learn more about interactive tables.';\n",
              "          element.innerHTML = '';\n",
              "          dataTable['output_type'] = 'display_data';\n",
              "          await google.colab.output.renderOutput(dataTable, element);\n",
              "          const docLink = document.createElement('div');\n",
              "          docLink.innerHTML = docLinkHtml;\n",
              "          element.appendChild(docLink);\n",
              "        }\n",
              "      </script>\n",
              "    </div>\n",
              "  </div>\n",
              "  "
            ]
          },
          "metadata": {},
          "execution_count": 234
        }
      ],
      "source": [
        "X_train.iloc[:,:20].head()"
      ]
    },
    {
      "cell_type": "code",
      "execution_count": 235,
      "metadata": {
        "id": "Nj1CliVDU0XE"
      },
      "outputs": [],
      "source": [
        "# Drop features\n",
        "X_train = X_train.drop(['id','member_id','sub_grade','issue_d','pymnt_plan','url','title','zip_code','addr_state'], axis = 1)\n",
        "X_test = X_test.drop(['id','member_id','sub_grade','issue_d','pymnt_plan','url','title','zip_code','addr_state'], axis = 1)"
      ]
    },
    {
      "cell_type": "code",
      "execution_count": 236,
      "metadata": {
        "id": "_8rbN4uWWoRQ",
        "colab": {
          "base_uri": "https://localhost:8080/"
        },
        "outputId": "6476da90-d569-4637-be2f-39bb0bd1434e"
      },
      "outputs": [
        {
          "output_type": "execute_result",
          "data": {
            "text/plain": [
              "(326399, 44)"
            ]
          },
          "metadata": {},
          "execution_count": 236
        }
      ],
      "source": [
        "X_train.shape"
      ]
    },
    {
      "cell_type": "markdown",
      "metadata": {
        "id": "SQHNs7vCXmLQ"
      },
      "source": [
        "Fitur sisa yang akan digunakan ada 44 fitur tapi ini masih terlalu banyak, maka dari itu perlu dilakukan Feature Selection"
      ]
    },
    {
      "cell_type": "markdown",
      "metadata": {
        "id": "3YJcvAol5wAc"
      },
      "source": [
        "### Feature Manipulation\n",
        "Fitur term dapat diubah menjadi numerik dengan menghilangkan kata 'months'"
      ]
    },
    {
      "cell_type": "markdown",
      "metadata": {
        "id": "knEqlgUvivDn"
      },
      "source": [
        "#### Term"
      ]
    },
    {
      "cell_type": "code",
      "execution_count": 237,
      "metadata": {
        "id": "-8hVOWqZ5zZm"
      },
      "outputs": [],
      "source": [
        "X_train['term'] = X_train['term'].str.replace(r'months','').str.strip().astype('int64')\n",
        "X_test['term'] = X_test['term'].str.replace(r'months','').str.strip().astype('int64')"
      ]
    },
    {
      "cell_type": "code",
      "execution_count": 238,
      "metadata": {
        "id": "wpptLzLO6Six",
        "colab": {
          "base_uri": "https://localhost:8080/"
        },
        "outputId": "4bab6f36-7107-4533-f6e6-267ca8c3edaf"
      },
      "outputs": [
        {
          "output_type": "execute_result",
          "data": {
            "text/plain": [
              "0         36\n",
              "1         36\n",
              "2         36\n",
              "3         36\n",
              "4         36\n",
              "          ..\n",
              "326394    60\n",
              "326395    36\n",
              "326396    36\n",
              "326397    36\n",
              "326398    36\n",
              "Name: term, Length: 326399, dtype: int64"
            ]
          },
          "metadata": {},
          "execution_count": 238
        }
      ],
      "source": [
        "X_train['term']"
      ]
    },
    {
      "cell_type": "markdown",
      "metadata": {
        "id": "4ZPp62iQVtLH"
      },
      "source": [
        "#### Grade\n",
        "Fitur ini akan diubah menjadi rataan dari peminjam yang default "
      ]
    },
    {
      "cell_type": "code",
      "execution_count": 239,
      "metadata": {
        "id": "UUKP9fYzeQWw",
        "colab": {
          "base_uri": "https://localhost:8080/"
        },
        "outputId": "b664cd52-9fc0-4709-f621-669fbab8c7d8"
      },
      "outputs": [
        {
          "output_type": "execute_result",
          "data": {
            "text/plain": [
              "0         0.0\n",
              "1         0.0\n",
              "2         0.0\n",
              "3         0.0\n",
              "4         0.0\n",
              "         ... \n",
              "326394    0.0\n",
              "326395    0.0\n",
              "326396    0.0\n",
              "326397    0.0\n",
              "326398    0.0\n",
              "Length: 326399, dtype: float64"
            ]
          },
          "metadata": {},
          "execution_count": 239
        }
      ],
      "source": [
        "pd.Series(y_train)"
      ]
    },
    {
      "cell_type": "code",
      "execution_count": 240,
      "metadata": {
        "id": "zv1FhneKeWXj",
        "colab": {
          "base_uri": "https://localhost:8080/"
        },
        "outputId": "c057850e-96bc-4dc7-fe98-1af15b0d06ed"
      },
      "outputs": [
        {
          "output_type": "execute_result",
          "data": {
            "text/plain": [
              "326399"
            ]
          },
          "metadata": {},
          "execution_count": 240
        }
      ],
      "source": [
        "len(y_train)"
      ]
    },
    {
      "cell_type": "code",
      "execution_count": 241,
      "metadata": {
        "id": "gN4ZrlApVvfN",
        "colab": {
          "base_uri": "https://localhost:8080/",
          "height": 369
        },
        "outputId": "9bdb9a96-5891-4c5d-ab8f-7a4e5793100d"
      },
      "outputs": [
        {
          "output_type": "execute_result",
          "data": {
            "text/plain": [
              "   loan_amnt  funded_amnt  funded_amnt_inv  term  int_rate  installment grade  \\\n",
              "0      16000        16000          15925.0    36      7.90       500.65     A   \n",
              "1       6000         6000           6000.0    36     13.35       203.18     C   \n",
              "2       3000         3000           3000.0    36     12.12        99.82     B   \n",
              "3      12000        12000          12000.0    36     12.49       401.39     B   \n",
              "4       8000         8000           8000.0    36     14.99       277.29     C   \n",
              "\n",
              "                emp_title  emp_length home_ownership  ...  last_credit_pull_d  \\\n",
              "0                 Officer         8.0       MORTGAGE  ...                 335   \n",
              "1                  Driver         6.0           RENT  ...                 335   \n",
              "2  Silgan containers inc.        10.0       MORTGAGE  ...                 335   \n",
              "3          Office manager        10.0       MORTGAGE  ...                 335   \n",
              "4           Store manager        10.0       MORTGAGE  ...                 366   \n",
              "\n",
              "  collections_12_mths_ex_med policy_code  application_type  acc_now_delinq  \\\n",
              "0                        0.0           1        INDIVIDUAL             0.0   \n",
              "1                        0.0           1        INDIVIDUAL             0.0   \n",
              "2                        0.0           1        INDIVIDUAL             0.0   \n",
              "3                        0.0           1        INDIVIDUAL             0.0   \n",
              "4                        0.0           1        INDIVIDUAL             0.0   \n",
              "\n",
              "   tot_coll_amt  tot_cur_bal  total_rev_hi_lim  diff_next_pymnt_d  is_default  \n",
              "0           0.0     211643.0           37200.0                304         0.0  \n",
              "1         500.0      21107.0           14100.0                  0         0.0  \n",
              "2           0.0      83066.0           26800.0                  0         0.0  \n",
              "3           0.0     297741.0           33400.0                304         0.0  \n",
              "4           0.0     125013.0            8800.0                  0         0.0  \n",
              "\n",
              "[5 rows x 45 columns]"
            ],
            "text/html": [
              "\n",
              "  <div id=\"df-1cc08a5e-7b70-4b04-a262-8faf46d39ba4\">\n",
              "    <div class=\"colab-df-container\">\n",
              "      <div>\n",
              "<style scoped>\n",
              "    .dataframe tbody tr th:only-of-type {\n",
              "        vertical-align: middle;\n",
              "    }\n",
              "\n",
              "    .dataframe tbody tr th {\n",
              "        vertical-align: top;\n",
              "    }\n",
              "\n",
              "    .dataframe thead th {\n",
              "        text-align: right;\n",
              "    }\n",
              "</style>\n",
              "<table border=\"1\" class=\"dataframe\">\n",
              "  <thead>\n",
              "    <tr style=\"text-align: right;\">\n",
              "      <th></th>\n",
              "      <th>loan_amnt</th>\n",
              "      <th>funded_amnt</th>\n",
              "      <th>funded_amnt_inv</th>\n",
              "      <th>term</th>\n",
              "      <th>int_rate</th>\n",
              "      <th>installment</th>\n",
              "      <th>grade</th>\n",
              "      <th>emp_title</th>\n",
              "      <th>emp_length</th>\n",
              "      <th>home_ownership</th>\n",
              "      <th>...</th>\n",
              "      <th>last_credit_pull_d</th>\n",
              "      <th>collections_12_mths_ex_med</th>\n",
              "      <th>policy_code</th>\n",
              "      <th>application_type</th>\n",
              "      <th>acc_now_delinq</th>\n",
              "      <th>tot_coll_amt</th>\n",
              "      <th>tot_cur_bal</th>\n",
              "      <th>total_rev_hi_lim</th>\n",
              "      <th>diff_next_pymnt_d</th>\n",
              "      <th>is_default</th>\n",
              "    </tr>\n",
              "  </thead>\n",
              "  <tbody>\n",
              "    <tr>\n",
              "      <th>0</th>\n",
              "      <td>16000</td>\n",
              "      <td>16000</td>\n",
              "      <td>15925.0</td>\n",
              "      <td>36</td>\n",
              "      <td>7.90</td>\n",
              "      <td>500.65</td>\n",
              "      <td>A</td>\n",
              "      <td>Officer</td>\n",
              "      <td>8.0</td>\n",
              "      <td>MORTGAGE</td>\n",
              "      <td>...</td>\n",
              "      <td>335</td>\n",
              "      <td>0.0</td>\n",
              "      <td>1</td>\n",
              "      <td>INDIVIDUAL</td>\n",
              "      <td>0.0</td>\n",
              "      <td>0.0</td>\n",
              "      <td>211643.0</td>\n",
              "      <td>37200.0</td>\n",
              "      <td>304</td>\n",
              "      <td>0.0</td>\n",
              "    </tr>\n",
              "    <tr>\n",
              "      <th>1</th>\n",
              "      <td>6000</td>\n",
              "      <td>6000</td>\n",
              "      <td>6000.0</td>\n",
              "      <td>36</td>\n",
              "      <td>13.35</td>\n",
              "      <td>203.18</td>\n",
              "      <td>C</td>\n",
              "      <td>Driver</td>\n",
              "      <td>6.0</td>\n",
              "      <td>RENT</td>\n",
              "      <td>...</td>\n",
              "      <td>335</td>\n",
              "      <td>0.0</td>\n",
              "      <td>1</td>\n",
              "      <td>INDIVIDUAL</td>\n",
              "      <td>0.0</td>\n",
              "      <td>500.0</td>\n",
              "      <td>21107.0</td>\n",
              "      <td>14100.0</td>\n",
              "      <td>0</td>\n",
              "      <td>0.0</td>\n",
              "    </tr>\n",
              "    <tr>\n",
              "      <th>2</th>\n",
              "      <td>3000</td>\n",
              "      <td>3000</td>\n",
              "      <td>3000.0</td>\n",
              "      <td>36</td>\n",
              "      <td>12.12</td>\n",
              "      <td>99.82</td>\n",
              "      <td>B</td>\n",
              "      <td>Silgan containers inc.</td>\n",
              "      <td>10.0</td>\n",
              "      <td>MORTGAGE</td>\n",
              "      <td>...</td>\n",
              "      <td>335</td>\n",
              "      <td>0.0</td>\n",
              "      <td>1</td>\n",
              "      <td>INDIVIDUAL</td>\n",
              "      <td>0.0</td>\n",
              "      <td>0.0</td>\n",
              "      <td>83066.0</td>\n",
              "      <td>26800.0</td>\n",
              "      <td>0</td>\n",
              "      <td>0.0</td>\n",
              "    </tr>\n",
              "    <tr>\n",
              "      <th>3</th>\n",
              "      <td>12000</td>\n",
              "      <td>12000</td>\n",
              "      <td>12000.0</td>\n",
              "      <td>36</td>\n",
              "      <td>12.49</td>\n",
              "      <td>401.39</td>\n",
              "      <td>B</td>\n",
              "      <td>Office manager</td>\n",
              "      <td>10.0</td>\n",
              "      <td>MORTGAGE</td>\n",
              "      <td>...</td>\n",
              "      <td>335</td>\n",
              "      <td>0.0</td>\n",
              "      <td>1</td>\n",
              "      <td>INDIVIDUAL</td>\n",
              "      <td>0.0</td>\n",
              "      <td>0.0</td>\n",
              "      <td>297741.0</td>\n",
              "      <td>33400.0</td>\n",
              "      <td>304</td>\n",
              "      <td>0.0</td>\n",
              "    </tr>\n",
              "    <tr>\n",
              "      <th>4</th>\n",
              "      <td>8000</td>\n",
              "      <td>8000</td>\n",
              "      <td>8000.0</td>\n",
              "      <td>36</td>\n",
              "      <td>14.99</td>\n",
              "      <td>277.29</td>\n",
              "      <td>C</td>\n",
              "      <td>Store manager</td>\n",
              "      <td>10.0</td>\n",
              "      <td>MORTGAGE</td>\n",
              "      <td>...</td>\n",
              "      <td>366</td>\n",
              "      <td>0.0</td>\n",
              "      <td>1</td>\n",
              "      <td>INDIVIDUAL</td>\n",
              "      <td>0.0</td>\n",
              "      <td>0.0</td>\n",
              "      <td>125013.0</td>\n",
              "      <td>8800.0</td>\n",
              "      <td>0</td>\n",
              "      <td>0.0</td>\n",
              "    </tr>\n",
              "  </tbody>\n",
              "</table>\n",
              "<p>5 rows × 45 columns</p>\n",
              "</div>\n",
              "      <button class=\"colab-df-convert\" onclick=\"convertToInteractive('df-1cc08a5e-7b70-4b04-a262-8faf46d39ba4')\"\n",
              "              title=\"Convert this dataframe to an interactive table.\"\n",
              "              style=\"display:none;\">\n",
              "        \n",
              "  <svg xmlns=\"http://www.w3.org/2000/svg\" height=\"24px\"viewBox=\"0 0 24 24\"\n",
              "       width=\"24px\">\n",
              "    <path d=\"M0 0h24v24H0V0z\" fill=\"none\"/>\n",
              "    <path d=\"M18.56 5.44l.94 2.06.94-2.06 2.06-.94-2.06-.94-.94-2.06-.94 2.06-2.06.94zm-11 1L8.5 8.5l.94-2.06 2.06-.94-2.06-.94L8.5 2.5l-.94 2.06-2.06.94zm10 10l.94 2.06.94-2.06 2.06-.94-2.06-.94-.94-2.06-.94 2.06-2.06.94z\"/><path d=\"M17.41 7.96l-1.37-1.37c-.4-.4-.92-.59-1.43-.59-.52 0-1.04.2-1.43.59L10.3 9.45l-7.72 7.72c-.78.78-.78 2.05 0 2.83L4 21.41c.39.39.9.59 1.41.59.51 0 1.02-.2 1.41-.59l7.78-7.78 2.81-2.81c.8-.78.8-2.07 0-2.86zM5.41 20L4 18.59l7.72-7.72 1.47 1.35L5.41 20z\"/>\n",
              "  </svg>\n",
              "      </button>\n",
              "      \n",
              "  <style>\n",
              "    .colab-df-container {\n",
              "      display:flex;\n",
              "      flex-wrap:wrap;\n",
              "      gap: 12px;\n",
              "    }\n",
              "\n",
              "    .colab-df-convert {\n",
              "      background-color: #E8F0FE;\n",
              "      border: none;\n",
              "      border-radius: 50%;\n",
              "      cursor: pointer;\n",
              "      display: none;\n",
              "      fill: #1967D2;\n",
              "      height: 32px;\n",
              "      padding: 0 0 0 0;\n",
              "      width: 32px;\n",
              "    }\n",
              "\n",
              "    .colab-df-convert:hover {\n",
              "      background-color: #E2EBFA;\n",
              "      box-shadow: 0px 1px 2px rgba(60, 64, 67, 0.3), 0px 1px 3px 1px rgba(60, 64, 67, 0.15);\n",
              "      fill: #174EA6;\n",
              "    }\n",
              "\n",
              "    [theme=dark] .colab-df-convert {\n",
              "      background-color: #3B4455;\n",
              "      fill: #D2E3FC;\n",
              "    }\n",
              "\n",
              "    [theme=dark] .colab-df-convert:hover {\n",
              "      background-color: #434B5C;\n",
              "      box-shadow: 0px 1px 3px 1px rgba(0, 0, 0, 0.15);\n",
              "      filter: drop-shadow(0px 1px 2px rgba(0, 0, 0, 0.3));\n",
              "      fill: #FFFFFF;\n",
              "    }\n",
              "  </style>\n",
              "\n",
              "      <script>\n",
              "        const buttonEl =\n",
              "          document.querySelector('#df-1cc08a5e-7b70-4b04-a262-8faf46d39ba4 button.colab-df-convert');\n",
              "        buttonEl.style.display =\n",
              "          google.colab.kernel.accessAllowed ? 'block' : 'none';\n",
              "\n",
              "        async function convertToInteractive(key) {\n",
              "          const element = document.querySelector('#df-1cc08a5e-7b70-4b04-a262-8faf46d39ba4');\n",
              "          const dataTable =\n",
              "            await google.colab.kernel.invokeFunction('convertToInteractive',\n",
              "                                                     [key], {});\n",
              "          if (!dataTable) return;\n",
              "\n",
              "          const docLinkHtml = 'Like what you see? Visit the ' +\n",
              "            '<a target=\"_blank\" href=https://colab.research.google.com/notebooks/data_table.ipynb>data table notebook</a>'\n",
              "            + ' to learn more about interactive tables.';\n",
              "          element.innerHTML = '';\n",
              "          dataTable['output_type'] = 'display_data';\n",
              "          await google.colab.output.renderOutput(dataTable, element);\n",
              "          const docLink = document.createElement('div');\n",
              "          docLink.innerHTML = docLinkHtml;\n",
              "          element.appendChild(docLink);\n",
              "        }\n",
              "      </script>\n",
              "    </div>\n",
              "  </div>\n",
              "  "
            ]
          },
          "metadata": {},
          "execution_count": 241
        }
      ],
      "source": [
        "train = pd.concat([X_train, pd.Series(y_train)], axis = 1)\n",
        "train = train.rename({0:'is_default'}, axis = 1)\n",
        "train.head()"
      ]
    },
    {
      "cell_type": "code",
      "execution_count": 242,
      "metadata": {
        "id": "TsyFwLDceoQA",
        "colab": {
          "base_uri": "https://localhost:8080/"
        },
        "outputId": "5a49a369-5f84-4028-9954-b2c149b5664d"
      },
      "outputs": [
        {
          "output_type": "execute_result",
          "data": {
            "text/plain": [
              "{'A': 0.006743280463481812,\n",
              " 'B': 0.025095052374547715,\n",
              " 'C': 0.03341309256462183,\n",
              " 'D': 0.027601187503638186,\n",
              " 'E': 0.016204093762542164,\n",
              " 'F': 0.007441812015355439,\n",
              " 'G': 0.0021660605577835715}"
            ]
          },
          "metadata": {},
          "execution_count": 242
        }
      ],
      "source": [
        "# Groupby Grade\n",
        "grade_default = train.groupby('grade')['is_default'].sum()/train.shape[0]\n",
        "dict_grade_default = dict(grade_default)\n",
        "dict_grade_default"
      ]
    },
    {
      "cell_type": "code",
      "execution_count": 243,
      "metadata": {
        "id": "4TXT3xbRfeOp"
      },
      "outputs": [],
      "source": [
        "# Map\n",
        "X_train['grade'] = X_train['grade'].map(dict_grade_default)\n",
        "X_test['grade'] = X_test['grade'].map(dict_grade_default)"
      ]
    },
    {
      "cell_type": "markdown",
      "metadata": {
        "id": "SyXLjEsqYHo3"
      },
      "source": [
        "# Modelling\n",
        "\n",
        "Pada bagian ini akan dilakukan analisis prediktif terhadap masalah pinjaman yang default, recall kembali model-model yang akan kita gunakan adalah\n",
        "1. Model Linear :\n",
        "  * Logistic Regression\n",
        "  * Support Vector Machine (SVM) Classifier\n",
        "  * Linear Discriminant Analysis (LDA) Classifier\n",
        "2. Model Tree :\n",
        "  * Decision Tree Classifier\n",
        "  * Random Forest Classifier\n",
        "  * Extreme Gradient Boosting (XGBoost) Classifier\n",
        "\n",
        "Karena strategi encoding untuk model linear berbeda dengan model tree, maka akan digunakan Pipeline dimana model linear akan menggunakan One Hot Encoding dan Model Tree akan menggunakan Label Encoding"
      ]
    },
    {
      "cell_type": "code",
      "execution_count": 244,
      "metadata": {
        "id": "UzFhIsJmvnjx"
      },
      "outputs": [],
      "source": [
        "over = SMOTE()\n",
        "under = RandomUnderSampler()"
      ]
    },
    {
      "cell_type": "markdown",
      "metadata": {
        "id": "J5lp8cTz-QSC"
      },
      "source": [
        "## Model Linear"
      ]
    },
    {
      "cell_type": "code",
      "execution_count": 245,
      "metadata": {
        "id": "1q_lH1qoDTi1"
      },
      "outputs": [],
      "source": [
        "X_train_linear = pd.get_dummies(X_train.drop('emp_title', axis = 1))\n",
        "X_test_linear = pd.get_dummies(X_test.drop('emp_title', axis = 1))\n"
      ]
    },
    {
      "cell_type": "code",
      "execution_count": 246,
      "metadata": {
        "id": "IZ6knsc5yJ95",
        "colab": {
          "base_uri": "https://localhost:8080/"
        },
        "outputId": "725f1374-b391-4958-8e31-0e286c2d8083"
      },
      "outputs": [
        {
          "output_type": "stream",
          "name": "stderr",
          "text": [
            "/usr/local/lib/python3.7/dist-packages/sklearn/feature_selection/_univariate_selection.py:112: UserWarning: Features [32 62] are constant.\n",
            "  warnings.warn(\"Features %s are constant.\" % constant_features_idx, UserWarning)\n",
            "/usr/local/lib/python3.7/dist-packages/sklearn/feature_selection/_univariate_selection.py:113: RuntimeWarning: invalid value encountered in true_divide\n",
            "  f = msb / msw\n"
          ]
        }
      ],
      "source": [
        "# Select 20 best feature\n",
        "selector = SelectKBest(score_func = f_classif, k = 20)\n",
        "selector.fit(X_train_linear, y_train)\n",
        "cols = selector.get_support(indices = True)\n",
        "X_train_linear= X_train_linear.iloc[:,cols]\n",
        "X_test_linear = X_test_linear.reindex(labels = X_train_linear.columns, axis = 1)"
      ]
    },
    {
      "cell_type": "code",
      "execution_count": 247,
      "metadata": {
        "id": "vVCVj5kqzQ6H",
        "colab": {
          "base_uri": "https://localhost:8080/"
        },
        "outputId": "2c2ff99c-caba-4de3-9467-a9a1af32d9e1"
      },
      "outputs": [
        {
          "output_type": "execute_result",
          "data": {
            "text/plain": [
              "array([ 3,  4,  8,  9, 12, 17, 19, 20, 21, 22, 23, 25, 26, 27, 28, 29, 30,\n",
              "       35, 36, 37])"
            ]
          },
          "metadata": {},
          "execution_count": 247
        }
      ],
      "source": [
        "cols"
      ]
    },
    {
      "cell_type": "code",
      "execution_count": 248,
      "metadata": {
        "id": "DTxDyYsv0QOt",
        "colab": {
          "base_uri": "https://localhost:8080/",
          "height": 488
        },
        "outputId": "5b3168cb-9f0e-4af8-d41c-32aca5d1c4af"
      },
      "outputs": [
        {
          "output_type": "execute_result",
          "data": {
            "text/plain": [
              "        term  int_rate  annual_inc    dti  inq_last_6mths  revol_util  \\\n",
              "0         36      7.90     53000.0  21.64             3.0        62.6   \n",
              "1         36     13.35     56000.0  22.45             0.0        40.1   \n",
              "2         36     12.12     50000.0  10.22             0.0        57.2   \n",
              "3         36     12.49     65000.0  20.09             0.0        82.0   \n",
              "4         36     14.99     44000.0  39.74             0.0        53.1   \n",
              "...      ...       ...         ...    ...             ...         ...   \n",
              "326394    60     18.24    100000.0  19.38             1.0        97.7   \n",
              "326395    36      7.51     35000.0   7.71             1.0        60.5   \n",
              "326396    36      7.62    111000.0   8.41             0.0        36.3   \n",
              "326397    36     13.11     81000.0  15.11             1.0        49.6   \n",
              "326398    36     13.67     78000.0  14.80             0.0        76.5   \n",
              "\n",
              "        out_prncp  out_prncp_inv   total_pymnt  total_pymnt_inv  \\\n",
              "0         6217.92        6188.77  11514.950000         11460.97   \n",
              "1            0.00           0.00   6987.930000          6987.93   \n",
              "2            0.00           0.00   3593.302492          3593.30   \n",
              "3         5547.60        5547.60   8429.190000          8429.19   \n",
              "4            0.00           0.00   8644.300000          8644.30   \n",
              "...           ...            ...           ...              ...   \n",
              "326394   24042.96       24042.96  13017.410000         13017.41   \n",
              "326395       0.00           0.00   8335.180000          8335.18   \n",
              "326396       0.00           0.00  26617.421600         26617.42   \n",
              "326397       0.00           0.00   5779.626279          5779.63   \n",
              "326398       0.00           0.00  24491.343580         24491.34   \n",
              "\n",
              "        total_rec_prncp  total_rec_late_fee  recoveries  \\\n",
              "0               9782.08                 0.0         0.0   \n",
              "1               6000.00                 0.0         0.0   \n",
              "2               3000.00                 0.0         0.0   \n",
              "3               6452.40                 0.0         0.0   \n",
              "4               8000.00                 0.0         0.0   \n",
              "...                 ...                 ...         ...   \n",
              "326394          5957.04                 0.0         0.0   \n",
              "326395          7575.00                 0.0         0.0   \n",
              "326396         24000.00                 0.0         0.0   \n",
              "326397          5000.00                 0.0         0.0   \n",
              "326398         20000.00                 0.0         0.0   \n",
              "\n",
              "        collection_recovery_fee  last_pymnt_d  last_pymnt_amnt  \\\n",
              "0                           0.0           335           500.65   \n",
              "1                           0.0           366          3533.87   \n",
              "2                           0.0           335            99.60   \n",
              "3                           0.0           335           401.39   \n",
              "4                           0.0           549          6993.88   \n",
              "...                         ...           ...              ...   \n",
              "326394                      0.0           366           765.73   \n",
              "326395                      0.0          1096          3405.56   \n",
              "326396                      0.0           853          8674.57   \n",
              "326397                      0.0           761          2915.46   \n",
              "326398                      0.0           519           683.54   \n",
              "\n",
              "        last_credit_pull_d  tot_cur_bal  total_rev_hi_lim  diff_next_pymnt_d  \n",
              "0                      335     211643.0           37200.0                304  \n",
              "1                      335      21107.0           14100.0                  0  \n",
              "2                      335      83066.0           26800.0                  0  \n",
              "3                      335     297741.0           33400.0                304  \n",
              "4                      366     125013.0            8800.0                  0  \n",
              "...                    ...          ...               ...                ...  \n",
              "326394                 335      47860.0           16000.0                304  \n",
              "326395                1065     144910.0           34800.0                  0  \n",
              "326396                 335     144910.0           34800.0                  0  \n",
              "326397                 457     138055.0           14900.0                  0  \n",
              "326398                 549      83859.0           23400.0                  0  \n",
              "\n",
              "[326399 rows x 20 columns]"
            ],
            "text/html": [
              "\n",
              "  <div id=\"df-de9e9c84-8df8-4e82-a942-aa556ed6221b\">\n",
              "    <div class=\"colab-df-container\">\n",
              "      <div>\n",
              "<style scoped>\n",
              "    .dataframe tbody tr th:only-of-type {\n",
              "        vertical-align: middle;\n",
              "    }\n",
              "\n",
              "    .dataframe tbody tr th {\n",
              "        vertical-align: top;\n",
              "    }\n",
              "\n",
              "    .dataframe thead th {\n",
              "        text-align: right;\n",
              "    }\n",
              "</style>\n",
              "<table border=\"1\" class=\"dataframe\">\n",
              "  <thead>\n",
              "    <tr style=\"text-align: right;\">\n",
              "      <th></th>\n",
              "      <th>term</th>\n",
              "      <th>int_rate</th>\n",
              "      <th>annual_inc</th>\n",
              "      <th>dti</th>\n",
              "      <th>inq_last_6mths</th>\n",
              "      <th>revol_util</th>\n",
              "      <th>out_prncp</th>\n",
              "      <th>out_prncp_inv</th>\n",
              "      <th>total_pymnt</th>\n",
              "      <th>total_pymnt_inv</th>\n",
              "      <th>total_rec_prncp</th>\n",
              "      <th>total_rec_late_fee</th>\n",
              "      <th>recoveries</th>\n",
              "      <th>collection_recovery_fee</th>\n",
              "      <th>last_pymnt_d</th>\n",
              "      <th>last_pymnt_amnt</th>\n",
              "      <th>last_credit_pull_d</th>\n",
              "      <th>tot_cur_bal</th>\n",
              "      <th>total_rev_hi_lim</th>\n",
              "      <th>diff_next_pymnt_d</th>\n",
              "    </tr>\n",
              "  </thead>\n",
              "  <tbody>\n",
              "    <tr>\n",
              "      <th>0</th>\n",
              "      <td>36</td>\n",
              "      <td>7.90</td>\n",
              "      <td>53000.0</td>\n",
              "      <td>21.64</td>\n",
              "      <td>3.0</td>\n",
              "      <td>62.6</td>\n",
              "      <td>6217.92</td>\n",
              "      <td>6188.77</td>\n",
              "      <td>11514.950000</td>\n",
              "      <td>11460.97</td>\n",
              "      <td>9782.08</td>\n",
              "      <td>0.0</td>\n",
              "      <td>0.0</td>\n",
              "      <td>0.0</td>\n",
              "      <td>335</td>\n",
              "      <td>500.65</td>\n",
              "      <td>335</td>\n",
              "      <td>211643.0</td>\n",
              "      <td>37200.0</td>\n",
              "      <td>304</td>\n",
              "    </tr>\n",
              "    <tr>\n",
              "      <th>1</th>\n",
              "      <td>36</td>\n",
              "      <td>13.35</td>\n",
              "      <td>56000.0</td>\n",
              "      <td>22.45</td>\n",
              "      <td>0.0</td>\n",
              "      <td>40.1</td>\n",
              "      <td>0.00</td>\n",
              "      <td>0.00</td>\n",
              "      <td>6987.930000</td>\n",
              "      <td>6987.93</td>\n",
              "      <td>6000.00</td>\n",
              "      <td>0.0</td>\n",
              "      <td>0.0</td>\n",
              "      <td>0.0</td>\n",
              "      <td>366</td>\n",
              "      <td>3533.87</td>\n",
              "      <td>335</td>\n",
              "      <td>21107.0</td>\n",
              "      <td>14100.0</td>\n",
              "      <td>0</td>\n",
              "    </tr>\n",
              "    <tr>\n",
              "      <th>2</th>\n",
              "      <td>36</td>\n",
              "      <td>12.12</td>\n",
              "      <td>50000.0</td>\n",
              "      <td>10.22</td>\n",
              "      <td>0.0</td>\n",
              "      <td>57.2</td>\n",
              "      <td>0.00</td>\n",
              "      <td>0.00</td>\n",
              "      <td>3593.302492</td>\n",
              "      <td>3593.30</td>\n",
              "      <td>3000.00</td>\n",
              "      <td>0.0</td>\n",
              "      <td>0.0</td>\n",
              "      <td>0.0</td>\n",
              "      <td>335</td>\n",
              "      <td>99.60</td>\n",
              "      <td>335</td>\n",
              "      <td>83066.0</td>\n",
              "      <td>26800.0</td>\n",
              "      <td>0</td>\n",
              "    </tr>\n",
              "    <tr>\n",
              "      <th>3</th>\n",
              "      <td>36</td>\n",
              "      <td>12.49</td>\n",
              "      <td>65000.0</td>\n",
              "      <td>20.09</td>\n",
              "      <td>0.0</td>\n",
              "      <td>82.0</td>\n",
              "      <td>5547.60</td>\n",
              "      <td>5547.60</td>\n",
              "      <td>8429.190000</td>\n",
              "      <td>8429.19</td>\n",
              "      <td>6452.40</td>\n",
              "      <td>0.0</td>\n",
              "      <td>0.0</td>\n",
              "      <td>0.0</td>\n",
              "      <td>335</td>\n",
              "      <td>401.39</td>\n",
              "      <td>335</td>\n",
              "      <td>297741.0</td>\n",
              "      <td>33400.0</td>\n",
              "      <td>304</td>\n",
              "    </tr>\n",
              "    <tr>\n",
              "      <th>4</th>\n",
              "      <td>36</td>\n",
              "      <td>14.99</td>\n",
              "      <td>44000.0</td>\n",
              "      <td>39.74</td>\n",
              "      <td>0.0</td>\n",
              "      <td>53.1</td>\n",
              "      <td>0.00</td>\n",
              "      <td>0.00</td>\n",
              "      <td>8644.300000</td>\n",
              "      <td>8644.30</td>\n",
              "      <td>8000.00</td>\n",
              "      <td>0.0</td>\n",
              "      <td>0.0</td>\n",
              "      <td>0.0</td>\n",
              "      <td>549</td>\n",
              "      <td>6993.88</td>\n",
              "      <td>366</td>\n",
              "      <td>125013.0</td>\n",
              "      <td>8800.0</td>\n",
              "      <td>0</td>\n",
              "    </tr>\n",
              "    <tr>\n",
              "      <th>...</th>\n",
              "      <td>...</td>\n",
              "      <td>...</td>\n",
              "      <td>...</td>\n",
              "      <td>...</td>\n",
              "      <td>...</td>\n",
              "      <td>...</td>\n",
              "      <td>...</td>\n",
              "      <td>...</td>\n",
              "      <td>...</td>\n",
              "      <td>...</td>\n",
              "      <td>...</td>\n",
              "      <td>...</td>\n",
              "      <td>...</td>\n",
              "      <td>...</td>\n",
              "      <td>...</td>\n",
              "      <td>...</td>\n",
              "      <td>...</td>\n",
              "      <td>...</td>\n",
              "      <td>...</td>\n",
              "      <td>...</td>\n",
              "    </tr>\n",
              "    <tr>\n",
              "      <th>326394</th>\n",
              "      <td>60</td>\n",
              "      <td>18.24</td>\n",
              "      <td>100000.0</td>\n",
              "      <td>19.38</td>\n",
              "      <td>1.0</td>\n",
              "      <td>97.7</td>\n",
              "      <td>24042.96</td>\n",
              "      <td>24042.96</td>\n",
              "      <td>13017.410000</td>\n",
              "      <td>13017.41</td>\n",
              "      <td>5957.04</td>\n",
              "      <td>0.0</td>\n",
              "      <td>0.0</td>\n",
              "      <td>0.0</td>\n",
              "      <td>366</td>\n",
              "      <td>765.73</td>\n",
              "      <td>335</td>\n",
              "      <td>47860.0</td>\n",
              "      <td>16000.0</td>\n",
              "      <td>304</td>\n",
              "    </tr>\n",
              "    <tr>\n",
              "      <th>326395</th>\n",
              "      <td>36</td>\n",
              "      <td>7.51</td>\n",
              "      <td>35000.0</td>\n",
              "      <td>7.71</td>\n",
              "      <td>1.0</td>\n",
              "      <td>60.5</td>\n",
              "      <td>0.00</td>\n",
              "      <td>0.00</td>\n",
              "      <td>8335.180000</td>\n",
              "      <td>8335.18</td>\n",
              "      <td>7575.00</td>\n",
              "      <td>0.0</td>\n",
              "      <td>0.0</td>\n",
              "      <td>0.0</td>\n",
              "      <td>1096</td>\n",
              "      <td>3405.56</td>\n",
              "      <td>1065</td>\n",
              "      <td>144910.0</td>\n",
              "      <td>34800.0</td>\n",
              "      <td>0</td>\n",
              "    </tr>\n",
              "    <tr>\n",
              "      <th>326396</th>\n",
              "      <td>36</td>\n",
              "      <td>7.62</td>\n",
              "      <td>111000.0</td>\n",
              "      <td>8.41</td>\n",
              "      <td>0.0</td>\n",
              "      <td>36.3</td>\n",
              "      <td>0.00</td>\n",
              "      <td>0.00</td>\n",
              "      <td>26617.421600</td>\n",
              "      <td>26617.42</td>\n",
              "      <td>24000.00</td>\n",
              "      <td>0.0</td>\n",
              "      <td>0.0</td>\n",
              "      <td>0.0</td>\n",
              "      <td>853</td>\n",
              "      <td>8674.57</td>\n",
              "      <td>335</td>\n",
              "      <td>144910.0</td>\n",
              "      <td>34800.0</td>\n",
              "      <td>0</td>\n",
              "    </tr>\n",
              "    <tr>\n",
              "      <th>326397</th>\n",
              "      <td>36</td>\n",
              "      <td>13.11</td>\n",
              "      <td>81000.0</td>\n",
              "      <td>15.11</td>\n",
              "      <td>1.0</td>\n",
              "      <td>49.6</td>\n",
              "      <td>0.00</td>\n",
              "      <td>0.00</td>\n",
              "      <td>5779.626279</td>\n",
              "      <td>5779.63</td>\n",
              "      <td>5000.00</td>\n",
              "      <td>0.0</td>\n",
              "      <td>0.0</td>\n",
              "      <td>0.0</td>\n",
              "      <td>761</td>\n",
              "      <td>2915.46</td>\n",
              "      <td>457</td>\n",
              "      <td>138055.0</td>\n",
              "      <td>14900.0</td>\n",
              "      <td>0</td>\n",
              "    </tr>\n",
              "    <tr>\n",
              "      <th>326398</th>\n",
              "      <td>36</td>\n",
              "      <td>13.67</td>\n",
              "      <td>78000.0</td>\n",
              "      <td>14.80</td>\n",
              "      <td>0.0</td>\n",
              "      <td>76.5</td>\n",
              "      <td>0.00</td>\n",
              "      <td>0.00</td>\n",
              "      <td>24491.343580</td>\n",
              "      <td>24491.34</td>\n",
              "      <td>20000.00</td>\n",
              "      <td>0.0</td>\n",
              "      <td>0.0</td>\n",
              "      <td>0.0</td>\n",
              "      <td>519</td>\n",
              "      <td>683.54</td>\n",
              "      <td>549</td>\n",
              "      <td>83859.0</td>\n",
              "      <td>23400.0</td>\n",
              "      <td>0</td>\n",
              "    </tr>\n",
              "  </tbody>\n",
              "</table>\n",
              "<p>326399 rows × 20 columns</p>\n",
              "</div>\n",
              "      <button class=\"colab-df-convert\" onclick=\"convertToInteractive('df-de9e9c84-8df8-4e82-a942-aa556ed6221b')\"\n",
              "              title=\"Convert this dataframe to an interactive table.\"\n",
              "              style=\"display:none;\">\n",
              "        \n",
              "  <svg xmlns=\"http://www.w3.org/2000/svg\" height=\"24px\"viewBox=\"0 0 24 24\"\n",
              "       width=\"24px\">\n",
              "    <path d=\"M0 0h24v24H0V0z\" fill=\"none\"/>\n",
              "    <path d=\"M18.56 5.44l.94 2.06.94-2.06 2.06-.94-2.06-.94-.94-2.06-.94 2.06-2.06.94zm-11 1L8.5 8.5l.94-2.06 2.06-.94-2.06-.94L8.5 2.5l-.94 2.06-2.06.94zm10 10l.94 2.06.94-2.06 2.06-.94-2.06-.94-.94-2.06-.94 2.06-2.06.94z\"/><path d=\"M17.41 7.96l-1.37-1.37c-.4-.4-.92-.59-1.43-.59-.52 0-1.04.2-1.43.59L10.3 9.45l-7.72 7.72c-.78.78-.78 2.05 0 2.83L4 21.41c.39.39.9.59 1.41.59.51 0 1.02-.2 1.41-.59l7.78-7.78 2.81-2.81c.8-.78.8-2.07 0-2.86zM5.41 20L4 18.59l7.72-7.72 1.47 1.35L5.41 20z\"/>\n",
              "  </svg>\n",
              "      </button>\n",
              "      \n",
              "  <style>\n",
              "    .colab-df-container {\n",
              "      display:flex;\n",
              "      flex-wrap:wrap;\n",
              "      gap: 12px;\n",
              "    }\n",
              "\n",
              "    .colab-df-convert {\n",
              "      background-color: #E8F0FE;\n",
              "      border: none;\n",
              "      border-radius: 50%;\n",
              "      cursor: pointer;\n",
              "      display: none;\n",
              "      fill: #1967D2;\n",
              "      height: 32px;\n",
              "      padding: 0 0 0 0;\n",
              "      width: 32px;\n",
              "    }\n",
              "\n",
              "    .colab-df-convert:hover {\n",
              "      background-color: #E2EBFA;\n",
              "      box-shadow: 0px 1px 2px rgba(60, 64, 67, 0.3), 0px 1px 3px 1px rgba(60, 64, 67, 0.15);\n",
              "      fill: #174EA6;\n",
              "    }\n",
              "\n",
              "    [theme=dark] .colab-df-convert {\n",
              "      background-color: #3B4455;\n",
              "      fill: #D2E3FC;\n",
              "    }\n",
              "\n",
              "    [theme=dark] .colab-df-convert:hover {\n",
              "      background-color: #434B5C;\n",
              "      box-shadow: 0px 1px 3px 1px rgba(0, 0, 0, 0.15);\n",
              "      filter: drop-shadow(0px 1px 2px rgba(0, 0, 0, 0.3));\n",
              "      fill: #FFFFFF;\n",
              "    }\n",
              "  </style>\n",
              "\n",
              "      <script>\n",
              "        const buttonEl =\n",
              "          document.querySelector('#df-de9e9c84-8df8-4e82-a942-aa556ed6221b button.colab-df-convert');\n",
              "        buttonEl.style.display =\n",
              "          google.colab.kernel.accessAllowed ? 'block' : 'none';\n",
              "\n",
              "        async function convertToInteractive(key) {\n",
              "          const element = document.querySelector('#df-de9e9c84-8df8-4e82-a942-aa556ed6221b');\n",
              "          const dataTable =\n",
              "            await google.colab.kernel.invokeFunction('convertToInteractive',\n",
              "                                                     [key], {});\n",
              "          if (!dataTable) return;\n",
              "\n",
              "          const docLinkHtml = 'Like what you see? Visit the ' +\n",
              "            '<a target=\"_blank\" href=https://colab.research.google.com/notebooks/data_table.ipynb>data table notebook</a>'\n",
              "            + ' to learn more about interactive tables.';\n",
              "          element.innerHTML = '';\n",
              "          dataTable['output_type'] = 'display_data';\n",
              "          await google.colab.output.renderOutput(dataTable, element);\n",
              "          const docLink = document.createElement('div');\n",
              "          docLink.innerHTML = docLinkHtml;\n",
              "          element.appendChild(docLink);\n",
              "        }\n",
              "      </script>\n",
              "    </div>\n",
              "  </div>\n",
              "  "
            ]
          },
          "metadata": {},
          "execution_count": 248
        }
      ],
      "source": [
        "X_train_linear"
      ]
    },
    {
      "cell_type": "markdown",
      "source": [
        "### Analisis Korelasi"
      ],
      "metadata": {
        "id": "fvQTuFezJ1Xg"
      }
    },
    {
      "cell_type": "code",
      "execution_count": 249,
      "metadata": {
        "id": "yTZhXLrk0Y4j",
        "colab": {
          "base_uri": "https://localhost:8080/",
          "height": 699
        },
        "outputId": "3f82e8ac-6ed5-462d-a9e9-2de805017adf"
      },
      "outputs": [
        {
          "output_type": "display_data",
          "data": {
            "text/plain": [
              "<Figure size 1080x720 with 2 Axes>"
            ],
            "image/png": "[encoded data removed]"
          },
          "metadata": {
            "needs_background": "light"
          }
        }
      ],
      "source": [
        "# Analisis Korelasi\n",
        "plt.figure(figsize = (15,10))\n",
        "data_linear = pd.concat([X_train_linear, X_test_linear], axis = 0)\n",
        "data_linear['is_default'] = y\n",
        "corr = data_linear.corr()\n",
        "sns.heatmap(corr, cmap = 'viridis')\n",
        "plt.show()"
      ]
    },
    {
      "cell_type": "markdown",
      "metadata": {
        "id": "kvftAtoU0gW3"
      },
      "source": [
        "Beberapa fitur memiliki korelasi negatif yang signifikan seperti:\n",
        "  * last_pymnt_d, last_pymnt_amnt, last_credit_pull_d dengan out_prncp\n",
        "  * last_pymnt_amnt dengan diff_next_pymnt_d\n",
        "\n",
        "Beberapa fitur juga memiliki korelasi positif yang signifikan seperti:\n",
        "  * last_pymnt_amnt dengan total_rec_prncp\n",
        "  * collection_recovery_fee dengan recoveries\n",
        "  * last_credit_pull_d dengan last_pymnt_d\n",
        "\n",
        "Terdapat 2 fitur yang menyebabkan masalah multikolinear, yakni total_pymnt_inv dan out_prncp_inv, drop kedua fitur tersebut"
      ]
    },
    {
      "cell_type": "code",
      "execution_count": 250,
      "metadata": {
        "id": "H969auck0y_P"
      },
      "outputs": [],
      "source": [
        "X_train_linear = X_train_linear.drop(['total_pymnt_inv','out_prncp_inv'], axis = 1)\n",
        "X_test_linear = X_test_linear.drop(['total_pymnt_inv','out_prncp_inv'], axis = 1)"
      ]
    },
    {
      "cell_type": "markdown",
      "metadata": {
        "id": "qTKpkefP-RWH"
      },
      "source": [
        "### Logistic Regression"
      ]
    },
    {
      "cell_type": "markdown",
      "metadata": {
        "id": "29hr3jOWURR8"
      },
      "source": [
        "#### Cross validation"
      ]
    },
    {
      "cell_type": "code",
      "execution_count": 251,
      "metadata": {
        "id": "76uaIG6x9QP3",
        "colab": {
          "base_uri": "https://localhost:8080/"
        },
        "outputId": "1a495767-df48-4dfa-a104-9b2d4e10c69f"
      },
      "outputs": [
        {
          "output_type": "stream",
          "name": "stdout",
          "text": [
            "Mean ROC AUC: 0.936\n"
          ]
        }
      ],
      "source": [
        "# Buat Pipeline\n",
        "logreg = LogisticRegression(max_iter = 1000)\n",
        "\n",
        "pipeline_logreg = Pipeline(steps = [('scaler', StandardScaler()),\n",
        "                                    ('over', over),\n",
        "                                    ('under', under),\n",
        "                                    ('model', logreg)])\n",
        "\n",
        "scores_logreg = cross_val_score(pipeline_logreg, X_train_linear, y_train, scoring='roc_auc', cv=3, n_jobs=-1)\n",
        "print('Mean ROC AUC: %.3f' % np.mean(scores_logreg))"
      ]
    },
    {
      "cell_type": "markdown",
      "metadata": {
        "id": "LgLKuNWXS-k3"
      },
      "source": [
        "Skornya ROC-AUC bagus, kita coba fit"
      ]
    },
    {
      "cell_type": "markdown",
      "metadata": {
        "id": "D6RdSpAQUUh9"
      },
      "source": [
        "#### Diagnostic"
      ]
    },
    {
      "cell_type": "code",
      "execution_count": 252,
      "metadata": {
        "id": "RSRZKn5US82O"
      },
      "outputs": [],
      "source": [
        "# Fit\n",
        "pipeline_logreg.fit(X_train_linear, y_train)\n",
        "\n",
        "# Predict\n",
        "y_predict_logreg = pipeline_logreg.predict(X_test_linear) "
      ]
    },
    {
      "cell_type": "code",
      "execution_count": 253,
      "metadata": {
        "id": "xGT3w1snTUgY",
        "colab": {
          "base_uri": "https://localhost:8080/",
          "height": 296
        },
        "outputId": "7cedd8fe-b1ea-4cbc-bea5-db2b818f2e4b"
      },
      "outputs": [
        {
          "output_type": "display_data",
          "data": {
            "text/plain": [
              "<Figure size 432x288 with 2 Axes>"
            ],
            "image/png": "[encoded data removed]"
          },
          "metadata": {
            "needs_background": "light"
          }
        }
      ],
      "source": [
        "# Liat confusion matrix\n",
        "conf_matrix_logreg = confusion_matrix(y_test, y_predict_logreg)\n",
        "conf_matrix_percentage_logreg = (conf_matrix_logreg/X_test_linear.shape[0])*100\n",
        "sns.heatmap(conf_matrix_percentage_logreg, annot = True)\n",
        "plt.title(\"Confusion Matrix untuk Model Logistic Regression\")\n",
        "plt.xlabel(\"Actual Values\")\n",
        "plt.ylabel(\"Predicted Values\")\n",
        "plt.show()"
      ]
    },
    {
      "cell_type": "markdown",
      "metadata": {
        "id": "NmvNQcyCWoRu"
      },
      "source": [
        "Dari confusion matrix di atas diperoleh hasil sebagai berikut :\n",
        "\n",
        "* Sekitar 81% peminjam yang diprediksi tidak akan default dan peminjam tersebut memang tidak default\n",
        "\n",
        "* Sekitar 7.1% peminjam yang diprediksi tidak akan default tetapi peminjam tersebut default \n",
        "\n",
        "* Sekitar 2.3% peminjam yang diprediksi akan default tetapi peminjam tersebut tidak default \n",
        "\n",
        "* Sekitar 9.6% peminjam yang diprediksi akan default dan peminjam tersebut default\n",
        "\n",
        "Perhatikan bahwa model hanya dapat memprediksi sedikit peminjam yang akan default\n",
        "\n"
      ]
    },
    {
      "cell_type": "code",
      "execution_count": 254,
      "metadata": {
        "id": "PD0lRKyQYLPi",
        "colab": {
          "base_uri": "https://localhost:8080/"
        },
        "outputId": "b1435aab-577c-4020-b1d5-f0f0e1343d0a"
      },
      "outputs": [
        {
          "output_type": "stream",
          "name": "stdout",
          "text": [
            "              precision    recall  f1-score   support\n",
            "\n",
            "         0.0       0.97      0.92      0.95    123286\n",
            "         1.0       0.57      0.81      0.67     16600\n",
            "\n",
            "    accuracy                           0.91    139886\n",
            "   macro avg       0.77      0.86      0.81    139886\n",
            "weighted avg       0.93      0.91      0.91    139886\n",
            "\n"
          ]
        }
      ],
      "source": [
        "# Liat classification reportnya\n",
        "print(classification_report(y_test, y_predict_logreg))"
      ]
    },
    {
      "cell_type": "markdown",
      "metadata": {
        "id": "BDOMYNF6YXMa"
      },
      "source": [
        "Akurasi yang diperoleh 91%, tetapi untuk metrik f1-score, precision dan recall terdapat kesenjangan persentase antara label peminjam yang default (0) dengan label peminjam yang tidak default (1) disebabkan oleh komposisi yang tidak seimbang antara peminjam default dan peminjam yang tidak default pada data tersebut\n",
        "\n"
      ]
    },
    {
      "cell_type": "code",
      "execution_count": 255,
      "metadata": {
        "id": "IebDOMSXb_17",
        "colab": {
          "base_uri": "https://localhost:8080/"
        },
        "outputId": "fbb8d6b9-072c-4197-9b3f-c5ce86fa285f"
      },
      "outputs": [
        {
          "output_type": "stream",
          "name": "stdout",
          "text": [
            "No Skill: ROC AUC=0.500\n",
            "Logistic: ROC AUC=0.936\n"
          ]
        }
      ],
      "source": [
        "# Liat ROC-AUC Curve\n",
        "## generate a no skill prediction (majority class)\n",
        "ns_probs = [0 for _ in range(len(y_test))]\n",
        "## Prediksi peluangnya\n",
        "y_pred_prob_lr = pipeline_logreg.predict_proba(X_test_linear)\n",
        "## Ambil peluang untuk yang level 1\n",
        "lr_probs = y_pred_prob_lr[:, 1]\n",
        "## calculate scores\n",
        "ns_auc = roc_auc_score(y_test, ns_probs)\n",
        "lr_auc = roc_auc_score(y_test, lr_probs)\n",
        "## summarize scores\n",
        "print('No Skill: ROC AUC=%.3f' % (ns_auc))\n",
        "print('Logistic: ROC AUC=%.3f' % (lr_auc))"
      ]
    },
    {
      "cell_type": "code",
      "execution_count": 256,
      "metadata": {
        "id": "wyIBDcyLiCIB",
        "colab": {
          "base_uri": "https://localhost:8080/",
          "height": 296
        },
        "outputId": "9f83bb8b-1227-45da-8e9a-c090293588fd"
      },
      "outputs": [
        {
          "output_type": "display_data",
          "data": {
            "text/plain": [
              "<Figure size 432x288 with 1 Axes>"
            ],
            "image/png": "[encoded data removed]"
          },
          "metadata": {
            "needs_background": "light"
          }
        }
      ],
      "source": [
        "## calculate roc curves\n",
        "ns_fpr, ns_tpr, _ = roc_curve(y_test, ns_probs)\n",
        "lr_fpr, lr_tpr, _ = roc_curve(y_test, lr_probs)\n",
        "## plot the roc curve for the model\n",
        "plt.plot(ns_fpr, ns_tpr, linestyle='--', label='No Skill')\n",
        "plt.plot(lr_fpr, lr_tpr, marker='.', label='Logistic')\n",
        "## axis labels\n",
        "plt.xlabel('False Positive Rate')\n",
        "plt.ylabel('True Positive Rate')\n",
        "## show the legend\n",
        "plt.legend()\n",
        "## show the plot\n",
        "plt.title(\"ROC Curve for Logistic Regression\")\n",
        "plt.show()"
      ]
    },
    {
      "cell_type": "markdown",
      "metadata": {
        "id": "JXQ1CZUokKYO"
      },
      "source": [
        "### Support Vector Machine"
      ]
    },
    {
      "cell_type": "markdown",
      "metadata": {
        "id": "1w938xB5kP44"
      },
      "source": [
        "#### Cross Validation"
      ]
    },
    {
      "cell_type": "code",
      "execution_count": null,
      "metadata": {
        "id": "fSdQILIckPbL"
      },
      "outputs": [],
      "source": [
        "# Buat Pipeline\n",
        "SVM = LinearSVC()\n",
        "\n",
        "pipeline_svm = Pipeline(steps = [('scaler', StandardScaler()),\n",
        "                                    ('over', over),\n",
        "                                    ('under', under),\n",
        "                                    ('model', SVM)])\n",
        "\n",
        "scores_svm = cross_val_score(pipeline_svm, X_train_linear, y_train, scoring='roc_auc', cv=3, n_jobs=-1)\n",
        "print('Mean ROC AUC: %.3f' % np.mean(scores_svm))"
      ]
    },
    {
      "cell_type": "markdown",
      "metadata": {
        "id": "75yc7qbgs9kF"
      },
      "source": [
        "Skor ROC AUC juga sama untuk model ini"
      ]
    },
    {
      "cell_type": "markdown",
      "metadata": {
        "id": "zQoCukkhtC1q"
      },
      "source": [
        "#### Diagnostic"
      ]
    },
    {
      "cell_type": "code",
      "execution_count": null,
      "metadata": {
        "id": "UvKcxf81tA64"
      },
      "outputs": [],
      "source": [
        "# Fit\n",
        "pipeline_svm.fit(X_train_linear, y_train)\n",
        "\n",
        "# Predict\n",
        "y_predict_svm = pipeline_svm.predict(X_test_linear) "
      ]
    },
    {
      "cell_type": "code",
      "execution_count": null,
      "metadata": {
        "id": "YVGmVTAMtVFB"
      },
      "outputs": [],
      "source": [
        "# Liat confusion matrix\n",
        "conf_matrix_svm = confusion_matrix(y_test, y_predict_svm)\n",
        "conf_matrix_percentage_svm = (conf_matrix_svm/X_test_linear.shape[0])*100\n",
        "sns.heatmap(conf_matrix_percentage_svm, annot = True)\n",
        "plt.title(\"Confusion Matrix untuk Model SVM\")\n",
        "plt.xlabel(\"Actual Values\")\n",
        "plt.ylabel(\"Predicted Values\")\n",
        "plt.show()"
      ]
    },
    {
      "cell_type": "markdown",
      "metadata": {
        "id": "bklbIQZqFbZu"
      },
      "source": [
        "Dari confusion matrix di atas diperoleh hasil sebagai berikut :\n",
        "\n",
        "* Sekitar 82% peminjam yang diprediksi tidak akan default dan peminjam tersebut memang tidak default\n",
        "\n",
        "* Sekitar 6.6% peminjam yang diprediksi tidak akan default tetapi peminjam tersebut default \n",
        "\n",
        "* Sekitar 2.3% peminjam yang diprediksi akan default tetapi peminjam tersebut tidak default \n",
        "\n",
        "* Sekitar 9.5% peminjam yang diprediksi akan default dan peminjam tersebut default\n",
        "\n",
        "Perhatikan bahwa model hanya dapat memprediksi sedikit peminjam yang akan default"
      ]
    },
    {
      "cell_type": "code",
      "execution_count": null,
      "metadata": {
        "id": "ZXgkR4NBuoEb"
      },
      "outputs": [],
      "source": [
        "# Liat classification reportnya\n",
        "print(classification_report(y_test, y_predict_svm))"
      ]
    },
    {
      "cell_type": "markdown",
      "metadata": {
        "id": "46goBwuqFhnN"
      },
      "source": [
        "Perbedaan skor precision, recall, f1-score antara prediksi peminjam yang tidak default (label 0) dan yang default (label 1) tidak sejauh model regresi logistik. Dari akurasi juga lebih tinggi dibandingkan regresi logistik."
      ]
    },
    {
      "cell_type": "markdown",
      "metadata": {
        "id": "LbMGNoYDvLNq"
      },
      "source": [
        "### Linear Discriminant Analysis"
      ]
    },
    {
      "cell_type": "markdown",
      "metadata": {
        "id": "fnocOOPsvP6F"
      },
      "source": [
        "#### Cross Validation"
      ]
    },
    {
      "cell_type": "code",
      "execution_count": null,
      "metadata": {
        "id": "RKjiztfovPNk"
      },
      "outputs": [],
      "source": [
        "# Buat Pipeline\n",
        "LDA = LinearDiscriminantAnalysis()\n",
        "\n",
        "pipeline_lda = Pipeline(steps = [('scaler', StandardScaler()),\n",
        "                                    ('over', over),\n",
        "                                    ('under', under),\n",
        "                                    ('model', LDA)])\n",
        "\n",
        "scores_lda = cross_val_score(pipeline_lda, X_train_linear, y_train, scoring='roc_auc', cv=3, n_jobs=-1)\n",
        "print('Mean ROC AUC: %.3f' % np.mean(scores_lda))"
      ]
    },
    {
      "cell_type": "markdown",
      "metadata": {
        "id": "Zzc8_FB1wg2Z"
      },
      "source": [
        "Skor ROC AUCnya lebih rendah dari model regresi logistik dan SVM"
      ]
    },
    {
      "cell_type": "markdown",
      "metadata": {
        "id": "sB2a5Hw5wkwb"
      },
      "source": [
        "#### Diagnostic"
      ]
    },
    {
      "cell_type": "code",
      "execution_count": null,
      "metadata": {
        "id": "nsR4xM8Uwl-J"
      },
      "outputs": [],
      "source": [
        "# Fit\n",
        "pipeline_lda.fit(X_train_linear, y_train)\n",
        "\n",
        "# Predict\n",
        "y_predict_lda = pipeline_lda.predict(X_test_linear) "
      ]
    },
    {
      "cell_type": "code",
      "execution_count": null,
      "metadata": {
        "id": "yxAhr4Wzwup6"
      },
      "outputs": [],
      "source": [
        "# Liat confusion matrix\n",
        "conf_matrix_lda = confusion_matrix(y_test, y_predict_lda)\n",
        "conf_matrix_percentage_lda = (conf_matrix_lda/X_test_linear.shape[0])*100\n",
        "sns.heatmap(conf_matrix_percentage_lda, annot = True)\n",
        "plt.title(\"Confusion Matrix untuk Model LDA\")\n",
        "plt.xlabel(\"Actual Values\")\n",
        "plt.ylabel(\"Predicted Values\")\n",
        "plt.show()"
      ]
    },
    {
      "cell_type": "markdown",
      "metadata": {
        "id": "vuDXpu4Nw-4d"
      },
      "source": [
        "Dari confusion matrix di atas diperoleh hasil sebagai berikut :\n",
        "\n",
        "* Sekitar 76% peminjam yang diprediksi tidak akan default dan peminjam tersebut memang tidak default\n",
        "\n",
        "* Sekitar 12% peminjam yang diprediksi tidak akan default tetapi peminjam tersebut default \n",
        "\n",
        "* Sekitar 2.4% peminjam yang diprediksi akan default tetapi peminjam tersebut tidak default \n",
        "\n",
        "* Sekitar 9.4% peminjam yang diprediksi akan default dan peminjam tersebut default\n",
        "\n",
        "Perhatikan bahwa model hanya dapat memprediksi sedikit peminjam yang akan default"
      ]
    },
    {
      "cell_type": "code",
      "execution_count": null,
      "metadata": {
        "id": "4DemXuC2xGsS"
      },
      "outputs": [],
      "source": [
        "# Liat classification reportnya\n",
        "print(classification_report(y_test, y_predict_lda))"
      ]
    },
    {
      "cell_type": "markdown",
      "metadata": {
        "id": "axGCAj7MGMj8"
      },
      "source": [
        "Perbedaan skor precision, recall, f1-scorenya cukup jomplang, akurasi juga lebih rendah dari model SVM dan regresi logistik"
      ]
    },
    {
      "cell_type": "code",
      "source": [
        "# Liat ROC-AUC Curve\n",
        "## generate a no skill prediction (majority class)\n",
        "## Prediksi peluangnya\n",
        "y_pred_prob_lda = pipeline_lda.predict_proba(X_test_linear)\n",
        "## Ambil peluang untuk yang level 1\n",
        "lda_probs = y_pred_prob_lr[:, 1]\n",
        "## calculate scores\n",
        "ns_auc = roc_auc_score(y_test, ns_probs)\n",
        "lda_auc = roc_auc_score(y_test, lda_probs)\n",
        "## summarize scores\n",
        "print('No Skill: ROC AUC=%.3f' % (ns_auc))\n",
        "print('LDA: ROC AUC=%.3f' % (lda_auc))"
      ],
      "metadata": {
        "id": "-2F_njEPyUnM"
      },
      "execution_count": null,
      "outputs": []
    },
    {
      "cell_type": "code",
      "source": [
        "## calculate roc curves\n",
        "ns_fpr, ns_tpr, _ = roc_curve(y_test, ns_probs)\n",
        "lda_fpr, lda_tpr, _ = roc_curve(y_test, lda_probs)\n",
        "## plot the roc curve for the model\n",
        "plt.plot(ns_fpr, ns_tpr, linestyle='--', label='No Skill')\n",
        "plt.plot(lda_fpr, lda_tpr, marker='.', label='LDA')\n",
        "## axis labels\n",
        "plt.xlabel('False Positive Rate')\n",
        "plt.ylabel('True Positive Rate')\n",
        "## show the legend\n",
        "plt.legend()\n",
        "## show the plot\n",
        "plt.title(\"ROC Curve for Linear Discriminant Analysis\")\n",
        "plt.show()"
      ],
      "metadata": {
        "id": "y9T5FpeyyW-r"
      },
      "execution_count": null,
      "outputs": []
    },
    {
      "cell_type": "markdown",
      "metadata": {
        "id": "tzbVAgwExP14"
      },
      "source": [
        "## Model Tree"
      ]
    },
    {
      "cell_type": "markdown",
      "metadata": {
        "id": "2yp_SysSGS63"
      },
      "source": [
        "### Decision Tree Classifier"
      ]
    },
    {
      "cell_type": "code",
      "execution_count": null,
      "metadata": {
        "id": "Z6atVhFJI45Y"
      },
      "outputs": [],
      "source": [
        "# categorical columns\n",
        "cat_col_train = [col for col in X_train.columns if X_train[col].dtypes == 'object']\n",
        "cat_col_test = [col for col in X_test.columns if X_test[col].dtypes == 'object']"
      ]
    },
    {
      "cell_type": "code",
      "execution_count": null,
      "metadata": {
        "id": "nAWt3m5eJmdg"
      },
      "outputs": [],
      "source": [
        "# Label encoding\n",
        "encoder = LabelEncoder()\n",
        "\n",
        "# Buat copy Data Train\n",
        "X_train_tree = X_train.copy()\n",
        "for col in cat_col_train:\n",
        "  encoder.fit(X_train[col])\n",
        "  X_train_tree[col] = encoder.transform(X_train[col])\n",
        "\n",
        "X_test_tree = X_test.copy()\n",
        "for col in cat_col_train:\n",
        "  encoder.fit(X_test[col])\n",
        "  X_test_tree[col] = encoder.transform(X_test[col])\n"
      ]
    },
    {
      "cell_type": "code",
      "execution_count": null,
      "metadata": {
        "id": "I_H-K_oMwdtk"
      },
      "outputs": [],
      "source": [
        "# Select 20 best feature\n",
        "selector = SelectKBest(score_func = f_classif, k = 20)\n",
        "selector.fit(X_train_tree, y_train)\n",
        "cols = selector.get_support(indices = True)\n",
        "X_train_tree = X_train_tree.iloc[:,cols]\n",
        "X_test_tree = X_test_tree.reindex(labels = X_train_tree.columns, axis = 1)"
      ]
    },
    {
      "cell_type": "code",
      "execution_count": null,
      "metadata": {
        "id": "1gwaVvSkwsul"
      },
      "outputs": [],
      "source": [
        "X_train_tree = X_train_tree.drop(['total_pymnt_inv','out_prncp_inv'], axis = 1)\n",
        "X_test_tree = X_test_tree.drop(['total_pymnt_inv','out_prncp_inv'], axis = 1)"
      ]
    },
    {
      "cell_type": "markdown",
      "metadata": {
        "id": "QVV5U9_FMZMQ"
      },
      "source": [
        "#### Cross Validation"
      ]
    },
    {
      "cell_type": "code",
      "source": [
        "''' # Proses Hyperparameter Tuning\n",
        "dec_tree = DecisionTreeClassifier(max_leaf_nodes = None)\n",
        "\n",
        "pipeline_dectree = Pipeline(steps = [('over', over),\n",
        "                                    ('under', under),\n",
        "                                    ('model', dectree)])\n",
        "\n",
        "grid_dectree = {'max_depth' : [3,5,7,9,12], \n",
        "'model__min_samples_split' : [2,5,10],\n",
        "'model__min_samples_leaf' : [1,2,5,10]}\n",
        "\n",
        "dectree_cv = RandomizedSearchCV(pipeline_dectree, grid_dectree, scoring='roc_auc', cv = 3, random_state = 111)\n",
        "dectree_cv.fit(X_train_tree, y_train)\n",
        "'''"
      ],
      "metadata": {
        "id": "MXFUdfKdL9uH"
      },
      "execution_count": null,
      "outputs": []
    },
    {
      "cell_type": "code",
      "execution_count": null,
      "metadata": {
        "id": "fF8Oq-P4GU3r"
      },
      "outputs": [],
      "source": [
        "# Buat Pipeline\n",
        "dec_tree = DecisionTreeClassifier(min_samples_split = 10, min_samples_leaf = 1, max_leaf_nodes = None, max_depth = 12)\n",
        "\n",
        "pipeline_dec_tree = Pipeline(steps = [('over', over),\n",
        "                                    ('under', under),\n",
        "                                    ('model', dec_tree)])\n",
        "\n",
        "scores_dec_tree = cross_val_score(pipeline_dec_tree, X_train_tree, y_train, scoring='roc_auc', cv=3, n_jobs=-1)\n",
        "print('Mean ROC AUC: %.3f' % np.mean(scores_dec_tree))"
      ]
    },
    {
      "cell_type": "markdown",
      "metadata": {
        "id": "Vdn0iP7jMOWx"
      },
      "source": [
        "Skor ROC-AUC lebih tinggi dibandingkan semua model linear"
      ]
    },
    {
      "cell_type": "markdown",
      "metadata": {
        "id": "CmfrEMP6MUxJ"
      },
      "source": [
        "#### Diagnostic"
      ]
    },
    {
      "cell_type": "code",
      "execution_count": null,
      "metadata": {
        "id": "6GeKQN4LMRkH"
      },
      "outputs": [],
      "source": [
        "# Predict\n",
        "pipeline_dec_tree.fit(X_train_tree, y_train)\n",
        "y_predict_dec_tree = pipeline_dec_tree.predict(X_test_tree) "
      ]
    },
    {
      "cell_type": "code",
      "execution_count": null,
      "metadata": {
        "id": "SygIipslMq4X"
      },
      "outputs": [],
      "source": [
        "# Liat confusion matrix\n",
        "conf_matrix_dec_tree = confusion_matrix(y_test, y_predict_dec_tree)\n",
        "conf_matrix_percentage_dec_tree = (conf_matrix_dec_tree/X_test_tree.shape[0])*100\n",
        "sns.heatmap(conf_matrix_percentage_dec_tree, annot = True)\n",
        "plt.title(\"Confusion Matrix untuk Model Decision Tree\")\n",
        "plt.xlabel(\"Actual Values\")\n",
        "plt.ylabel(\"Predicted Values\")\n",
        "plt.show()"
      ]
    },
    {
      "cell_type": "markdown",
      "metadata": {
        "id": "Czah_27-M1dF"
      },
      "source": [
        "Dari confusion matrix di atas diperoleh hasil sebagai berikut :\n",
        "\n",
        "* Sekitar 87% peminjam yang diprediksi tidak akan default dan peminjam tersebut memang tidak default\n",
        "\n",
        "* Sekitar 1.4% peminjam yang diprediksi tidak akan default tetapi peminjam tersebut default \n",
        "\n",
        "* Sekitar 1.4% peminjam yang diprediksi akan default tetapi peminjam tersebut tidak default \n",
        "\n",
        "* Sekitar 11% peminjam yang diprediksi akan default dan peminjam tersebut default\n",
        "\n",
        "Perhatikan bahwa model hanya dapat memprediksi sedikit peminjam yang akan default tetapi jauh lebih banyak dibandingkan model linear"
      ]
    },
    {
      "cell_type": "code",
      "execution_count": null,
      "metadata": {
        "id": "vlK-NciIM88p"
      },
      "outputs": [],
      "source": [
        "# Liat classification reportnya\n",
        "print(classification_report(y_test, y_predict_dec_tree))"
      ]
    },
    {
      "cell_type": "markdown",
      "metadata": {
        "id": "4uocbbzjNBXW"
      },
      "source": [
        "Perbedaan skor precision, recall, f1-scorenya tidak jomplang antara label 0 dan label 1, sementara akurasinya 97% :)"
      ]
    },
    {
      "cell_type": "code",
      "source": [
        "# Liat ROC-AUC Curve\n",
        "## generate a no skill prediction (majority class)\n",
        "## Prediksi peluangnya\n",
        "y_pred_prob_dectree = pipeline_dec_tree.predict_proba(X_test_tree)\n",
        "## Ambil peluang untuk yang level 1\n",
        "dectree_probs = y_pred_prob_dectree[:, 1]\n",
        "## calculate scores\n",
        "ns_auc = roc_auc_score(y_test, ns_probs)\n",
        "dectree_auc = roc_auc_score(y_test, dectree_probs)\n",
        "## summarize scores\n",
        "print('No Skill: ROC AUC=%.3f' % (ns_auc))\n",
        "print('Decision Tree: ROC AUC=%.3f' % (dectree_auc))"
      ],
      "metadata": {
        "id": "gBn4Y91AyqL8"
      },
      "execution_count": null,
      "outputs": []
    },
    {
      "cell_type": "code",
      "source": [
        "## calculate roc curves\n",
        "ns_fpr, ns_tpr, _ = roc_curve(y_test, ns_probs)\n",
        "dectree_fpr, dectree_tpr, _ = roc_curve(y_test, dectree_probs)\n",
        "## plot the roc curve for the model\n",
        "plt.plot(ns_fpr, ns_tpr, linestyle='--', label='No Skill')\n",
        "plt.plot(dectree_fpr, dectree_tpr, marker='.', label='Decision Tree')\n",
        "## axis labels\n",
        "plt.xlabel('False Positive Rate')\n",
        "plt.ylabel('True Positive Rate')\n",
        "## show the legend\n",
        "plt.legend()\n",
        "## show the plot\n",
        "plt.title(\"ROC Curve for Decision Tree Classifier\")\n",
        "plt.show()"
      ],
      "metadata": {
        "id": "4-2ZD66fy6WO"
      },
      "execution_count": null,
      "outputs": []
    },
    {
      "cell_type": "markdown",
      "metadata": {
        "id": "a0iO-sTbNZBO"
      },
      "source": [
        "### Random Forest Classifier"
      ]
    },
    {
      "cell_type": "markdown",
      "metadata": {
        "id": "Es4fM67GNdb4"
      },
      "source": [
        "#### Cross Validation"
      ]
    },
    {
      "cell_type": "code",
      "source": [
        "''' # Proses Hyperparameter Tuning\n",
        "rforest = RandomForestClassifier(max_depth = 3)\n",
        "\n",
        "pipeline_rforest = Pipeline(steps = [('over', over),\n",
        "                                    ('under', under),\n",
        "                                    ('model', rforest)])\n",
        "\n",
        "grid_rforest = {'model__min_samples_split' : [2,5,10],\n",
        "'model__min_samples_leaf' : [1,2,5,10]}\n",
        "\n",
        "rforest_cv = RandomizedSearchCV(pipeline_rforest, grid_rforest, scoring='roc_auc', cv = 3, random_state = 111)\n",
        "rforest_cv.fit(X_train_tree, y_train)\n",
        "'''"
      ],
      "metadata": {
        "id": "wNSTX5ChLfKn"
      },
      "execution_count": null,
      "outputs": []
    },
    {
      "cell_type": "code",
      "execution_count": null,
      "metadata": {
        "id": "zsZAhunmNbMI"
      },
      "outputs": [],
      "source": [
        "# Buat Pipeline\n",
        "rforest = RandomForestClassifier(max_depth = 3, min_samples_split = 2, min_samples_leaf = 1)\n",
        "\n",
        "pipeline_rforest = Pipeline(steps = [('over', over),\n",
        "                                    ('under', under),\n",
        "                                    ('model', rforest)])\n",
        "\n",
        "scores_rforest = cross_val_score(pipeline_rforest, X_train_tree, y_train, scoring='roc_auc', cv=3, n_jobs=-1)\n",
        "print('Mean ROC AUC: %.3f' % np.mean(scores_rforest))"
      ]
    },
    {
      "cell_type": "markdown",
      "source": [
        "Diperoleh 'model__min_samples_split': 2, 'model__min_samples_leaf': 1 sebagai parameter terbaik dengan skor ROC-AUC 96%"
      ],
      "metadata": {
        "id": "z0EdKaZhBP62"
      }
    },
    {
      "cell_type": "markdown",
      "source": [
        "#### Diagnostic"
      ],
      "metadata": {
        "id": "co4vKd5wnQrv"
      }
    },
    {
      "cell_type": "code",
      "source": [
        "# Predict\n",
        "pipeline_rforest.fit(X_train_tree, y_train)\n",
        "y_predict_rforest = pipeline_rforest.predict(X_test_tree) "
      ],
      "metadata": {
        "id": "gqBbbfCtnCW_"
      },
      "execution_count": null,
      "outputs": []
    },
    {
      "cell_type": "code",
      "source": [
        "# Liat confusion matrix\n",
        "conf_matrix_rforest = confusion_matrix(y_test, y_predict_rforest)\n",
        "conf_matrix_percentage_rforest = (conf_matrix_rforest/X_test_tree.shape[0])*100\n",
        "sns.heatmap(conf_matrix_percentage_dec_tree, annot = True)\n",
        "plt.title(\"Confusion Matrix untuk Model Random Forest\")\n",
        "plt.xlabel(\"Actual Values\")\n",
        "plt.ylabel(\"Predicted Values\")\n",
        "plt.show()"
      ],
      "metadata": {
        "id": "5aD1C5l2nWBW"
      },
      "execution_count": null,
      "outputs": []
    },
    {
      "cell_type": "markdown",
      "source": [
        "Dari confusion matrix di atas diperoleh hasil sebagai berikut :\n",
        "\n",
        "* Sekitar 87% peminjam yang diprediksi tidak akan default dan peminjam tersebut memang tidak default\n",
        "\n",
        "* Sekitar 1.3% peminjam yang diprediksi tidak akan default tetapi peminjam tersebut default \n",
        "\n",
        "* Sekitar 1.4% peminjam yang diprediksi akan default tetapi peminjam tersebut tidak default \n",
        "\n",
        "* Sekitar 11% peminjam yang diprediksi akan default dan peminjam tersebut default\n",
        "\n",
        "Perhatikan bahwa model hanya dapat memprediksi sedikit peminjam yang akan default tetapi jauh lebih banyak dibandingkan model linear"
      ],
      "metadata": {
        "id": "aUlWQD8Gx__1"
      }
    },
    {
      "cell_type": "code",
      "source": [
        "# Liat classification reportnya\n",
        "print(classification_report(y_test, y_predict_rforest))"
      ],
      "metadata": {
        "id": "gpXcb2d1ndyI"
      },
      "execution_count": null,
      "outputs": []
    },
    {
      "cell_type": "markdown",
      "source": [
        "Perbedaan skor precision, recall, f1-scorenya jomplang antara label 0 dan label 1"
      ],
      "metadata": {
        "id": "EENofMIGyFgm"
      }
    },
    {
      "cell_type": "code",
      "source": [
        "# Liat ROC-AUC Curve\n",
        "## generate a no skill prediction (majority class)\n",
        "## Prediksi peluangnya\n",
        "y_pred_prob_rforest = pipeline_rforest.predict_proba(X_test_tree)\n",
        "## Ambil peluang untuk yang level 1\n",
        "rforest_probs = y_pred_prob_rforest[:, 1]\n",
        "## calculate scores\n",
        "ns_auc = roc_auc_score(y_test, ns_probs)\n",
        "rforest_auc = roc_auc_score(y_test, rforest_probs)\n",
        "## summarize scores\n",
        "print('No Skill: ROC AUC=%.3f' % (ns_auc))\n",
        "print('Random Forest: ROC AUC=%.3f' % (rforest_auc))"
      ],
      "metadata": {
        "id": "dS_HY9mvzXwx"
      },
      "execution_count": null,
      "outputs": []
    },
    {
      "cell_type": "code",
      "source": [
        "## calculate roc curves\n",
        "ns_fpr, ns_tpr, _ = roc_curve(y_test, ns_probs)\n",
        "rforest_fpr, rforest_tpr, _ = roc_curve(y_test, rforest_probs)\n",
        "## plot the roc curve for the model\n",
        "plt.plot(ns_fpr, ns_tpr, linestyle='--', label='No Skill')\n",
        "plt.plot(rforest_fpr, rforest_tpr, marker='.', label='Random Forest')\n",
        "## axis labels\n",
        "plt.xlabel('False Positive Rate')\n",
        "plt.ylabel('True Positive Rate')\n",
        "## show the legend\n",
        "plt.legend()\n",
        "## show the plot\n",
        "plt.title(\"ROC Curve for Random Forest Classifier\")\n",
        "plt.show()"
      ],
      "metadata": {
        "id": "gn3ZZGTHzh6R"
      },
      "execution_count": null,
      "outputs": []
    },
    {
      "cell_type": "markdown",
      "source": [
        "## Hasil Pemodelan"
      ],
      "metadata": {
        "id": "ioc3pv2pztwT"
      }
    },
    {
      "cell_type": "markdown",
      "source": [
        "### Kurva ROC"
      ],
      "metadata": {
        "id": "5Uk8cpu2zvuy"
      }
    },
    {
      "cell_type": "code",
      "source": [
        "plt.style.use('bmh')\n",
        "plt.plot(ns_fpr, ns_tpr, linestyle='--', label='No Skill')\n",
        "plt.plot(lr_fpr, lr_tpr, linestyle=':', label='Logistic Regression')\n",
        "plt.plot(lda_fpr, lda_tpr, linestyle = '-', label='LDA')\n",
        "plt.plot(dectree_fpr, dectree_tpr, linestyle = '-.', label='Decision Tree')\n",
        "plt.plot(rforest_fpr, rforest_tpr, linestyle = 'dashed', label='Random Forest')\n",
        "## axis labels\n",
        "plt.xlabel('False Positive Rate')\n",
        "plt.ylabel('True Positive Rate')\n",
        "## show the legend\n",
        "plt.legend()\n",
        "## show the plot\n",
        "plt.title(\"ROC Curve for Various Model\")\n",
        "plt.show()"
      ],
      "metadata": {
        "id": "1mcYp48uzyql"
      },
      "execution_count": null,
      "outputs": []
    },
    {
      "cell_type": "markdown",
      "source": [
        "Dapat diperoleh bahwa model Decision Tree adalah model klasifikasi terbaik untuk kasus ini, mari kita lihat feature importance dari model decision tree"
      ],
      "metadata": {
        "id": "eE-E5aCJ1kTY"
      }
    },
    {
      "cell_type": "markdown",
      "source": [
        "### Feature Importance"
      ],
      "metadata": {
        "id": "eAY8pE6V1tKI"
      }
    },
    {
      "cell_type": "code",
      "source": [
        "feature_importances = pipeline_dec_tree.named_steps[\"model\"].feature_importances_\n",
        "feature_names = X_train_tree.columns\n",
        "\n",
        "dict_fi = {\"Feature\" : feature_names, \"Importance\" : feature_importances}\n",
        "\n",
        "df_fi = pd.DataFrame(dict_fi)\n"
      ],
      "metadata": {
        "id": "xyA6yLhc1uua"
      },
      "execution_count": null,
      "outputs": []
    },
    {
      "cell_type": "code",
      "source": [
        "sns.barplot(data = df_fi.sort_values(by = 'Importance', ascending = False), x = 'Importance', y = 'Feature', color = 'green')\n",
        "plt.title(\"Feature Importance by Decision Tree Classifier\")\n",
        "plt.show()"
      ],
      "metadata": {
        "id": "-r4G85xP3uRS"
      },
      "execution_count": null,
      "outputs": []
    },
    {
      "cell_type": "markdown",
      "source": [
        "Fitur recoveries paling berkontribusi dalam model tersebut diikuti oleh last_pymnt_d, last_pymnt_amnt"
      ],
      "metadata": {
        "id": "vHOqLtd54H5K"
      }
    },
    {
      "cell_type": "markdown",
      "metadata": {
        "id": "lwICZRpcjTnk"
      },
      "source": [
        "# Kesimpulan\n",
        "Dari EDA di atas dapat diperoleh hasil analisis sebagai berikut\n",
        "1. Analisis Deskriptif:\n",
        "  * Terdapat kesetimbangan antara uang yang ingin dipinjam oleh peminjam dengan jumlah yang diberikan oleh pihak Lender\n",
        "  * Jumlah peminjam seiring waktu menaik hingga pada tahun 2014, diperoleh jumlah peminjam yang menaik dan menurun. Selain itu, jumlah peminjam yang tidak terlambat dalam mengembalikan pinjamannya lebih banyak dibandingkan jumlah peminjam yang terlambat mengembalikan pinjamannya\n",
        "  * Mayoritas peminjam meminjam uang untuk membayar hutang lainnya\n",
        "  * Peminjam yang Charged Off paling banyak dibandingkan dengan kategori risiko lainnya\n",
        "  * Peringkat dapat merepresentasikan kualitas peminjam tetapi tidak menjamin bahwa peminjam tersebut dapat terkategori current atau default\n",
        "  * Peminjam yang Charged Off cenderung memiliki median income yang lebih rendah dibandingkan dengan kategori berisiko lainnya, sementara peminjam yang Current memiliki median income yang lebih tinggi dibandingkan peminjam berisiko\n",
        "  * Peminjam peringkat G memiliki median income yang lebih tinggi dibandingkan kategori lainnya, padahal peminjam peringkat G risikonya jauh lebih tinggi dibandingkan dengan lainnya. \n",
        "\n",
        "2. Analisis Diagnostik :    \n",
        "  * Jumlah peminjam yang menaik dan menurun saat 2014, bisa jadi disebabkan oleh perusahaan tersebut ingin memperketat syarat peminjaman atau suku bunganya dinaikkan \n",
        "  * Terdapat korelasi yang positif antara annual income peminjam dengan jumlah uang yang ingin dipinjamkan\n",
        "  * Detail analisis korelasi dapat dilihat di sub bagian analisis korelasi di bagian pemodelan\n",
        "\n",
        "3. Analisis Prediktif :\n",
        "  * Diperoleh model Decision Tree Classifier adalah model terbaik dalam memprediksi variabel target dengan skor ROC-AUC 98%"
      ]
    }
  ],
  "metadata": {
    "colab": {
      "collapsed_sections": [],
      "name": "Credit Risk Modeling.ipynb",
      "toc_visible": true,
      "provenance": []
    },
    "kernelspec": {
      "display_name": "Python 3",
      "name": "python3"
    },
    "language_info": {
      "name": "python"
    }
  },
  "nbformat": 4,
  "nbformat_minor": 0
}